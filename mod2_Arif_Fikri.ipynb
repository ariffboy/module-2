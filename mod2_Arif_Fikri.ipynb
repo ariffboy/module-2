{
 "cells": [
  {
   "cell_type": "markdown",
   "metadata": {
    "id": "fkii1zojonA_"
   },
   "source": [
    "<center><h1>Module 2 Assignment</h1></center>"
   ]
  },
  {
   "cell_type": "markdown",
   "metadata": {
    "id": "uJeQlcPoonBD"
   },
   "source": [
    "# Choose a dataset\n",
    "\n",
    "Choose a dataset from [NYC Open Data](https://opendata.cityofnewyork.us/) that is available in CSV format (look at the format labels in the list of datasets). Choose one that has at least 2 numerical value columns and 1 string value column. \n",
    "\n",
    "If it's a CSV file you may be able to directly read it with pandas\n",
    "```\n",
    "pd.read_csv(url)\n",
    "```\n",
    "\n",
    "If it is a compressed file (.zip, .gz, etc.), download the zip and unpack it, then read it in with pandas\n",
    "```\n",
    "pd.read_csv(<filename>.csv)\n",
    "```"
   ]
  },
  {
   "cell_type": "code",
   "execution_count": 92,
   "metadata": {
    "id": "ECatheJSpJuU"
   },
   "outputs": [],
   "source": [
    "import pandas as pd"
   ]
  },
  {
   "cell_type": "code",
   "execution_count": 93,
   "metadata": {
    "id": "JjiLSwbbonBE"
   },
   "outputs": [],
   "source": [
    "data=pd.read_csv(\"Competitive_Sealed_Bid_Cycle_Time_by_Agency_and_Fiscal_Year.csv\")"
   ]
  },
  {
   "cell_type": "markdown",
   "metadata": {
    "id": "zoRem4VO97ug"
   },
   "source": [
    "Deskripsi\n",
    "\n",
    "* Fiscal Year : Reporting fiscal year\n",
    "* Agency : Name of the agency\n",
    "* Median Cycle Time in Days : Citywide median cycle time (days) for competitive sealed bids (CSBs)\n",
    "* Count : Count of CSB contracts\n"
   ]
  },
  {
   "cell_type": "code",
   "execution_count": 94,
   "metadata": {
    "colab": {
     "base_uri": "https://localhost:8080/"
    },
    "id": "sPSfREzm_-8L",
    "outputId": "8792150c-fb53-4e8d-e49e-576c3296fc86"
   },
   "outputs": [
    {
     "data": {
      "text/plain": [
       "50"
      ]
     },
     "execution_count": 94,
     "metadata": {},
     "output_type": "execute_result"
    }
   ],
   "source": [
    "len(data.index)\n"
   ]
  },
  {
   "cell_type": "code",
   "execution_count": 95,
   "metadata": {
    "colab": {
     "base_uri": "https://localhost:8080/"
    },
    "id": "X4f6_2fhAvLg",
    "outputId": "e96d6fab-7a48-4bd7-b9c1-d852e9f96c2e"
   },
   "outputs": [
    {
     "data": {
      "text/plain": [
       "4"
      ]
     },
     "execution_count": 95,
     "metadata": {},
     "output_type": "execute_result"
    }
   ],
   "source": [
    "len(data.columns)\n"
   ]
  },
  {
   "cell_type": "markdown",
   "metadata": {
    "id": "zbGNR9RWonBF"
   },
   "source": [
    "## Display top 7 rows of the dataframe in your notebook"
   ]
  },
  {
   "cell_type": "code",
   "execution_count": 96,
   "metadata": {},
   "outputs": [
    {
     "data": {
      "text/html": [
       "<div>\n",
       "<style scoped>\n",
       "    .dataframe tbody tr th:only-of-type {\n",
       "        vertical-align: middle;\n",
       "    }\n",
       "\n",
       "    .dataframe tbody tr th {\n",
       "        vertical-align: top;\n",
       "    }\n",
       "\n",
       "    .dataframe thead th {\n",
       "        text-align: right;\n",
       "    }\n",
       "</style>\n",
       "<table border=\"1\" class=\"dataframe\">\n",
       "  <thead>\n",
       "    <tr style=\"text-align: right;\">\n",
       "      <th></th>\n",
       "      <th>Fiscal Year</th>\n",
       "      <th>Agency</th>\n",
       "      <th>Median Cycle Time in Days</th>\n",
       "      <th>Count</th>\n",
       "    </tr>\n",
       "  </thead>\n",
       "  <tbody>\n",
       "    <tr>\n",
       "      <th>0</th>\n",
       "      <td>2020</td>\n",
       "      <td>ACS</td>\n",
       "      <td>192.0</td>\n",
       "      <td>2</td>\n",
       "    </tr>\n",
       "    <tr>\n",
       "      <th>1</th>\n",
       "      <td>2020</td>\n",
       "      <td>DCAS</td>\n",
       "      <td>114.0</td>\n",
       "      <td>108</td>\n",
       "    </tr>\n",
       "    <tr>\n",
       "      <th>2</th>\n",
       "      <td>2020</td>\n",
       "      <td>DDC</td>\n",
       "      <td>192.0</td>\n",
       "      <td>59</td>\n",
       "    </tr>\n",
       "    <tr>\n",
       "      <th>3</th>\n",
       "      <td>2020</td>\n",
       "      <td>DEP</td>\n",
       "      <td>157.0</td>\n",
       "      <td>65</td>\n",
       "    </tr>\n",
       "    <tr>\n",
       "      <th>4</th>\n",
       "      <td>2020</td>\n",
       "      <td>DOB</td>\n",
       "      <td>133.0</td>\n",
       "      <td>1</td>\n",
       "    </tr>\n",
       "    <tr>\n",
       "      <th>5</th>\n",
       "      <td>2020</td>\n",
       "      <td>DOC</td>\n",
       "      <td>191.0</td>\n",
       "      <td>7</td>\n",
       "    </tr>\n",
       "    <tr>\n",
       "      <th>6</th>\n",
       "      <td>2020</td>\n",
       "      <td>DOF</td>\n",
       "      <td>279.0</td>\n",
       "      <td>4</td>\n",
       "    </tr>\n",
       "    <tr>\n",
       "      <th>7</th>\n",
       "      <td>2020</td>\n",
       "      <td>DOT</td>\n",
       "      <td>195.0</td>\n",
       "      <td>34</td>\n",
       "    </tr>\n",
       "  </tbody>\n",
       "</table>\n",
       "</div>"
      ],
      "text/plain": [
       "   Fiscal Year Agency  Median Cycle Time in Days  Count\n",
       "0         2020    ACS                      192.0      2\n",
       "1         2020   DCAS                      114.0    108\n",
       "2         2020    DDC                      192.0     59\n",
       "3         2020    DEP                      157.0     65\n",
       "4         2020    DOB                      133.0      1\n",
       "5         2020    DOC                      191.0      7\n",
       "6         2020    DOF                      279.0      4\n",
       "7         2020    DOT                      195.0     34"
      ]
     },
     "execution_count": 96,
     "metadata": {},
     "output_type": "execute_result"
    }
   ],
   "source": [
    "data.head(8)"
   ]
  },
  {
   "cell_type": "markdown",
   "metadata": {
    "id": "4YB68HJKonBF"
   },
   "source": [
    "\n",
    "\n",
    "## Count number of null values (if any) for each column"
   ]
  },
  {
   "cell_type": "code",
   "execution_count": 97,
   "metadata": {
    "colab": {
     "base_uri": "https://localhost:8080/"
    },
    "id": "8HNDyVZ0onBF",
    "outputId": "9925f7bc-d707-44da-ba70-124702b3c51a"
   },
   "outputs": [
    {
     "data": {
      "text/plain": [
       "Fiscal Year                  0\n",
       "Agency                       0\n",
       "Median Cycle Time in Days    0\n",
       "Count                        0\n",
       "dtype: int64"
      ]
     },
     "execution_count": 97,
     "metadata": {},
     "output_type": "execute_result"
    }
   ],
   "source": [
    "data.isna().sum()"
   ]
  },
  {
   "cell_type": "markdown",
   "metadata": {
    "id": "QkptQFPnonBG"
   },
   "source": [
    "## Remove all but 2 numerical values columns of your choice and display the reducted dataframe."
   ]
  },
  {
   "cell_type": "code",
   "execution_count": 98,
   "metadata": {
    "colab": {
     "base_uri": "https://localhost:8080/",
     "height": 1000
    },
    "id": "0Xvpoc2LonBG",
    "outputId": "ad72b93a-778c-426a-ac03-1a281e5b6d9e"
   },
   "outputs": [
    {
     "data": {
      "text/html": [
       "<div>\n",
       "<style scoped>\n",
       "    .dataframe tbody tr th:only-of-type {\n",
       "        vertical-align: middle;\n",
       "    }\n",
       "\n",
       "    .dataframe tbody tr th {\n",
       "        vertical-align: top;\n",
       "    }\n",
       "\n",
       "    .dataframe thead th {\n",
       "        text-align: right;\n",
       "    }\n",
       "</style>\n",
       "<table border=\"1\" class=\"dataframe\">\n",
       "  <thead>\n",
       "    <tr style=\"text-align: right;\">\n",
       "      <th></th>\n",
       "      <th>Count</th>\n",
       "      <th>Median Cycle Time in Days</th>\n",
       "    </tr>\n",
       "  </thead>\n",
       "  <tbody>\n",
       "    <tr>\n",
       "      <th>0</th>\n",
       "      <td>2</td>\n",
       "      <td>192.0</td>\n",
       "    </tr>\n",
       "    <tr>\n",
       "      <th>1</th>\n",
       "      <td>108</td>\n",
       "      <td>114.0</td>\n",
       "    </tr>\n",
       "    <tr>\n",
       "      <th>2</th>\n",
       "      <td>59</td>\n",
       "      <td>192.0</td>\n",
       "    </tr>\n",
       "    <tr>\n",
       "      <th>3</th>\n",
       "      <td>65</td>\n",
       "      <td>157.0</td>\n",
       "    </tr>\n",
       "    <tr>\n",
       "      <th>4</th>\n",
       "      <td>1</td>\n",
       "      <td>133.0</td>\n",
       "    </tr>\n",
       "    <tr>\n",
       "      <th>5</th>\n",
       "      <td>7</td>\n",
       "      <td>191.0</td>\n",
       "    </tr>\n",
       "    <tr>\n",
       "      <th>6</th>\n",
       "      <td>4</td>\n",
       "      <td>279.0</td>\n",
       "    </tr>\n",
       "    <tr>\n",
       "      <th>7</th>\n",
       "      <td>34</td>\n",
       "      <td>195.0</td>\n",
       "    </tr>\n",
       "    <tr>\n",
       "      <th>8</th>\n",
       "      <td>112</td>\n",
       "      <td>242.0</td>\n",
       "    </tr>\n",
       "    <tr>\n",
       "      <th>9</th>\n",
       "      <td>5</td>\n",
       "      <td>232.0</td>\n",
       "    </tr>\n",
       "    <tr>\n",
       "      <th>10</th>\n",
       "      <td>8</td>\n",
       "      <td>187.0</td>\n",
       "    </tr>\n",
       "    <tr>\n",
       "      <th>11</th>\n",
       "      <td>4</td>\n",
       "      <td>604.0</td>\n",
       "    </tr>\n",
       "    <tr>\n",
       "      <th>12</th>\n",
       "      <td>8</td>\n",
       "      <td>199.0</td>\n",
       "    </tr>\n",
       "    <tr>\n",
       "      <th>13</th>\n",
       "      <td>4</td>\n",
       "      <td>266.0</td>\n",
       "    </tr>\n",
       "    <tr>\n",
       "      <th>14</th>\n",
       "      <td>3</td>\n",
       "      <td>355.0</td>\n",
       "    </tr>\n",
       "    <tr>\n",
       "      <th>15</th>\n",
       "      <td>125</td>\n",
       "      <td>113.0</td>\n",
       "    </tr>\n",
       "    <tr>\n",
       "      <th>16</th>\n",
       "      <td>72</td>\n",
       "      <td>135.0</td>\n",
       "    </tr>\n",
       "    <tr>\n",
       "      <th>17</th>\n",
       "      <td>54</td>\n",
       "      <td>170.0</td>\n",
       "    </tr>\n",
       "    <tr>\n",
       "      <th>18</th>\n",
       "      <td>7</td>\n",
       "      <td>341.0</td>\n",
       "    </tr>\n",
       "    <tr>\n",
       "      <th>19</th>\n",
       "      <td>1</td>\n",
       "      <td>69.0</td>\n",
       "    </tr>\n",
       "    <tr>\n",
       "      <th>20</th>\n",
       "      <td>6</td>\n",
       "      <td>251.5</td>\n",
       "    </tr>\n",
       "    <tr>\n",
       "      <th>21</th>\n",
       "      <td>2</td>\n",
       "      <td>337.0</td>\n",
       "    </tr>\n",
       "    <tr>\n",
       "      <th>22</th>\n",
       "      <td>3</td>\n",
       "      <td>213.0</td>\n",
       "    </tr>\n",
       "    <tr>\n",
       "      <th>23</th>\n",
       "      <td>1</td>\n",
       "      <td>169.0</td>\n",
       "    </tr>\n",
       "    <tr>\n",
       "      <th>24</th>\n",
       "      <td>37</td>\n",
       "      <td>154.0</td>\n",
       "    </tr>\n",
       "    <tr>\n",
       "      <th>25</th>\n",
       "      <td>103</td>\n",
       "      <td>179.0</td>\n",
       "    </tr>\n",
       "    <tr>\n",
       "      <th>26</th>\n",
       "      <td>10</td>\n",
       "      <td>155.0</td>\n",
       "    </tr>\n",
       "    <tr>\n",
       "      <th>27</th>\n",
       "      <td>6</td>\n",
       "      <td>123.5</td>\n",
       "    </tr>\n",
       "    <tr>\n",
       "      <th>28</th>\n",
       "      <td>13</td>\n",
       "      <td>295.0</td>\n",
       "    </tr>\n",
       "    <tr>\n",
       "      <th>29</th>\n",
       "      <td>6</td>\n",
       "      <td>232.0</td>\n",
       "    </tr>\n",
       "    <tr>\n",
       "      <th>30</th>\n",
       "      <td>5</td>\n",
       "      <td>177.0</td>\n",
       "    </tr>\n",
       "    <tr>\n",
       "      <th>31</th>\n",
       "      <td>1</td>\n",
       "      <td>217.0</td>\n",
       "    </tr>\n",
       "    <tr>\n",
       "      <th>32</th>\n",
       "      <td>2</td>\n",
       "      <td>252.0</td>\n",
       "    </tr>\n",
       "    <tr>\n",
       "      <th>33</th>\n",
       "      <td>187</td>\n",
       "      <td>148.0</td>\n",
       "    </tr>\n",
       "    <tr>\n",
       "      <th>34</th>\n",
       "      <td>90</td>\n",
       "      <td>209.0</td>\n",
       "    </tr>\n",
       "    <tr>\n",
       "      <th>35</th>\n",
       "      <td>64</td>\n",
       "      <td>184.5</td>\n",
       "    </tr>\n",
       "    <tr>\n",
       "      <th>36</th>\n",
       "      <td>10</td>\n",
       "      <td>262.0</td>\n",
       "    </tr>\n",
       "    <tr>\n",
       "      <th>37</th>\n",
       "      <td>2</td>\n",
       "      <td>117.0</td>\n",
       "    </tr>\n",
       "    <tr>\n",
       "      <th>38</th>\n",
       "      <td>5</td>\n",
       "      <td>204.0</td>\n",
       "    </tr>\n",
       "    <tr>\n",
       "      <th>39</th>\n",
       "      <td>3</td>\n",
       "      <td>212.0</td>\n",
       "    </tr>\n",
       "    <tr>\n",
       "      <th>40</th>\n",
       "      <td>11</td>\n",
       "      <td>181.0</td>\n",
       "    </tr>\n",
       "    <tr>\n",
       "      <th>41</th>\n",
       "      <td>2</td>\n",
       "      <td>308.5</td>\n",
       "    </tr>\n",
       "    <tr>\n",
       "      <th>42</th>\n",
       "      <td>28</td>\n",
       "      <td>196.5</td>\n",
       "    </tr>\n",
       "    <tr>\n",
       "      <th>43</th>\n",
       "      <td>112</td>\n",
       "      <td>191.5</td>\n",
       "    </tr>\n",
       "    <tr>\n",
       "      <th>44</th>\n",
       "      <td>23</td>\n",
       "      <td>140.0</td>\n",
       "    </tr>\n",
       "    <tr>\n",
       "      <th>45</th>\n",
       "      <td>12</td>\n",
       "      <td>170.5</td>\n",
       "    </tr>\n",
       "    <tr>\n",
       "      <th>46</th>\n",
       "      <td>5</td>\n",
       "      <td>194.0</td>\n",
       "    </tr>\n",
       "    <tr>\n",
       "      <th>47</th>\n",
       "      <td>9</td>\n",
       "      <td>274.0</td>\n",
       "    </tr>\n",
       "    <tr>\n",
       "      <th>48</th>\n",
       "      <td>13</td>\n",
       "      <td>195.0</td>\n",
       "    </tr>\n",
       "    <tr>\n",
       "      <th>49</th>\n",
       "      <td>1</td>\n",
       "      <td>244.0</td>\n",
       "    </tr>\n",
       "  </tbody>\n",
       "</table>\n",
       "</div>"
      ],
      "text/plain": [
       "    Count  Median Cycle Time in Days\n",
       "0       2                      192.0\n",
       "1     108                      114.0\n",
       "2      59                      192.0\n",
       "3      65                      157.0\n",
       "4       1                      133.0\n",
       "5       7                      191.0\n",
       "6       4                      279.0\n",
       "7      34                      195.0\n",
       "8     112                      242.0\n",
       "9       5                      232.0\n",
       "10      8                      187.0\n",
       "11      4                      604.0\n",
       "12      8                      199.0\n",
       "13      4                      266.0\n",
       "14      3                      355.0\n",
       "15    125                      113.0\n",
       "16     72                      135.0\n",
       "17     54                      170.0\n",
       "18      7                      341.0\n",
       "19      1                       69.0\n",
       "20      6                      251.5\n",
       "21      2                      337.0\n",
       "22      3                      213.0\n",
       "23      1                      169.0\n",
       "24     37                      154.0\n",
       "25    103                      179.0\n",
       "26     10                      155.0\n",
       "27      6                      123.5\n",
       "28     13                      295.0\n",
       "29      6                      232.0\n",
       "30      5                      177.0\n",
       "31      1                      217.0\n",
       "32      2                      252.0\n",
       "33    187                      148.0\n",
       "34     90                      209.0\n",
       "35     64                      184.5\n",
       "36     10                      262.0\n",
       "37      2                      117.0\n",
       "38      5                      204.0\n",
       "39      3                      212.0\n",
       "40     11                      181.0\n",
       "41      2                      308.5\n",
       "42     28                      196.5\n",
       "43    112                      191.5\n",
       "44     23                      140.0\n",
       "45     12                      170.5\n",
       "46      5                      194.0\n",
       "47      9                      274.0\n",
       "48     13                      195.0\n",
       "49      1                      244.0"
      ]
     },
     "metadata": {},
     "output_type": "display_data"
    }
   ],
   "source": [
    "data_2 =data[data.columns.difference([\"Agency\",\"Fiscal Year\"])]\n",
    "display(data_2)"
   ]
  },
  {
   "cell_type": "markdown",
   "metadata": {
    "id": "1ZEUpxIeonBH"
   },
   "source": [
    "## Display the average, median, and standard deviation of each of your numerical columns"
   ]
  },
  {
   "cell_type": "code",
   "execution_count": 99,
   "metadata": {
    "colab": {
     "base_uri": "https://localhost:8080/",
     "height": 87
    },
    "id": "-0Sxwi-uEufe",
    "outputId": "4599355f-1264-426e-9ebc-6d1f204c1cd5"
   },
   "outputs": [
    {
     "data": {
      "text/plain": [
       "' Nilai rata-rata dari'"
      ]
     },
     "metadata": {},
     "output_type": "display_data"
    },
    {
     "data": {
      "text/plain": [
       "Count                         29.10\n",
       "Median Cycle Time in Days    211.05\n",
       "dtype: float64"
      ]
     },
     "metadata": {},
     "output_type": "display_data"
    }
   ],
   "source": [
    "a = data_2.mean()\n",
    "display (\" Nilai rata-rata dari\", a)"
   ]
  },
  {
   "cell_type": "code",
   "execution_count": 100,
   "metadata": {
    "colab": {
     "base_uri": "https://localhost:8080/",
     "height": 87
    },
    "id": "Blk7Zz62FKks",
    "outputId": "1262df78-4c38-4b57-c501-354afaaf631f"
   },
   "outputs": [
    {
     "data": {
      "text/plain": [
       "' Nilai tengah dari '"
      ]
     },
     "metadata": {},
     "output_type": "display_data"
    },
    {
     "data": {
      "text/plain": [
       "Count                          7.5\n",
       "Median Cycle Time in Days    194.5\n",
       "dtype: float64"
      ]
     },
     "metadata": {},
     "output_type": "display_data"
    }
   ],
   "source": [
    "b = data_2.median()\n",
    "display(\" Nilai tengah dari \", b)"
   ]
  },
  {
   "cell_type": "code",
   "execution_count": 101,
   "metadata": {
    "colab": {
     "base_uri": "https://localhost:8080/",
     "height": 87
    },
    "id": "M80KOGHPFOAT",
    "outputId": "bb0ceb87-e96a-4090-8fab-dcf80e557bed"
   },
   "outputs": [
    {
     "data": {
      "text/plain": [
       "'Nilai Standar Deviasi'"
      ]
     },
     "metadata": {},
     "output_type": "display_data"
    },
    {
     "data": {
      "text/plain": [
       "Count                        42.587844\n",
       "Median Cycle Time in Days    83.669738\n",
       "dtype: float64"
      ]
     },
     "metadata": {},
     "output_type": "display_data"
    }
   ],
   "source": [
    "c=data_2.std()\n",
    "display(\"Nilai Standar Deviasi\", c)"
   ]
  },
  {
   "cell_type": "markdown",
   "metadata": {
    "id": "OGAOmveQonBH"
   },
   "source": [
    "## Plot two of the numerical columns one against the other in a scatter plot"
   ]
  },
  {
   "cell_type": "code",
   "execution_count": 102,
   "metadata": {
    "id": "ZgVMTiHQKWWS"
   },
   "outputs": [],
   "source": [
    "import matplotlib.pyplot as plt\n",
    "import seaborn as sns\n"
   ]
  },
  {
   "cell_type": "code",
   "execution_count": 103,
   "metadata": {
    "colab": {
     "base_uri": "https://localhost:8080/",
     "height": 355
    },
    "id": "kAGfeJz_KJhB",
    "outputId": "c2b96bdf-172c-4157-eb74-05f931e94210"
   },
   "outputs": [
    {
     "data": {
      "image/png": "[encoded data removed]",
      "text/plain": [
       "<Figure size 576x360 with 1 Axes>"
      ]
     },
     "metadata": {},
     "output_type": "display_data"
    }
   ],
   "source": [
    "plt.figure(figsize=(8,5))\n",
    "sns.scatterplot(x=data[\"Count\"], y=data[\"Median Cycle Time in Days\"])\n",
    "plt.title(\"Plot Kontrak dilakukan terhadap Median Cycle Time dalam sehari\")\n",
    "plt.ylabel(\"Kontrak (satuan)\")\n",
    "plt.xlabel(\"Median Cycle Time (days)\") \n",
    " \n",
    "plt.show()\n"
   ]
  },
  {
   "cell_type": "markdown",
   "metadata": {
    "id": "iyQxPej4onBH"
   },
   "source": [
    "## Plot the data distribution of all your numerical columns in histogram and boxplot"
   ]
  },
  {
   "cell_type": "code",
   "execution_count": 104,
   "metadata": {
    "colab": {
     "base_uri": "https://localhost:8080/",
     "height": 336
    },
    "id": "9Nlc159FonBI",
    "outputId": "d8a7a610-2944-40dd-8be4-7c87b1429372"
   },
   "outputs": [
    {
     "data": {
      "text/plain": [
       "array([[<AxesSubplot:title={'center':'Count'}>,\n",
       "        <AxesSubplot:title={'center':'Median Cycle Time in Days'}>]],\n",
       "      dtype=object)"
      ]
     },
     "execution_count": 104,
     "metadata": {},
     "output_type": "execute_result"
    },
    {
     "data": {
      "image/png": "[encoded data removed]",
      "text/plain": [
       "<Figure size 360x288 with 2 Axes>"
      ]
     },
     "metadata": {},
     "output_type": "display_data"
    }
   ],
   "source": [
    "data_2.hist()"
   ]
  },
  {
   "cell_type": "code",
   "execution_count": 105,
   "metadata": {
    "colab": {
     "base_uri": "https://localhost:8080/",
     "height": 301
    },
    "id": "R-JVHcfal1k_",
    "outputId": "b0d6a41b-e803-4870-8a72-dd497925a755"
   },
   "outputs": [
    {
     "data": {
      "text/plain": [
       "Text(0.5, 1.0, 'Box plot')"
      ]
     },
     "execution_count": 105,
     "metadata": {},
     "output_type": "execute_result"
    },
    {
     "data": {
      "image/png": "[encoded data removed]",
      "text/plain": [
       "<Figure size 360x288 with 1 Axes>"
      ]
     },
     "metadata": {},
     "output_type": "display_data"
    }
   ],
   "source": [
    "data_2.boxplot(column=['Count', 'Median Cycle Time in Days'])\n",
    "plt.title(\"Box plot\")"
   ]
  },
  {
   "cell_type": "markdown",
   "metadata": {
    "id": "U0-jPyRRonBI"
   },
   "source": [
    "## Create a new column in the same dataframe that is raised power of two of an existing column\n",
    "Example:\n",
    "![power_of_two](images/ex1.jpeg)\n"
   ]
  },
  {
   "cell_type": "code",
   "execution_count": 106,
   "metadata": {
    "colab": {
     "base_uri": "https://localhost:8080/"
    },
    "id": "m7kpGu44onBI",
    "outputId": "e5bdb76d-ff97-40a8-a805-4fec87fc7a71"
   },
   "outputs": [
    {
     "name": "stdout",
     "output_type": "stream",
     "text": [
      "    Count  Median Cycle Time in Days  Raised_Power_Count\n",
      "0       2                      192.0                   4\n",
      "1     108                      114.0               11664\n",
      "2      59                      192.0                3481\n",
      "3      65                      157.0                4225\n",
      "4       1                      133.0                   1\n",
      "5       7                      191.0                  49\n",
      "6       4                      279.0                  16\n",
      "7      34                      195.0                1156\n",
      "8     112                      242.0               12544\n",
      "9       5                      232.0                  25\n",
      "10      8                      187.0                  64\n",
      "11      4                      604.0                  16\n",
      "12      8                      199.0                  64\n",
      "13      4                      266.0                  16\n",
      "14      3                      355.0                   9\n",
      "15    125                      113.0               15625\n",
      "16     72                      135.0                5184\n",
      "17     54                      170.0                2916\n",
      "18      7                      341.0                  49\n",
      "19      1                       69.0                   1\n",
      "20      6                      251.5                  36\n",
      "21      2                      337.0                   4\n",
      "22      3                      213.0                   9\n",
      "23      1                      169.0                   1\n",
      "24     37                      154.0                1369\n",
      "25    103                      179.0               10609\n",
      "26     10                      155.0                 100\n",
      "27      6                      123.5                  36\n",
      "28     13                      295.0                 169\n",
      "29      6                      232.0                  36\n",
      "30      5                      177.0                  25\n",
      "31      1                      217.0                   1\n",
      "32      2                      252.0                   4\n",
      "33    187                      148.0               34969\n",
      "34     90                      209.0                8100\n",
      "35     64                      184.5                4096\n",
      "36     10                      262.0                 100\n",
      "37      2                      117.0                   4\n",
      "38      5                      204.0                  25\n",
      "39      3                      212.0                   9\n",
      "40     11                      181.0                 121\n",
      "41      2                      308.5                   4\n",
      "42     28                      196.5                 784\n",
      "43    112                      191.5               12544\n",
      "44     23                      140.0                 529\n",
      "45     12                      170.5                 144\n",
      "46      5                      194.0                  25\n",
      "47      9                      274.0                  81\n",
      "48     13                      195.0                 169\n",
      "49      1                      244.0                   1\n"
     ]
    },
    {
     "name": "stderr",
     "output_type": "stream",
     "text": [
      "<ipython-input-106-25873ed8c044>:1: SettingWithCopyWarning: \n",
      "A value is trying to be set on a copy of a slice from a DataFrame.\n",
      "Try using .loc[row_indexer,col_indexer] = value instead\n",
      "\n",
      "See the caveats in the documentation: https://pandas.pydata.org/pandas-docs/stable/user_guide/indexing.html#returning-a-view-versus-a-copy\n",
      "  data_2[\"Raised_Power_Count\"] = data_2[\"Count\"]**2\n"
     ]
    }
   ],
   "source": [
    "data_2[\"Raised_Power_Count\"] = data_2[\"Count\"]**2\n",
    "\n",
    "print(data_2)"
   ]
  },
  {
   "cell_type": "code",
   "execution_count": 107,
   "metadata": {
    "colab": {
     "base_uri": "https://localhost:8080/",
     "height": 1000
    },
    "id": "uq_rH4JLr8St",
    "outputId": "21b5cc8e-8e26-4f13-d7f6-9abd704e0757"
   },
   "outputs": [
    {
     "data": {
      "text/html": [
       "<div>\n",
       "<style scoped>\n",
       "    .dataframe tbody tr th:only-of-type {\n",
       "        vertical-align: middle;\n",
       "    }\n",
       "\n",
       "    .dataframe tbody tr th {\n",
       "        vertical-align: top;\n",
       "    }\n",
       "\n",
       "    .dataframe thead th {\n",
       "        text-align: right;\n",
       "    }\n",
       "</style>\n",
       "<table border=\"1\" class=\"dataframe\">\n",
       "  <thead>\n",
       "    <tr style=\"text-align: right;\">\n",
       "      <th></th>\n",
       "      <th>Count</th>\n",
       "      <th>Median Cycle Time in Days</th>\n",
       "      <th>Raised_Power_Count</th>\n",
       "      <th>Raised_Power_Median Cycle Time in Days</th>\n",
       "    </tr>\n",
       "  </thead>\n",
       "  <tbody>\n",
       "    <tr>\n",
       "      <th>0</th>\n",
       "      <td>2</td>\n",
       "      <td>192.0</td>\n",
       "      <td>4</td>\n",
       "      <td>36864.00</td>\n",
       "    </tr>\n",
       "    <tr>\n",
       "      <th>1</th>\n",
       "      <td>108</td>\n",
       "      <td>114.0</td>\n",
       "      <td>11664</td>\n",
       "      <td>12996.00</td>\n",
       "    </tr>\n",
       "    <tr>\n",
       "      <th>2</th>\n",
       "      <td>59</td>\n",
       "      <td>192.0</td>\n",
       "      <td>3481</td>\n",
       "      <td>36864.00</td>\n",
       "    </tr>\n",
       "    <tr>\n",
       "      <th>3</th>\n",
       "      <td>65</td>\n",
       "      <td>157.0</td>\n",
       "      <td>4225</td>\n",
       "      <td>24649.00</td>\n",
       "    </tr>\n",
       "    <tr>\n",
       "      <th>4</th>\n",
       "      <td>1</td>\n",
       "      <td>133.0</td>\n",
       "      <td>1</td>\n",
       "      <td>17689.00</td>\n",
       "    </tr>\n",
       "    <tr>\n",
       "      <th>5</th>\n",
       "      <td>7</td>\n",
       "      <td>191.0</td>\n",
       "      <td>49</td>\n",
       "      <td>36481.00</td>\n",
       "    </tr>\n",
       "    <tr>\n",
       "      <th>6</th>\n",
       "      <td>4</td>\n",
       "      <td>279.0</td>\n",
       "      <td>16</td>\n",
       "      <td>77841.00</td>\n",
       "    </tr>\n",
       "    <tr>\n",
       "      <th>7</th>\n",
       "      <td>34</td>\n",
       "      <td>195.0</td>\n",
       "      <td>1156</td>\n",
       "      <td>38025.00</td>\n",
       "    </tr>\n",
       "    <tr>\n",
       "      <th>8</th>\n",
       "      <td>112</td>\n",
       "      <td>242.0</td>\n",
       "      <td>12544</td>\n",
       "      <td>58564.00</td>\n",
       "    </tr>\n",
       "    <tr>\n",
       "      <th>9</th>\n",
       "      <td>5</td>\n",
       "      <td>232.0</td>\n",
       "      <td>25</td>\n",
       "      <td>53824.00</td>\n",
       "    </tr>\n",
       "    <tr>\n",
       "      <th>10</th>\n",
       "      <td>8</td>\n",
       "      <td>187.0</td>\n",
       "      <td>64</td>\n",
       "      <td>34969.00</td>\n",
       "    </tr>\n",
       "    <tr>\n",
       "      <th>11</th>\n",
       "      <td>4</td>\n",
       "      <td>604.0</td>\n",
       "      <td>16</td>\n",
       "      <td>364816.00</td>\n",
       "    </tr>\n",
       "    <tr>\n",
       "      <th>12</th>\n",
       "      <td>8</td>\n",
       "      <td>199.0</td>\n",
       "      <td>64</td>\n",
       "      <td>39601.00</td>\n",
       "    </tr>\n",
       "    <tr>\n",
       "      <th>13</th>\n",
       "      <td>4</td>\n",
       "      <td>266.0</td>\n",
       "      <td>16</td>\n",
       "      <td>70756.00</td>\n",
       "    </tr>\n",
       "    <tr>\n",
       "      <th>14</th>\n",
       "      <td>3</td>\n",
       "      <td>355.0</td>\n",
       "      <td>9</td>\n",
       "      <td>126025.00</td>\n",
       "    </tr>\n",
       "    <tr>\n",
       "      <th>15</th>\n",
       "      <td>125</td>\n",
       "      <td>113.0</td>\n",
       "      <td>15625</td>\n",
       "      <td>12769.00</td>\n",
       "    </tr>\n",
       "    <tr>\n",
       "      <th>16</th>\n",
       "      <td>72</td>\n",
       "      <td>135.0</td>\n",
       "      <td>5184</td>\n",
       "      <td>18225.00</td>\n",
       "    </tr>\n",
       "    <tr>\n",
       "      <th>17</th>\n",
       "      <td>54</td>\n",
       "      <td>170.0</td>\n",
       "      <td>2916</td>\n",
       "      <td>28900.00</td>\n",
       "    </tr>\n",
       "    <tr>\n",
       "      <th>18</th>\n",
       "      <td>7</td>\n",
       "      <td>341.0</td>\n",
       "      <td>49</td>\n",
       "      <td>116281.00</td>\n",
       "    </tr>\n",
       "    <tr>\n",
       "      <th>19</th>\n",
       "      <td>1</td>\n",
       "      <td>69.0</td>\n",
       "      <td>1</td>\n",
       "      <td>4761.00</td>\n",
       "    </tr>\n",
       "    <tr>\n",
       "      <th>20</th>\n",
       "      <td>6</td>\n",
       "      <td>251.5</td>\n",
       "      <td>36</td>\n",
       "      <td>63252.25</td>\n",
       "    </tr>\n",
       "    <tr>\n",
       "      <th>21</th>\n",
       "      <td>2</td>\n",
       "      <td>337.0</td>\n",
       "      <td>4</td>\n",
       "      <td>113569.00</td>\n",
       "    </tr>\n",
       "    <tr>\n",
       "      <th>22</th>\n",
       "      <td>3</td>\n",
       "      <td>213.0</td>\n",
       "      <td>9</td>\n",
       "      <td>45369.00</td>\n",
       "    </tr>\n",
       "    <tr>\n",
       "      <th>23</th>\n",
       "      <td>1</td>\n",
       "      <td>169.0</td>\n",
       "      <td>1</td>\n",
       "      <td>28561.00</td>\n",
       "    </tr>\n",
       "    <tr>\n",
       "      <th>24</th>\n",
       "      <td>37</td>\n",
       "      <td>154.0</td>\n",
       "      <td>1369</td>\n",
       "      <td>23716.00</td>\n",
       "    </tr>\n",
       "    <tr>\n",
       "      <th>25</th>\n",
       "      <td>103</td>\n",
       "      <td>179.0</td>\n",
       "      <td>10609</td>\n",
       "      <td>32041.00</td>\n",
       "    </tr>\n",
       "    <tr>\n",
       "      <th>26</th>\n",
       "      <td>10</td>\n",
       "      <td>155.0</td>\n",
       "      <td>100</td>\n",
       "      <td>24025.00</td>\n",
       "    </tr>\n",
       "    <tr>\n",
       "      <th>27</th>\n",
       "      <td>6</td>\n",
       "      <td>123.5</td>\n",
       "      <td>36</td>\n",
       "      <td>15252.25</td>\n",
       "    </tr>\n",
       "    <tr>\n",
       "      <th>28</th>\n",
       "      <td>13</td>\n",
       "      <td>295.0</td>\n",
       "      <td>169</td>\n",
       "      <td>87025.00</td>\n",
       "    </tr>\n",
       "    <tr>\n",
       "      <th>29</th>\n",
       "      <td>6</td>\n",
       "      <td>232.0</td>\n",
       "      <td>36</td>\n",
       "      <td>53824.00</td>\n",
       "    </tr>\n",
       "    <tr>\n",
       "      <th>30</th>\n",
       "      <td>5</td>\n",
       "      <td>177.0</td>\n",
       "      <td>25</td>\n",
       "      <td>31329.00</td>\n",
       "    </tr>\n",
       "    <tr>\n",
       "      <th>31</th>\n",
       "      <td>1</td>\n",
       "      <td>217.0</td>\n",
       "      <td>1</td>\n",
       "      <td>47089.00</td>\n",
       "    </tr>\n",
       "    <tr>\n",
       "      <th>32</th>\n",
       "      <td>2</td>\n",
       "      <td>252.0</td>\n",
       "      <td>4</td>\n",
       "      <td>63504.00</td>\n",
       "    </tr>\n",
       "    <tr>\n",
       "      <th>33</th>\n",
       "      <td>187</td>\n",
       "      <td>148.0</td>\n",
       "      <td>34969</td>\n",
       "      <td>21904.00</td>\n",
       "    </tr>\n",
       "    <tr>\n",
       "      <th>34</th>\n",
       "      <td>90</td>\n",
       "      <td>209.0</td>\n",
       "      <td>8100</td>\n",
       "      <td>43681.00</td>\n",
       "    </tr>\n",
       "    <tr>\n",
       "      <th>35</th>\n",
       "      <td>64</td>\n",
       "      <td>184.5</td>\n",
       "      <td>4096</td>\n",
       "      <td>34040.25</td>\n",
       "    </tr>\n",
       "    <tr>\n",
       "      <th>36</th>\n",
       "      <td>10</td>\n",
       "      <td>262.0</td>\n",
       "      <td>100</td>\n",
       "      <td>68644.00</td>\n",
       "    </tr>\n",
       "    <tr>\n",
       "      <th>37</th>\n",
       "      <td>2</td>\n",
       "      <td>117.0</td>\n",
       "      <td>4</td>\n",
       "      <td>13689.00</td>\n",
       "    </tr>\n",
       "    <tr>\n",
       "      <th>38</th>\n",
       "      <td>5</td>\n",
       "      <td>204.0</td>\n",
       "      <td>25</td>\n",
       "      <td>41616.00</td>\n",
       "    </tr>\n",
       "    <tr>\n",
       "      <th>39</th>\n",
       "      <td>3</td>\n",
       "      <td>212.0</td>\n",
       "      <td>9</td>\n",
       "      <td>44944.00</td>\n",
       "    </tr>\n",
       "    <tr>\n",
       "      <th>40</th>\n",
       "      <td>11</td>\n",
       "      <td>181.0</td>\n",
       "      <td>121</td>\n",
       "      <td>32761.00</td>\n",
       "    </tr>\n",
       "    <tr>\n",
       "      <th>41</th>\n",
       "      <td>2</td>\n",
       "      <td>308.5</td>\n",
       "      <td>4</td>\n",
       "      <td>95172.25</td>\n",
       "    </tr>\n",
       "    <tr>\n",
       "      <th>42</th>\n",
       "      <td>28</td>\n",
       "      <td>196.5</td>\n",
       "      <td>784</td>\n",
       "      <td>38612.25</td>\n",
       "    </tr>\n",
       "    <tr>\n",
       "      <th>43</th>\n",
       "      <td>112</td>\n",
       "      <td>191.5</td>\n",
       "      <td>12544</td>\n",
       "      <td>36672.25</td>\n",
       "    </tr>\n",
       "    <tr>\n",
       "      <th>44</th>\n",
       "      <td>23</td>\n",
       "      <td>140.0</td>\n",
       "      <td>529</td>\n",
       "      <td>19600.00</td>\n",
       "    </tr>\n",
       "    <tr>\n",
       "      <th>45</th>\n",
       "      <td>12</td>\n",
       "      <td>170.5</td>\n",
       "      <td>144</td>\n",
       "      <td>29070.25</td>\n",
       "    </tr>\n",
       "    <tr>\n",
       "      <th>46</th>\n",
       "      <td>5</td>\n",
       "      <td>194.0</td>\n",
       "      <td>25</td>\n",
       "      <td>37636.00</td>\n",
       "    </tr>\n",
       "    <tr>\n",
       "      <th>47</th>\n",
       "      <td>9</td>\n",
       "      <td>274.0</td>\n",
       "      <td>81</td>\n",
       "      <td>75076.00</td>\n",
       "    </tr>\n",
       "    <tr>\n",
       "      <th>48</th>\n",
       "      <td>13</td>\n",
       "      <td>195.0</td>\n",
       "      <td>169</td>\n",
       "      <td>38025.00</td>\n",
       "    </tr>\n",
       "    <tr>\n",
       "      <th>49</th>\n",
       "      <td>1</td>\n",
       "      <td>244.0</td>\n",
       "      <td>1</td>\n",
       "      <td>59536.00</td>\n",
       "    </tr>\n",
       "  </tbody>\n",
       "</table>\n",
       "</div>"
      ],
      "text/plain": [
       "    Count  Median Cycle Time in Days  Raised_Power_Count  \\\n",
       "0       2                      192.0                   4   \n",
       "1     108                      114.0               11664   \n",
       "2      59                      192.0                3481   \n",
       "3      65                      157.0                4225   \n",
       "4       1                      133.0                   1   \n",
       "5       7                      191.0                  49   \n",
       "6       4                      279.0                  16   \n",
       "7      34                      195.0                1156   \n",
       "8     112                      242.0               12544   \n",
       "9       5                      232.0                  25   \n",
       "10      8                      187.0                  64   \n",
       "11      4                      604.0                  16   \n",
       "12      8                      199.0                  64   \n",
       "13      4                      266.0                  16   \n",
       "14      3                      355.0                   9   \n",
       "15    125                      113.0               15625   \n",
       "16     72                      135.0                5184   \n",
       "17     54                      170.0                2916   \n",
       "18      7                      341.0                  49   \n",
       "19      1                       69.0                   1   \n",
       "20      6                      251.5                  36   \n",
       "21      2                      337.0                   4   \n",
       "22      3                      213.0                   9   \n",
       "23      1                      169.0                   1   \n",
       "24     37                      154.0                1369   \n",
       "25    103                      179.0               10609   \n",
       "26     10                      155.0                 100   \n",
       "27      6                      123.5                  36   \n",
       "28     13                      295.0                 169   \n",
       "29      6                      232.0                  36   \n",
       "30      5                      177.0                  25   \n",
       "31      1                      217.0                   1   \n",
       "32      2                      252.0                   4   \n",
       "33    187                      148.0               34969   \n",
       "34     90                      209.0                8100   \n",
       "35     64                      184.5                4096   \n",
       "36     10                      262.0                 100   \n",
       "37      2                      117.0                   4   \n",
       "38      5                      204.0                  25   \n",
       "39      3                      212.0                   9   \n",
       "40     11                      181.0                 121   \n",
       "41      2                      308.5                   4   \n",
       "42     28                      196.5                 784   \n",
       "43    112                      191.5               12544   \n",
       "44     23                      140.0                 529   \n",
       "45     12                      170.5                 144   \n",
       "46      5                      194.0                  25   \n",
       "47      9                      274.0                  81   \n",
       "48     13                      195.0                 169   \n",
       "49      1                      244.0                   1   \n",
       "\n",
       "    Raised_Power_Median Cycle Time in Days  \n",
       "0                                 36864.00  \n",
       "1                                 12996.00  \n",
       "2                                 36864.00  \n",
       "3                                 24649.00  \n",
       "4                                 17689.00  \n",
       "5                                 36481.00  \n",
       "6                                 77841.00  \n",
       "7                                 38025.00  \n",
       "8                                 58564.00  \n",
       "9                                 53824.00  \n",
       "10                                34969.00  \n",
       "11                               364816.00  \n",
       "12                                39601.00  \n",
       "13                                70756.00  \n",
       "14                               126025.00  \n",
       "15                                12769.00  \n",
       "16                                18225.00  \n",
       "17                                28900.00  \n",
       "18                               116281.00  \n",
       "19                                 4761.00  \n",
       "20                                63252.25  \n",
       "21                               113569.00  \n",
       "22                                45369.00  \n",
       "23                                28561.00  \n",
       "24                                23716.00  \n",
       "25                                32041.00  \n",
       "26                                24025.00  \n",
       "27                                15252.25  \n",
       "28                                87025.00  \n",
       "29                                53824.00  \n",
       "30                                31329.00  \n",
       "31                                47089.00  \n",
       "32                                63504.00  \n",
       "33                                21904.00  \n",
       "34                                43681.00  \n",
       "35                                34040.25  \n",
       "36                                68644.00  \n",
       "37                                13689.00  \n",
       "38                                41616.00  \n",
       "39                                44944.00  \n",
       "40                                32761.00  \n",
       "41                                95172.25  \n",
       "42                                38612.25  \n",
       "43                                36672.25  \n",
       "44                                19600.00  \n",
       "45                                29070.25  \n",
       "46                                37636.00  \n",
       "47                                75076.00  \n",
       "48                                38025.00  \n",
       "49                                59536.00  "
      ]
     },
     "execution_count": 107,
     "metadata": {},
     "output_type": "execute_result"
    }
   ],
   "source": [
    "data_2[\"Raised_Power_Median Cycle Time in Days\"] = data [\"Median Cycle Time in Days\"]**2\n",
    "data_2"
   ]
  },
  {
   "cell_type": "markdown",
   "metadata": {
    "id": "TiIHyBd8onBI"
   },
   "source": [
    "# Citi Bike investigation\n",
    "![citi-bike](images/citibike.jpeg)\n",
    ">Citi Bike is the largest bike share program in the US, with 20,000 bikes and over 1,300 stations across Manhattan, Brooklyn, Queens, the Bronx and Jersey City. It was designed for quick trips with convenience in mind, and it’s a fun and affordable way to get around town."
   ]
  },
  {
   "cell_type": "markdown",
   "metadata": {
    "id": "0z55ej9ronBI"
   },
   "source": [
    "## Choose a citibikes dataset (one or two months, earlier datasets are convenient because they are smaller)"
   ]
  },
  {
   "cell_type": "markdown",
   "metadata": {
    "id": "f8v1eX9QonBJ"
   },
   "source": [
    "Example for downloading September 2017 Citibike data:\n",
    "```\n",
    "! month=201709\n",
    "! curl https://s3.amazonaws.com/tripdata/$month-citibike-tripdata.csv.zip >> $month-citibike-tripdata.csv.zip\n",
    "! unzip $month-citibike-tripdata.csv.zip\n",
    "```"
   ]
  },
  {
   "cell_type": "code",
   "execution_count": 108,
   "metadata": {
    "colab": {
     "base_uri": "https://localhost:8080/",
     "height": 469
    },
    "id": "60d0wRH0onBK",
    "outputId": "0bc93909-c348-4e5a-d429-5c74a43e0ee9"
   },
   "outputs": [
    {
     "data": {
      "text/html": [
       "<div>\n",
       "<style scoped>\n",
       "    .dataframe tbody tr th:only-of-type {\n",
       "        vertical-align: middle;\n",
       "    }\n",
       "\n",
       "    .dataframe tbody tr th {\n",
       "        vertical-align: top;\n",
       "    }\n",
       "\n",
       "    .dataframe thead th {\n",
       "        text-align: right;\n",
       "    }\n",
       "</style>\n",
       "<table border=\"1\" class=\"dataframe\">\n",
       "  <thead>\n",
       "    <tr style=\"text-align: right;\">\n",
       "      <th></th>\n",
       "      <th>Trip Duration</th>\n",
       "      <th>Start Time</th>\n",
       "      <th>Stop Time</th>\n",
       "      <th>Start Station ID</th>\n",
       "      <th>Start Station Name</th>\n",
       "      <th>Start Station Latitude</th>\n",
       "      <th>Start Station Longitude</th>\n",
       "      <th>End Station ID</th>\n",
       "      <th>End Station Name</th>\n",
       "      <th>End Station Latitude</th>\n",
       "      <th>End Station Longitude</th>\n",
       "      <th>Bike ID</th>\n",
       "      <th>User Type</th>\n",
       "      <th>Birth Year</th>\n",
       "      <th>Gender</th>\n",
       "    </tr>\n",
       "  </thead>\n",
       "  <tbody>\n",
       "    <tr>\n",
       "      <th>0</th>\n",
       "      <td>1087</td>\n",
       "      <td>2017-02-01 00:00:13</td>\n",
       "      <td>2017-02-01 00:18:20</td>\n",
       "      <td>345</td>\n",
       "      <td>W 13 St &amp; 6 Ave</td>\n",
       "      <td>40.736494</td>\n",
       "      <td>-73.997044</td>\n",
       "      <td>305</td>\n",
       "      <td>E 58 St &amp; 3 Ave</td>\n",
       "      <td>40.760958</td>\n",
       "      <td>-73.967245</td>\n",
       "      <td>17432</td>\n",
       "      <td>Subscriber</td>\n",
       "      <td>1966.0</td>\n",
       "      <td>1</td>\n",
       "    </tr>\n",
       "    <tr>\n",
       "      <th>1</th>\n",
       "      <td>704</td>\n",
       "      <td>2017-02-01 00:00:31</td>\n",
       "      <td>2017-02-01 00:12:15</td>\n",
       "      <td>3295</td>\n",
       "      <td>Central Park W &amp; W 96 St</td>\n",
       "      <td>40.791270</td>\n",
       "      <td>-73.964839</td>\n",
       "      <td>2006</td>\n",
       "      <td>Central Park S &amp; 6 Ave</td>\n",
       "      <td>40.765909</td>\n",
       "      <td>-73.976342</td>\n",
       "      <td>20621</td>\n",
       "      <td>Customer</td>\n",
       "      <td>NaN</td>\n",
       "      <td>0</td>\n",
       "    </tr>\n",
       "    <tr>\n",
       "      <th>2</th>\n",
       "      <td>212</td>\n",
       "      <td>2017-02-01 00:00:34</td>\n",
       "      <td>2017-02-01 00:04:06</td>\n",
       "      <td>336</td>\n",
       "      <td>Sullivan St &amp; Washington Sq</td>\n",
       "      <td>40.730477</td>\n",
       "      <td>-73.999061</td>\n",
       "      <td>439</td>\n",
       "      <td>E 4 St &amp; 2 Ave</td>\n",
       "      <td>40.726281</td>\n",
       "      <td>-73.989780</td>\n",
       "      <td>16826</td>\n",
       "      <td>Subscriber</td>\n",
       "      <td>1984.0</td>\n",
       "      <td>1</td>\n",
       "    </tr>\n",
       "    <tr>\n",
       "      <th>3</th>\n",
       "      <td>1140</td>\n",
       "      <td>2017-02-01 00:00:44</td>\n",
       "      <td>2017-02-01 00:19:44</td>\n",
       "      <td>484</td>\n",
       "      <td>W 44 St &amp; 5 Ave</td>\n",
       "      <td>40.755003</td>\n",
       "      <td>-73.980144</td>\n",
       "      <td>3295</td>\n",
       "      <td>Central Park W &amp; W 96 St</td>\n",
       "      <td>40.791270</td>\n",
       "      <td>-73.964839</td>\n",
       "      <td>27052</td>\n",
       "      <td>Subscriber</td>\n",
       "      <td>1980.0</td>\n",
       "      <td>1</td>\n",
       "    </tr>\n",
       "    <tr>\n",
       "      <th>4</th>\n",
       "      <td>320</td>\n",
       "      <td>2017-02-01 00:00:42</td>\n",
       "      <td>2017-02-01 00:06:02</td>\n",
       "      <td>490</td>\n",
       "      <td>8 Ave &amp; W 33 St</td>\n",
       "      <td>40.751551</td>\n",
       "      <td>-73.993934</td>\n",
       "      <td>3431</td>\n",
       "      <td>E 35 St &amp; 3 Ave</td>\n",
       "      <td>40.746524</td>\n",
       "      <td>-73.977885</td>\n",
       "      <td>25238</td>\n",
       "      <td>Subscriber</td>\n",
       "      <td>1987.0</td>\n",
       "      <td>1</td>\n",
       "    </tr>\n",
       "  </tbody>\n",
       "</table>\n",
       "</div>"
      ],
      "text/plain": [
       "   Trip Duration           Start Time            Stop Time  Start Station ID  \\\n",
       "0           1087  2017-02-01 00:00:13  2017-02-01 00:18:20               345   \n",
       "1            704  2017-02-01 00:00:31  2017-02-01 00:12:15              3295   \n",
       "2            212  2017-02-01 00:00:34  2017-02-01 00:04:06               336   \n",
       "3           1140  2017-02-01 00:00:44  2017-02-01 00:19:44               484   \n",
       "4            320  2017-02-01 00:00:42  2017-02-01 00:06:02               490   \n",
       "\n",
       "            Start Station Name  Start Station Latitude  \\\n",
       "0              W 13 St & 6 Ave               40.736494   \n",
       "1     Central Park W & W 96 St               40.791270   \n",
       "2  Sullivan St & Washington Sq               40.730477   \n",
       "3              W 44 St & 5 Ave               40.755003   \n",
       "4              8 Ave & W 33 St               40.751551   \n",
       "\n",
       "   Start Station Longitude  End Station ID          End Station Name  \\\n",
       "0               -73.997044             305           E 58 St & 3 Ave   \n",
       "1               -73.964839            2006    Central Park S & 6 Ave   \n",
       "2               -73.999061             439            E 4 St & 2 Ave   \n",
       "3               -73.980144            3295  Central Park W & W 96 St   \n",
       "4               -73.993934            3431           E 35 St & 3 Ave   \n",
       "\n",
       "   End Station Latitude  End Station Longitude  Bike ID   User Type  \\\n",
       "0             40.760958             -73.967245    17432  Subscriber   \n",
       "1             40.765909             -73.976342    20621    Customer   \n",
       "2             40.726281             -73.989780    16826  Subscriber   \n",
       "3             40.791270             -73.964839    27052  Subscriber   \n",
       "4             40.746524             -73.977885    25238  Subscriber   \n",
       "\n",
       "   Birth Year  Gender  \n",
       "0      1966.0       1  \n",
       "1         NaN       0  \n",
       "2      1984.0       1  \n",
       "3      1980.0       1  \n",
       "4      1987.0       1  "
      ]
     },
     "execution_count": 108,
     "metadata": {},
     "output_type": "execute_result"
    }
   ],
   "source": [
    "citibike = pd.read_csv(\"201702-citibike-tripdata.csv\")\n",
    "citibike.head()"
   ]
  },
  {
   "cell_type": "markdown",
   "metadata": {
    "id": "5COOEf6SLUh4"
   },
   "source": [
    "Mengunakan dataset 2017 bulan februari\n",
    "* Gender (Zero=Tidak diketahui, 1=male, 2=female)\n",
    "* User type (Customer = 24 hours pass or 3 day pass user ; subscriber =annual member)\n",
    "* Trip duration = seconds jika dibawah 60 detik kemungkinan salah\n",
    "* starttime - Start Time and Date\n",
    "* stoptime - Stop Time and Date\n",
    "* start station id - ID of Start Station\n",
    "* start station name - Name of Start Station\n",
    "* start station latitude - Latitude of start station\n",
    "* start station longitude - Longitude of start station\n",
    "* end station id - ID of End Station\n",
    "* end station name - Name of End Station\n",
    "* end station latitude - Latitude of End station\n",
    "* end station longitude - Longitude of End station\n",
    "* Bike ID - Bike ID"
   ]
  },
  {
   "cell_type": "markdown",
   "metadata": {
    "id": "ruY6R4z2onBK"
   },
   "source": [
    "## Count the number of missing values of each column"
   ]
  },
  {
   "cell_type": "code",
   "execution_count": 109,
   "metadata": {
    "colab": {
     "base_uri": "https://localhost:8080/",
     "height": 355
    },
    "id": "YGK_dI4vXONN",
    "outputId": "a1f700ff-676f-410f-bb88-560607093090"
   },
   "outputs": [
    {
     "data": {
      "text/html": [
       "<div>\n",
       "<style scoped>\n",
       "    .dataframe tbody tr th:only-of-type {\n",
       "        vertical-align: middle;\n",
       "    }\n",
       "\n",
       "    .dataframe tbody tr th {\n",
       "        vertical-align: top;\n",
       "    }\n",
       "\n",
       "    .dataframe thead th {\n",
       "        text-align: right;\n",
       "    }\n",
       "</style>\n",
       "<table border=\"1\" class=\"dataframe\">\n",
       "  <thead>\n",
       "    <tr style=\"text-align: right;\">\n",
       "      <th></th>\n",
       "      <th>Trip Duration</th>\n",
       "      <th>Start Station ID</th>\n",
       "      <th>Start Station Latitude</th>\n",
       "      <th>Start Station Longitude</th>\n",
       "      <th>End Station ID</th>\n",
       "      <th>End Station Latitude</th>\n",
       "      <th>End Station Longitude</th>\n",
       "      <th>Bike ID</th>\n",
       "      <th>Birth Year</th>\n",
       "      <th>Gender</th>\n",
       "    </tr>\n",
       "  </thead>\n",
       "  <tbody>\n",
       "    <tr>\n",
       "      <th>count</th>\n",
       "      <td>7.916470e+05</td>\n",
       "      <td>791647.000000</td>\n",
       "      <td>791647.000000</td>\n",
       "      <td>791647.000000</td>\n",
       "      <td>791647.000000</td>\n",
       "      <td>791647.000000</td>\n",
       "      <td>791647.000000</td>\n",
       "      <td>791647.000000</td>\n",
       "      <td>742324.000000</td>\n",
       "      <td>791647.000000</td>\n",
       "    </tr>\n",
       "    <tr>\n",
       "      <th>mean</th>\n",
       "      <td>8.128738e+02</td>\n",
       "      <td>1229.563922</td>\n",
       "      <td>40.736854</td>\n",
       "      <td>-73.985272</td>\n",
       "      <td>1216.452613</td>\n",
       "      <td>40.736454</td>\n",
       "      <td>-73.985337</td>\n",
       "      <td>21827.624621</td>\n",
       "      <td>1977.723016</td>\n",
       "      <td>1.151288</td>\n",
       "    </tr>\n",
       "    <tr>\n",
       "      <th>std</th>\n",
       "      <td>6.575106e+03</td>\n",
       "      <td>1283.737853</td>\n",
       "      <td>0.026765</td>\n",
       "      <td>0.016126</td>\n",
       "      <td>1278.097168</td>\n",
       "      <td>0.069977</td>\n",
       "      <td>0.118704</td>\n",
       "      <td>4341.229623</td>\n",
       "      <td>12.018134</td>\n",
       "      <td>0.509723</td>\n",
       "    </tr>\n",
       "    <tr>\n",
       "      <th>min</th>\n",
       "      <td>6.100000e+01</td>\n",
       "      <td>72.000000</td>\n",
       "      <td>40.646538</td>\n",
       "      <td>-74.017134</td>\n",
       "      <td>72.000000</td>\n",
       "      <td>0.000000</td>\n",
       "      <td>-74.038526</td>\n",
       "      <td>14529.000000</td>\n",
       "      <td>1858.000000</td>\n",
       "      <td>0.000000</td>\n",
       "    </tr>\n",
       "    <tr>\n",
       "      <th>25%</th>\n",
       "      <td>3.430000e+02</td>\n",
       "      <td>355.000000</td>\n",
       "      <td>40.720196</td>\n",
       "      <td>-73.996010</td>\n",
       "      <td>351.000000</td>\n",
       "      <td>40.720196</td>\n",
       "      <td>-73.996621</td>\n",
       "      <td>17838.000000</td>\n",
       "      <td>1969.000000</td>\n",
       "      <td>1.000000</td>\n",
       "    </tr>\n",
       "    <tr>\n",
       "      <th>50%</th>\n",
       "      <td>5.550000e+02</td>\n",
       "      <td>481.000000</td>\n",
       "      <td>40.738274</td>\n",
       "      <td>-73.987535</td>\n",
       "      <td>479.000000</td>\n",
       "      <td>40.738177</td>\n",
       "      <td>-73.987763</td>\n",
       "      <td>21230.000000</td>\n",
       "      <td>1980.000000</td>\n",
       "      <td>1.000000</td>\n",
       "    </tr>\n",
       "    <tr>\n",
       "      <th>75%</th>\n",
       "      <td>9.350000e+02</td>\n",
       "      <td>3093.000000</td>\n",
       "      <td>40.755003</td>\n",
       "      <td>-73.976806</td>\n",
       "      <td>3090.000000</td>\n",
       "      <td>40.754666</td>\n",
       "      <td>-73.977061</td>\n",
       "      <td>25997.000000</td>\n",
       "      <td>1987.000000</td>\n",
       "      <td>1.000000</td>\n",
       "    </tr>\n",
       "    <tr>\n",
       "      <th>max</th>\n",
       "      <td>2.836964e+06</td>\n",
       "      <td>3454.000000</td>\n",
       "      <td>40.804213</td>\n",
       "      <td>-73.929891</td>\n",
       "      <td>3454.000000</td>\n",
       "      <td>40.804213</td>\n",
       "      <td>0.000000</td>\n",
       "      <td>27965.000000</td>\n",
       "      <td>2001.000000</td>\n",
       "      <td>2.000000</td>\n",
       "    </tr>\n",
       "  </tbody>\n",
       "</table>\n",
       "</div>"
      ],
      "text/plain": [
       "       Trip Duration  Start Station ID  Start Station Latitude  \\\n",
       "count   7.916470e+05     791647.000000           791647.000000   \n",
       "mean    8.128738e+02       1229.563922               40.736854   \n",
       "std     6.575106e+03       1283.737853                0.026765   \n",
       "min     6.100000e+01         72.000000               40.646538   \n",
       "25%     3.430000e+02        355.000000               40.720196   \n",
       "50%     5.550000e+02        481.000000               40.738274   \n",
       "75%     9.350000e+02       3093.000000               40.755003   \n",
       "max     2.836964e+06       3454.000000               40.804213   \n",
       "\n",
       "       Start Station Longitude  End Station ID  End Station Latitude  \\\n",
       "count            791647.000000   791647.000000         791647.000000   \n",
       "mean                -73.985272     1216.452613             40.736454   \n",
       "std                   0.016126     1278.097168              0.069977   \n",
       "min                 -74.017134       72.000000              0.000000   \n",
       "25%                 -73.996010      351.000000             40.720196   \n",
       "50%                 -73.987535      479.000000             40.738177   \n",
       "75%                 -73.976806     3090.000000             40.754666   \n",
       "max                 -73.929891     3454.000000             40.804213   \n",
       "\n",
       "       End Station Longitude        Bike ID     Birth Year         Gender  \n",
       "count          791647.000000  791647.000000  742324.000000  791647.000000  \n",
       "mean              -73.985337   21827.624621    1977.723016       1.151288  \n",
       "std                 0.118704    4341.229623      12.018134       0.509723  \n",
       "min               -74.038526   14529.000000    1858.000000       0.000000  \n",
       "25%               -73.996621   17838.000000    1969.000000       1.000000  \n",
       "50%               -73.987763   21230.000000    1980.000000       1.000000  \n",
       "75%               -73.977061   25997.000000    1987.000000       1.000000  \n",
       "max                 0.000000   27965.000000    2001.000000       2.000000  "
      ]
     },
     "execution_count": 109,
     "metadata": {},
     "output_type": "execute_result"
    }
   ],
   "source": [
    "citibike.describe()"
   ]
  },
  {
   "cell_type": "code",
   "execution_count": 110,
   "metadata": {
    "colab": {
     "base_uri": "https://localhost:8080/"
    },
    "id": "Puej6dHAonBK",
    "outputId": "382165f9-0b42-4ce8-89d0-122df31b6cc0"
   },
   "outputs": [
    {
     "name": "stdout",
     "output_type": "stream",
     "text": [
      "Jumlah index :  791647\n",
      "Jumlah data yang hilang tiap column :\n",
      " Trip Duration                  0\n",
      "Start Time                     0\n",
      "Stop Time                      0\n",
      "Start Station ID               0\n",
      "Start Station Name             0\n",
      "Start Station Latitude         0\n",
      "Start Station Longitude        0\n",
      "End Station ID                 0\n",
      "End Station Name               0\n",
      "End Station Latitude           0\n",
      "End Station Longitude          0\n",
      "Bike ID                        0\n",
      "User Type                   7580\n",
      "Birth Year                 49323\n",
      "Gender                         0\n",
      "dtype: int64\n"
     ]
    }
   ],
   "source": [
    "a = citibike.isna().sum()\n",
    "b= len(citibike.index)\n",
    "print(\"Jumlah index : \",b)\n",
    "print(\"Jumlah data yang hilang tiap column :\\n\",a)\n",
    "\n",
    "\n"
   ]
  },
  {
   "cell_type": "code",
   "execution_count": 111,
   "metadata": {
    "id": "TnSmhA0gWIFP"
   },
   "outputs": [],
   "source": [
    "citibike.dropna(inplace=True)"
   ]
  },
  {
   "cell_type": "markdown",
   "metadata": {
    "id": "xUUyLrE2XWN-"
   },
   "source": [
    "**Menghapus data kosong karena persentase nya sebesar 8 persen**"
   ]
  },
  {
   "cell_type": "code",
   "execution_count": 112,
   "metadata": {
    "colab": {
     "base_uri": "https://localhost:8080/"
    },
    "id": "QAWiwyrnVu5L",
    "outputId": "4a49ff69-fe20-4a34-f84d-679a607c3b92"
   },
   "outputs": [
    {
     "data": {
      "text/plain": [
       "Trip Duration              0\n",
       "Start Time                 0\n",
       "Stop Time                  0\n",
       "Start Station ID           0\n",
       "Start Station Name         0\n",
       "Start Station Latitude     0\n",
       "Start Station Longitude    0\n",
       "End Station ID             0\n",
       "End Station Name           0\n",
       "End Station Latitude       0\n",
       "End Station Longitude      0\n",
       "Bike ID                    0\n",
       "User Type                  0\n",
       "Birth Year                 0\n",
       "Gender                     0\n",
       "dtype: int64"
      ]
     },
     "execution_count": 112,
     "metadata": {},
     "output_type": "execute_result"
    }
   ],
   "source": [
    "citibike.isna().sum()\n"
   ]
  },
  {
   "cell_type": "code",
   "execution_count": 113,
   "metadata": {
    "colab": {
     "base_uri": "https://localhost:8080/"
    },
    "id": "2EmEkVm0blIV",
    "outputId": "22a5f3b4-17cf-4cdc-b1f2-0debedc36bde"
   },
   "outputs": [
    {
     "data": {
      "text/plain": [
       "734761"
      ]
     },
     "execution_count": 113,
     "metadata": {},
     "output_type": "execute_result"
    }
   ],
   "source": [
    "len(citibike.index)"
   ]
  },
  {
   "cell_type": "code",
   "execution_count": 114,
   "metadata": {
    "colab": {
     "base_uri": "https://localhost:8080/",
     "height": 355
    },
    "id": "mX4Pbl2gXbOH",
    "outputId": "258549fa-6ab9-4051-aa45-b07bfbb01fa6"
   },
   "outputs": [
    {
     "data": {
      "text/html": [
       "<div>\n",
       "<style scoped>\n",
       "    .dataframe tbody tr th:only-of-type {\n",
       "        vertical-align: middle;\n",
       "    }\n",
       "\n",
       "    .dataframe tbody tr th {\n",
       "        vertical-align: top;\n",
       "    }\n",
       "\n",
       "    .dataframe thead th {\n",
       "        text-align: right;\n",
       "    }\n",
       "</style>\n",
       "<table border=\"1\" class=\"dataframe\">\n",
       "  <thead>\n",
       "    <tr style=\"text-align: right;\">\n",
       "      <th></th>\n",
       "      <th>Trip Duration</th>\n",
       "      <th>Start Station ID</th>\n",
       "      <th>Start Station Latitude</th>\n",
       "      <th>Start Station Longitude</th>\n",
       "      <th>End Station ID</th>\n",
       "      <th>End Station Latitude</th>\n",
       "      <th>End Station Longitude</th>\n",
       "      <th>Bike ID</th>\n",
       "      <th>Birth Year</th>\n",
       "      <th>Gender</th>\n",
       "    </tr>\n",
       "  </thead>\n",
       "  <tbody>\n",
       "    <tr>\n",
       "      <th>count</th>\n",
       "      <td>7.347610e+05</td>\n",
       "      <td>734761.000000</td>\n",
       "      <td>734761.000000</td>\n",
       "      <td>734761.000000</td>\n",
       "      <td>734761.000000</td>\n",
       "      <td>734761.000000</td>\n",
       "      <td>734761.000000</td>\n",
       "      <td>734761.000000</td>\n",
       "      <td>734761.000000</td>\n",
       "      <td>734761.000000</td>\n",
       "    </tr>\n",
       "    <tr>\n",
       "      <th>mean</th>\n",
       "      <td>7.429651e+02</td>\n",
       "      <td>1209.333285</td>\n",
       "      <td>40.736773</td>\n",
       "      <td>-73.985288</td>\n",
       "      <td>1194.886830</td>\n",
       "      <td>40.736391</td>\n",
       "      <td>-73.985328</td>\n",
       "      <td>21894.817538</td>\n",
       "      <td>1977.657406</td>\n",
       "      <td>1.226838</td>\n",
       "    </tr>\n",
       "    <tr>\n",
       "      <th>std</th>\n",
       "      <td>6.157327e+03</td>\n",
       "      <td>1275.064992</td>\n",
       "      <td>0.026337</td>\n",
       "      <td>0.016000</td>\n",
       "      <td>1268.651864</td>\n",
       "      <td>0.072097</td>\n",
       "      <td>0.123115</td>\n",
       "      <td>4339.785158</td>\n",
       "      <td>12.011551</td>\n",
       "      <td>0.427271</td>\n",
       "    </tr>\n",
       "    <tr>\n",
       "      <th>min</th>\n",
       "      <td>6.100000e+01</td>\n",
       "      <td>72.000000</td>\n",
       "      <td>40.646538</td>\n",
       "      <td>-74.017134</td>\n",
       "      <td>72.000000</td>\n",
       "      <td>0.000000</td>\n",
       "      <td>-74.038526</td>\n",
       "      <td>14529.000000</td>\n",
       "      <td>1885.000000</td>\n",
       "      <td>0.000000</td>\n",
       "    </tr>\n",
       "    <tr>\n",
       "      <th>25%</th>\n",
       "      <td>3.340000e+02</td>\n",
       "      <td>354.000000</td>\n",
       "      <td>40.720664</td>\n",
       "      <td>-73.995960</td>\n",
       "      <td>350.000000</td>\n",
       "      <td>40.720664</td>\n",
       "      <td>-73.996123</td>\n",
       "      <td>17894.000000</td>\n",
       "      <td>1969.000000</td>\n",
       "      <td>1.000000</td>\n",
       "    </tr>\n",
       "    <tr>\n",
       "      <th>50%</th>\n",
       "      <td>5.310000e+02</td>\n",
       "      <td>479.000000</td>\n",
       "      <td>40.738274</td>\n",
       "      <td>-73.987538</td>\n",
       "      <td>478.000000</td>\n",
       "      <td>40.738177</td>\n",
       "      <td>-73.987834</td>\n",
       "      <td>21319.000000</td>\n",
       "      <td>1980.000000</td>\n",
       "      <td>1.000000</td>\n",
       "    </tr>\n",
       "    <tr>\n",
       "      <th>75%</th>\n",
       "      <td>8.670000e+02</td>\n",
       "      <td>3087.000000</td>\n",
       "      <td>40.754666</td>\n",
       "      <td>-73.977061</td>\n",
       "      <td>3078.000000</td>\n",
       "      <td>40.753231</td>\n",
       "      <td>-73.977285</td>\n",
       "      <td>26020.000000</td>\n",
       "      <td>1987.000000</td>\n",
       "      <td>1.000000</td>\n",
       "    </tr>\n",
       "    <tr>\n",
       "      <th>max</th>\n",
       "      <td>2.836964e+06</td>\n",
       "      <td>3454.000000</td>\n",
       "      <td>40.804213</td>\n",
       "      <td>-73.929891</td>\n",
       "      <td>3454.000000</td>\n",
       "      <td>40.804213</td>\n",
       "      <td>0.000000</td>\n",
       "      <td>27965.000000</td>\n",
       "      <td>2001.000000</td>\n",
       "      <td>2.000000</td>\n",
       "    </tr>\n",
       "  </tbody>\n",
       "</table>\n",
       "</div>"
      ],
      "text/plain": [
       "       Trip Duration  Start Station ID  Start Station Latitude  \\\n",
       "count   7.347610e+05     734761.000000           734761.000000   \n",
       "mean    7.429651e+02       1209.333285               40.736773   \n",
       "std     6.157327e+03       1275.064992                0.026337   \n",
       "min     6.100000e+01         72.000000               40.646538   \n",
       "25%     3.340000e+02        354.000000               40.720664   \n",
       "50%     5.310000e+02        479.000000               40.738274   \n",
       "75%     8.670000e+02       3087.000000               40.754666   \n",
       "max     2.836964e+06       3454.000000               40.804213   \n",
       "\n",
       "       Start Station Longitude  End Station ID  End Station Latitude  \\\n",
       "count            734761.000000   734761.000000         734761.000000   \n",
       "mean                -73.985288     1194.886830             40.736391   \n",
       "std                   0.016000     1268.651864              0.072097   \n",
       "min                 -74.017134       72.000000              0.000000   \n",
       "25%                 -73.995960      350.000000             40.720664   \n",
       "50%                 -73.987538      478.000000             40.738177   \n",
       "75%                 -73.977061     3078.000000             40.753231   \n",
       "max                 -73.929891     3454.000000             40.804213   \n",
       "\n",
       "       End Station Longitude        Bike ID     Birth Year         Gender  \n",
       "count          734761.000000  734761.000000  734761.000000  734761.000000  \n",
       "mean              -73.985328   21894.817538    1977.657406       1.226838  \n",
       "std                 0.123115    4339.785158      12.011551       0.427271  \n",
       "min               -74.038526   14529.000000    1885.000000       0.000000  \n",
       "25%               -73.996123   17894.000000    1969.000000       1.000000  \n",
       "50%               -73.987834   21319.000000    1980.000000       1.000000  \n",
       "75%               -73.977285   26020.000000    1987.000000       1.000000  \n",
       "max                 0.000000   27965.000000    2001.000000       2.000000  "
      ]
     },
     "execution_count": 114,
     "metadata": {},
     "output_type": "execute_result"
    }
   ],
   "source": [
    "citibike.describe()"
   ]
  },
  {
   "cell_type": "markdown",
   "metadata": {
    "id": "NNAx6wjBYBWw"
   },
   "source": [
    "* Berdasarkan tabel describe diatas menunjukan keanehan dimana trip durasi memiliki nilai minimum 0.6 sedangkan berdasarkan deskripsi data menunjukan bahwa jika dibawah 60 s kemungkinan data salah\n",
    "* Selanjutnya pada birth year juga mengalami keanehan dimana data minimum nya 1885 sedangkan data ini di record pada februari 2017 yang artinya berumur 132 tahun"
   ]
  },
  {
   "cell_type": "markdown",
   "metadata": {
    "id": "FPggZbPmvy5U"
   },
   "source": [
    "**Cleaning and Filtering**"
   ]
  },
  {
   "cell_type": "code",
   "execution_count": 116,
   "metadata": {
    "id": "z5t9edW4YxbQ"
   },
   "outputs": [],
   "source": [
    "filt = (citibike ['Birth Year']>1937) #Berdasarkan data Bank Dunia angka harapan hidup di Amerika Serikta 79 Tahun"
   ]
  },
  {
   "cell_type": "code",
   "execution_count": 117,
   "metadata": {
    "id": "iPOyRgetcRW9"
   },
   "outputs": [],
   "source": [
    "citibike_1= citibike.loc[filt]"
   ]
  },
  {
   "cell_type": "code",
   "execution_count": 118,
   "metadata": {
    "id": "CINgRaj7akBW"
   },
   "outputs": [],
   "source": [
    "filt_2 = (citibike_1 ['Trip Duration']>60) #Peminyaman di bawah 60 sekon dianggap tidak ada\n"
   ]
  },
  {
   "cell_type": "code",
   "execution_count": 119,
   "metadata": {
    "id": "9qUKl0AvvF_q"
   },
   "outputs": [],
   "source": [
    "citibike_2= citibike_1.loc[filt_2]"
   ]
  },
  {
   "cell_type": "code",
   "execution_count": 120,
   "metadata": {
    "id": "DnlDmLb7wsDp"
   },
   "outputs": [],
   "source": [
    "citibike_2[\"Age_1\"] = citibike_2[\"Birth Year\"]-2017"
   ]
  },
  {
   "cell_type": "code",
   "execution_count": 121,
   "metadata": {
    "id": "0IXSXxEWzdf8"
   },
   "outputs": [],
   "source": [
    "citibike_2[\"Age\"] = citibike_2[\"Age_1\"]*(-1)"
   ]
  },
  {
   "cell_type": "code",
   "execution_count": 122,
   "metadata": {
    "colab": {
     "base_uri": "https://localhost:8080/",
     "height": 842
    },
    "id": "PgcLuFRvzoLR",
    "outputId": "e2e6f701-7492-4867-e99d-9e32ae5b5e4c"
   },
   "outputs": [
    {
     "data": {
      "text/html": [
       "<div>\n",
       "<style scoped>\n",
       "    .dataframe tbody tr th:only-of-type {\n",
       "        vertical-align: middle;\n",
       "    }\n",
       "\n",
       "    .dataframe tbody tr th {\n",
       "        vertical-align: top;\n",
       "    }\n",
       "\n",
       "    .dataframe thead th {\n",
       "        text-align: right;\n",
       "    }\n",
       "</style>\n",
       "<table border=\"1\" class=\"dataframe\">\n",
       "  <thead>\n",
       "    <tr style=\"text-align: right;\">\n",
       "      <th></th>\n",
       "      <th>Trip Duration</th>\n",
       "      <th>Start Time</th>\n",
       "      <th>Stop Time</th>\n",
       "      <th>Start Station ID</th>\n",
       "      <th>Start Station Name</th>\n",
       "      <th>Start Station Latitude</th>\n",
       "      <th>Start Station Longitude</th>\n",
       "      <th>End Station ID</th>\n",
       "      <th>End Station Name</th>\n",
       "      <th>End Station Latitude</th>\n",
       "      <th>End Station Longitude</th>\n",
       "      <th>Bike ID</th>\n",
       "      <th>User Type</th>\n",
       "      <th>Birth Year</th>\n",
       "      <th>Gender</th>\n",
       "      <th>Age</th>\n",
       "    </tr>\n",
       "  </thead>\n",
       "  <tbody>\n",
       "    <tr>\n",
       "      <th>0</th>\n",
       "      <td>1087</td>\n",
       "      <td>2017-02-01 00:00:13</td>\n",
       "      <td>2017-02-01 00:18:20</td>\n",
       "      <td>345</td>\n",
       "      <td>W 13 St &amp; 6 Ave</td>\n",
       "      <td>40.736494</td>\n",
       "      <td>-73.997044</td>\n",
       "      <td>305</td>\n",
       "      <td>E 58 St &amp; 3 Ave</td>\n",
       "      <td>40.760958</td>\n",
       "      <td>-73.967245</td>\n",
       "      <td>17432</td>\n",
       "      <td>Subscriber</td>\n",
       "      <td>1966.0</td>\n",
       "      <td>1</td>\n",
       "      <td>51.0</td>\n",
       "    </tr>\n",
       "    <tr>\n",
       "      <th>2</th>\n",
       "      <td>212</td>\n",
       "      <td>2017-02-01 00:00:34</td>\n",
       "      <td>2017-02-01 00:04:06</td>\n",
       "      <td>336</td>\n",
       "      <td>Sullivan St &amp; Washington Sq</td>\n",
       "      <td>40.730477</td>\n",
       "      <td>-73.999061</td>\n",
       "      <td>439</td>\n",
       "      <td>E 4 St &amp; 2 Ave</td>\n",
       "      <td>40.726281</td>\n",
       "      <td>-73.989780</td>\n",
       "      <td>16826</td>\n",
       "      <td>Subscriber</td>\n",
       "      <td>1984.0</td>\n",
       "      <td>1</td>\n",
       "      <td>33.0</td>\n",
       "    </tr>\n",
       "    <tr>\n",
       "      <th>3</th>\n",
       "      <td>1140</td>\n",
       "      <td>2017-02-01 00:00:44</td>\n",
       "      <td>2017-02-01 00:19:44</td>\n",
       "      <td>484</td>\n",
       "      <td>W 44 St &amp; 5 Ave</td>\n",
       "      <td>40.755003</td>\n",
       "      <td>-73.980144</td>\n",
       "      <td>3295</td>\n",
       "      <td>Central Park W &amp; W 96 St</td>\n",
       "      <td>40.791270</td>\n",
       "      <td>-73.964839</td>\n",
       "      <td>27052</td>\n",
       "      <td>Subscriber</td>\n",
       "      <td>1980.0</td>\n",
       "      <td>1</td>\n",
       "      <td>37.0</td>\n",
       "    </tr>\n",
       "    <tr>\n",
       "      <th>4</th>\n",
       "      <td>320</td>\n",
       "      <td>2017-02-01 00:00:42</td>\n",
       "      <td>2017-02-01 00:06:02</td>\n",
       "      <td>490</td>\n",
       "      <td>8 Ave &amp; W 33 St</td>\n",
       "      <td>40.751551</td>\n",
       "      <td>-73.993934</td>\n",
       "      <td>3431</td>\n",
       "      <td>E 35 St &amp; 3 Ave</td>\n",
       "      <td>40.746524</td>\n",
       "      <td>-73.977885</td>\n",
       "      <td>25238</td>\n",
       "      <td>Subscriber</td>\n",
       "      <td>1987.0</td>\n",
       "      <td>1</td>\n",
       "      <td>30.0</td>\n",
       "    </tr>\n",
       "    <tr>\n",
       "      <th>5</th>\n",
       "      <td>277</td>\n",
       "      <td>2017-02-01 00:00:56</td>\n",
       "      <td>2017-02-01 00:05:34</td>\n",
       "      <td>285</td>\n",
       "      <td>Broadway &amp; E 14 St</td>\n",
       "      <td>40.734546</td>\n",
       "      <td>-73.990741</td>\n",
       "      <td>251</td>\n",
       "      <td>Mott St &amp; Prince St</td>\n",
       "      <td>40.723180</td>\n",
       "      <td>-73.994800</td>\n",
       "      <td>20617</td>\n",
       "      <td>Subscriber</td>\n",
       "      <td>1975.0</td>\n",
       "      <td>1</td>\n",
       "      <td>42.0</td>\n",
       "    </tr>\n",
       "    <tr>\n",
       "      <th>...</th>\n",
       "      <td>...</td>\n",
       "      <td>...</td>\n",
       "      <td>...</td>\n",
       "      <td>...</td>\n",
       "      <td>...</td>\n",
       "      <td>...</td>\n",
       "      <td>...</td>\n",
       "      <td>...</td>\n",
       "      <td>...</td>\n",
       "      <td>...</td>\n",
       "      <td>...</td>\n",
       "      <td>...</td>\n",
       "      <td>...</td>\n",
       "      <td>...</td>\n",
       "      <td>...</td>\n",
       "      <td>...</td>\n",
       "    </tr>\n",
       "    <tr>\n",
       "      <th>791642</th>\n",
       "      <td>267</td>\n",
       "      <td>2017-02-28 23:59:20</td>\n",
       "      <td>2017-03-01 00:03:48</td>\n",
       "      <td>3223</td>\n",
       "      <td>E 55 St &amp; 3 Ave</td>\n",
       "      <td>40.758997</td>\n",
       "      <td>-73.968654</td>\n",
       "      <td>3376</td>\n",
       "      <td>E 65 St &amp; 2 Ave</td>\n",
       "      <td>40.764719</td>\n",
       "      <td>-73.962221</td>\n",
       "      <td>26420</td>\n",
       "      <td>Subscriber</td>\n",
       "      <td>1976.0</td>\n",
       "      <td>1</td>\n",
       "      <td>41.0</td>\n",
       "    </tr>\n",
       "    <tr>\n",
       "      <th>791643</th>\n",
       "      <td>621</td>\n",
       "      <td>2017-02-28 23:59:25</td>\n",
       "      <td>2017-03-01 00:09:46</td>\n",
       "      <td>461</td>\n",
       "      <td>E 20 St &amp; 2 Ave</td>\n",
       "      <td>40.735877</td>\n",
       "      <td>-73.982050</td>\n",
       "      <td>334</td>\n",
       "      <td>W 20 St &amp; 7 Ave</td>\n",
       "      <td>40.742388</td>\n",
       "      <td>-73.997262</td>\n",
       "      <td>17112</td>\n",
       "      <td>Subscriber</td>\n",
       "      <td>1989.0</td>\n",
       "      <td>1</td>\n",
       "      <td>28.0</td>\n",
       "    </tr>\n",
       "    <tr>\n",
       "      <th>791644</th>\n",
       "      <td>612</td>\n",
       "      <td>2017-02-28 23:59:44</td>\n",
       "      <td>2017-03-01 00:09:56</td>\n",
       "      <td>369</td>\n",
       "      <td>Washington Pl &amp; 6 Ave</td>\n",
       "      <td>40.732241</td>\n",
       "      <td>-74.000264</td>\n",
       "      <td>301</td>\n",
       "      <td>E 2 St &amp; Avenue B</td>\n",
       "      <td>40.722174</td>\n",
       "      <td>-73.983688</td>\n",
       "      <td>15821</td>\n",
       "      <td>Subscriber</td>\n",
       "      <td>1989.0</td>\n",
       "      <td>1</td>\n",
       "      <td>28.0</td>\n",
       "    </tr>\n",
       "    <tr>\n",
       "      <th>791645</th>\n",
       "      <td>654</td>\n",
       "      <td>2017-02-28 23:59:47</td>\n",
       "      <td>2017-03-01 00:10:42</td>\n",
       "      <td>3315</td>\n",
       "      <td>Henry St &amp; Degraw St</td>\n",
       "      <td>40.684751</td>\n",
       "      <td>-73.999173</td>\n",
       "      <td>3321</td>\n",
       "      <td>Clinton St &amp; Union St</td>\n",
       "      <td>40.683116</td>\n",
       "      <td>-73.997853</td>\n",
       "      <td>19737</td>\n",
       "      <td>Subscriber</td>\n",
       "      <td>1987.0</td>\n",
       "      <td>1</td>\n",
       "      <td>30.0</td>\n",
       "    </tr>\n",
       "    <tr>\n",
       "      <th>791646</th>\n",
       "      <td>1554</td>\n",
       "      <td>2017-02-28 23:59:59</td>\n",
       "      <td>2017-03-01 00:25:53</td>\n",
       "      <td>334</td>\n",
       "      <td>W 20 St &amp; 7 Ave</td>\n",
       "      <td>40.742388</td>\n",
       "      <td>-73.997262</td>\n",
       "      <td>3142</td>\n",
       "      <td>1 Ave &amp; E 62 St</td>\n",
       "      <td>40.761227</td>\n",
       "      <td>-73.960940</td>\n",
       "      <td>20556</td>\n",
       "      <td>Subscriber</td>\n",
       "      <td>1959.0</td>\n",
       "      <td>1</td>\n",
       "      <td>58.0</td>\n",
       "    </tr>\n",
       "  </tbody>\n",
       "</table>\n",
       "<p>734206 rows × 16 columns</p>\n",
       "</div>"
      ],
      "text/plain": [
       "        Trip Duration           Start Time            Stop Time  \\\n",
       "0                1087  2017-02-01 00:00:13  2017-02-01 00:18:20   \n",
       "2                 212  2017-02-01 00:00:34  2017-02-01 00:04:06   \n",
       "3                1140  2017-02-01 00:00:44  2017-02-01 00:19:44   \n",
       "4                 320  2017-02-01 00:00:42  2017-02-01 00:06:02   \n",
       "5                 277  2017-02-01 00:00:56  2017-02-01 00:05:34   \n",
       "...               ...                  ...                  ...   \n",
       "791642            267  2017-02-28 23:59:20  2017-03-01 00:03:48   \n",
       "791643            621  2017-02-28 23:59:25  2017-03-01 00:09:46   \n",
       "791644            612  2017-02-28 23:59:44  2017-03-01 00:09:56   \n",
       "791645            654  2017-02-28 23:59:47  2017-03-01 00:10:42   \n",
       "791646           1554  2017-02-28 23:59:59  2017-03-01 00:25:53   \n",
       "\n",
       "        Start Station ID           Start Station Name  Start Station Latitude  \\\n",
       "0                    345              W 13 St & 6 Ave               40.736494   \n",
       "2                    336  Sullivan St & Washington Sq               40.730477   \n",
       "3                    484              W 44 St & 5 Ave               40.755003   \n",
       "4                    490              8 Ave & W 33 St               40.751551   \n",
       "5                    285           Broadway & E 14 St               40.734546   \n",
       "...                  ...                          ...                     ...   \n",
       "791642              3223              E 55 St & 3 Ave               40.758997   \n",
       "791643               461              E 20 St & 2 Ave               40.735877   \n",
       "791644               369        Washington Pl & 6 Ave               40.732241   \n",
       "791645              3315         Henry St & Degraw St               40.684751   \n",
       "791646               334              W 20 St & 7 Ave               40.742388   \n",
       "\n",
       "        Start Station Longitude  End Station ID          End Station Name  \\\n",
       "0                    -73.997044             305           E 58 St & 3 Ave   \n",
       "2                    -73.999061             439            E 4 St & 2 Ave   \n",
       "3                    -73.980144            3295  Central Park W & W 96 St   \n",
       "4                    -73.993934            3431           E 35 St & 3 Ave   \n",
       "5                    -73.990741             251       Mott St & Prince St   \n",
       "...                         ...             ...                       ...   \n",
       "791642               -73.968654            3376           E 65 St & 2 Ave   \n",
       "791643               -73.982050             334           W 20 St & 7 Ave   \n",
       "791644               -74.000264             301         E 2 St & Avenue B   \n",
       "791645               -73.999173            3321     Clinton St & Union St   \n",
       "791646               -73.997262            3142           1 Ave & E 62 St   \n",
       "\n",
       "        End Station Latitude  End Station Longitude  Bike ID   User Type  \\\n",
       "0                  40.760958             -73.967245    17432  Subscriber   \n",
       "2                  40.726281             -73.989780    16826  Subscriber   \n",
       "3                  40.791270             -73.964839    27052  Subscriber   \n",
       "4                  40.746524             -73.977885    25238  Subscriber   \n",
       "5                  40.723180             -73.994800    20617  Subscriber   \n",
       "...                      ...                    ...      ...         ...   \n",
       "791642             40.764719             -73.962221    26420  Subscriber   \n",
       "791643             40.742388             -73.997262    17112  Subscriber   \n",
       "791644             40.722174             -73.983688    15821  Subscriber   \n",
       "791645             40.683116             -73.997853    19737  Subscriber   \n",
       "791646             40.761227             -73.960940    20556  Subscriber   \n",
       "\n",
       "        Birth Year  Gender   Age  \n",
       "0           1966.0       1  51.0  \n",
       "2           1984.0       1  33.0  \n",
       "3           1980.0       1  37.0  \n",
       "4           1987.0       1  30.0  \n",
       "5           1975.0       1  42.0  \n",
       "...            ...     ...   ...  \n",
       "791642      1976.0       1  41.0  \n",
       "791643      1989.0       1  28.0  \n",
       "791644      1989.0       1  28.0  \n",
       "791645      1987.0       1  30.0  \n",
       "791646      1959.0       1  58.0  \n",
       "\n",
       "[734206 rows x 16 columns]"
      ]
     },
     "execution_count": 122,
     "metadata": {},
     "output_type": "execute_result"
    }
   ],
   "source": [
    "citibike_2.drop(columns='Age_1')"
   ]
  },
  {
   "cell_type": "code",
   "execution_count": 123,
   "metadata": {
    "colab": {
     "base_uri": "https://localhost:8080/"
    },
    "id": "dLMWPYJA3SjX",
    "outputId": "240699ba-c6bc-42fa-bd11-9cc8faad3c23"
   },
   "outputs": [
    {
     "data": {
      "text/plain": [
       "1    562434\n",
       "2    169215\n",
       "0      2557\n",
       "Name: Gender, dtype: int64"
      ]
     },
     "execution_count": 123,
     "metadata": {},
     "output_type": "execute_result"
    }
   ],
   "source": [
    "citibike_2['Gender'].value_counts() #Selanjutnya mengetahui jumlah gender unknown atau disimbolkan dengan nol"
   ]
  },
  {
   "cell_type": "code",
   "execution_count": 124,
   "metadata": {
    "id": "NDd6QecK3dPy"
   },
   "outputs": [],
   "source": [
    "filt_3 = (citibike_2 ['Gender']>0)"
   ]
  },
  {
   "cell_type": "code",
   "execution_count": 125,
   "metadata": {
    "id": "Z6IZMWhA36gI"
   },
   "outputs": [],
   "source": [
    "citibike_3= citibike_2.loc[filt_3]"
   ]
  },
  {
   "cell_type": "code",
   "execution_count": 126,
   "metadata": {
    "colab": {
     "base_uri": "https://localhost:8080/",
     "height": 355
    },
    "id": "iI4GWEZr0brr",
    "outputId": "d11c366a-7156-4539-b251-f091fffce7b8"
   },
   "outputs": [
    {
     "data": {
      "text/html": [
       "<div>\n",
       "<style scoped>\n",
       "    .dataframe tbody tr th:only-of-type {\n",
       "        vertical-align: middle;\n",
       "    }\n",
       "\n",
       "    .dataframe tbody tr th {\n",
       "        vertical-align: top;\n",
       "    }\n",
       "\n",
       "    .dataframe thead th {\n",
       "        text-align: right;\n",
       "    }\n",
       "</style>\n",
       "<table border=\"1\" class=\"dataframe\">\n",
       "  <thead>\n",
       "    <tr style=\"text-align: right;\">\n",
       "      <th></th>\n",
       "      <th>Trip Duration</th>\n",
       "      <th>Start Station ID</th>\n",
       "      <th>Start Station Latitude</th>\n",
       "      <th>Start Station Longitude</th>\n",
       "      <th>End Station ID</th>\n",
       "      <th>End Station Latitude</th>\n",
       "      <th>End Station Longitude</th>\n",
       "      <th>Bike ID</th>\n",
       "      <th>Birth Year</th>\n",
       "      <th>Gender</th>\n",
       "      <th>Age_1</th>\n",
       "      <th>Age</th>\n",
       "    </tr>\n",
       "  </thead>\n",
       "  <tbody>\n",
       "    <tr>\n",
       "      <th>count</th>\n",
       "      <td>7.316490e+05</td>\n",
       "      <td>731649.000000</td>\n",
       "      <td>731649.000000</td>\n",
       "      <td>731649.000000</td>\n",
       "      <td>731649.00000</td>\n",
       "      <td>731649.000000</td>\n",
       "      <td>731649.000000</td>\n",
       "      <td>731649.000000</td>\n",
       "      <td>731649.000000</td>\n",
       "      <td>731649.000000</td>\n",
       "      <td>731649.000000</td>\n",
       "      <td>731649.000000</td>\n",
       "    </tr>\n",
       "    <tr>\n",
       "      <th>mean</th>\n",
       "      <td>7.431337e+02</td>\n",
       "      <td>1208.935103</td>\n",
       "      <td>40.736792</td>\n",
       "      <td>-73.985299</td>\n",
       "      <td>1194.50306</td>\n",
       "      <td>40.736411</td>\n",
       "      <td>-73.985338</td>\n",
       "      <td>21896.384861</td>\n",
       "      <td>1977.700910</td>\n",
       "      <td>1.231279</td>\n",
       "      <td>-39.299090</td>\n",
       "      <td>39.299090</td>\n",
       "    </tr>\n",
       "    <tr>\n",
       "      <th>std</th>\n",
       "      <td>6.170210e+03</td>\n",
       "      <td>1274.856475</td>\n",
       "      <td>0.026333</td>\n",
       "      <td>0.015990</td>\n",
       "      <td>1268.46139</td>\n",
       "      <td>0.072228</td>\n",
       "      <td>0.123370</td>\n",
       "      <td>4339.524864</td>\n",
       "      <td>11.876944</td>\n",
       "      <td>0.421651</td>\n",
       "      <td>11.876944</td>\n",
       "      <td>11.876944</td>\n",
       "    </tr>\n",
       "    <tr>\n",
       "      <th>min</th>\n",
       "      <td>6.100000e+01</td>\n",
       "      <td>72.000000</td>\n",
       "      <td>40.646538</td>\n",
       "      <td>-74.017134</td>\n",
       "      <td>72.00000</td>\n",
       "      <td>0.000000</td>\n",
       "      <td>-74.038526</td>\n",
       "      <td>14529.000000</td>\n",
       "      <td>1938.000000</td>\n",
       "      <td>1.000000</td>\n",
       "      <td>-79.000000</td>\n",
       "      <td>16.000000</td>\n",
       "    </tr>\n",
       "    <tr>\n",
       "      <th>25%</th>\n",
       "      <td>3.340000e+02</td>\n",
       "      <td>355.000000</td>\n",
       "      <td>40.720664</td>\n",
       "      <td>-73.995960</td>\n",
       "      <td>350.00000</td>\n",
       "      <td>40.720664</td>\n",
       "      <td>-73.996123</td>\n",
       "      <td>17897.000000</td>\n",
       "      <td>1969.000000</td>\n",
       "      <td>1.000000</td>\n",
       "      <td>-48.000000</td>\n",
       "      <td>30.000000</td>\n",
       "    </tr>\n",
       "    <tr>\n",
       "      <th>50%</th>\n",
       "      <td>5.310000e+02</td>\n",
       "      <td>479.000000</td>\n",
       "      <td>40.738274</td>\n",
       "      <td>-73.987538</td>\n",
       "      <td>478.00000</td>\n",
       "      <td>40.738177</td>\n",
       "      <td>-73.987834</td>\n",
       "      <td>21320.000000</td>\n",
       "      <td>1980.000000</td>\n",
       "      <td>1.000000</td>\n",
       "      <td>-37.000000</td>\n",
       "      <td>37.000000</td>\n",
       "    </tr>\n",
       "    <tr>\n",
       "      <th>75%</th>\n",
       "      <td>8.670000e+02</td>\n",
       "      <td>3087.000000</td>\n",
       "      <td>40.754666</td>\n",
       "      <td>-73.977112</td>\n",
       "      <td>3078.00000</td>\n",
       "      <td>40.753231</td>\n",
       "      <td>-73.977387</td>\n",
       "      <td>26021.000000</td>\n",
       "      <td>1987.000000</td>\n",
       "      <td>1.000000</td>\n",
       "      <td>-30.000000</td>\n",
       "      <td>48.000000</td>\n",
       "    </tr>\n",
       "    <tr>\n",
       "      <th>max</th>\n",
       "      <td>2.836964e+06</td>\n",
       "      <td>3454.000000</td>\n",
       "      <td>40.804213</td>\n",
       "      <td>-73.929891</td>\n",
       "      <td>3454.00000</td>\n",
       "      <td>40.804213</td>\n",
       "      <td>0.000000</td>\n",
       "      <td>27965.000000</td>\n",
       "      <td>2001.000000</td>\n",
       "      <td>2.000000</td>\n",
       "      <td>-16.000000</td>\n",
       "      <td>79.000000</td>\n",
       "    </tr>\n",
       "  </tbody>\n",
       "</table>\n",
       "</div>"
      ],
      "text/plain": [
       "       Trip Duration  Start Station ID  Start Station Latitude  \\\n",
       "count   7.316490e+05     731649.000000           731649.000000   \n",
       "mean    7.431337e+02       1208.935103               40.736792   \n",
       "std     6.170210e+03       1274.856475                0.026333   \n",
       "min     6.100000e+01         72.000000               40.646538   \n",
       "25%     3.340000e+02        355.000000               40.720664   \n",
       "50%     5.310000e+02        479.000000               40.738274   \n",
       "75%     8.670000e+02       3087.000000               40.754666   \n",
       "max     2.836964e+06       3454.000000               40.804213   \n",
       "\n",
       "       Start Station Longitude  End Station ID  End Station Latitude  \\\n",
       "count            731649.000000    731649.00000         731649.000000   \n",
       "mean                -73.985299      1194.50306             40.736411   \n",
       "std                   0.015990      1268.46139              0.072228   \n",
       "min                 -74.017134        72.00000              0.000000   \n",
       "25%                 -73.995960       350.00000             40.720664   \n",
       "50%                 -73.987538       478.00000             40.738177   \n",
       "75%                 -73.977112      3078.00000             40.753231   \n",
       "max                 -73.929891      3454.00000             40.804213   \n",
       "\n",
       "       End Station Longitude        Bike ID     Birth Year         Gender  \\\n",
       "count          731649.000000  731649.000000  731649.000000  731649.000000   \n",
       "mean              -73.985338   21896.384861    1977.700910       1.231279   \n",
       "std                 0.123370    4339.524864      11.876944       0.421651   \n",
       "min               -74.038526   14529.000000    1938.000000       1.000000   \n",
       "25%               -73.996123   17897.000000    1969.000000       1.000000   \n",
       "50%               -73.987834   21320.000000    1980.000000       1.000000   \n",
       "75%               -73.977387   26021.000000    1987.000000       1.000000   \n",
       "max                 0.000000   27965.000000    2001.000000       2.000000   \n",
       "\n",
       "               Age_1            Age  \n",
       "count  731649.000000  731649.000000  \n",
       "mean      -39.299090      39.299090  \n",
       "std        11.876944      11.876944  \n",
       "min       -79.000000      16.000000  \n",
       "25%       -48.000000      30.000000  \n",
       "50%       -37.000000      37.000000  \n",
       "75%       -30.000000      48.000000  \n",
       "max       -16.000000      79.000000  "
      ]
     },
     "execution_count": 126,
     "metadata": {},
     "output_type": "execute_result"
    }
   ],
   "source": [
    "citibike_3.describe()"
   ]
  },
  {
   "cell_type": "markdown",
   "metadata": {
    "id": "Qysr7kPT0Wik"
   },
   "source": [
    "*Hasil cleaning\n",
    "* Melakukan filtering data dimana trip durasi yaitu minimal 60 detik\n",
    "* Birth date minimum tahun kelahiran 1938 masehi atau maksimal 79 tahun\n",
    "* Ditambah new column \"Age\" berdasarkan pengurangan tahun 2017 terhdadp birth date\n",
    "* Menghapus data \"0\" di Gender"
   ]
  },
  {
   "cell_type": "code",
   "execution_count": 127,
   "metadata": {
    "colab": {
     "base_uri": "https://localhost:8080/"
    },
    "id": "zF3IKukLvqJ8",
    "outputId": "a0927d44-3e80-496a-dea4-9c8530041e98"
   },
   "outputs": [
    {
     "data": {
      "text/plain": [
       "Trip Duration              0\n",
       "Start Time                 0\n",
       "Stop Time                  0\n",
       "Start Station ID           0\n",
       "Start Station Name         0\n",
       "Start Station Latitude     0\n",
       "Start Station Longitude    0\n",
       "End Station ID             0\n",
       "End Station Name           0\n",
       "End Station Latitude       0\n",
       "End Station Longitude      0\n",
       "Bike ID                    0\n",
       "User Type                  0\n",
       "Birth Year                 0\n",
       "Gender                     0\n",
       "Age_1                      0\n",
       "Age                        0\n",
       "dtype: int64"
      ]
     },
     "execution_count": 127,
     "metadata": {},
     "output_type": "execute_result"
    }
   ],
   "source": [
    "citibike_3.isna().sum()"
   ]
  },
  {
   "cell_type": "code",
   "execution_count": 128,
   "metadata": {
    "colab": {
     "base_uri": "https://localhost:8080/",
     "height": 469
    },
    "id": "tuOqsyDw1T_z",
    "outputId": "072ebe4f-0a2e-49e8-fd66-0254c3068dcb"
   },
   "outputs": [
    {
     "data": {
      "text/html": [
       "<div>\n",
       "<style scoped>\n",
       "    .dataframe tbody tr th:only-of-type {\n",
       "        vertical-align: middle;\n",
       "    }\n",
       "\n",
       "    .dataframe tbody tr th {\n",
       "        vertical-align: top;\n",
       "    }\n",
       "\n",
       "    .dataframe thead th {\n",
       "        text-align: right;\n",
       "    }\n",
       "</style>\n",
       "<table border=\"1\" class=\"dataframe\">\n",
       "  <thead>\n",
       "    <tr style=\"text-align: right;\">\n",
       "      <th></th>\n",
       "      <th>Trip Duration</th>\n",
       "      <th>Start Time</th>\n",
       "      <th>Stop Time</th>\n",
       "      <th>Start Station ID</th>\n",
       "      <th>Start Station Name</th>\n",
       "      <th>Start Station Latitude</th>\n",
       "      <th>Start Station Longitude</th>\n",
       "      <th>End Station ID</th>\n",
       "      <th>End Station Name</th>\n",
       "      <th>End Station Latitude</th>\n",
       "      <th>End Station Longitude</th>\n",
       "      <th>Bike ID</th>\n",
       "      <th>User Type</th>\n",
       "      <th>Birth Year</th>\n",
       "      <th>Gender</th>\n",
       "      <th>Age_1</th>\n",
       "      <th>Age</th>\n",
       "    </tr>\n",
       "  </thead>\n",
       "  <tbody>\n",
       "    <tr>\n",
       "      <th>0</th>\n",
       "      <td>1087</td>\n",
       "      <td>2017-02-01 00:00:13</td>\n",
       "      <td>2017-02-01 00:18:20</td>\n",
       "      <td>345</td>\n",
       "      <td>W 13 St &amp; 6 Ave</td>\n",
       "      <td>40.736494</td>\n",
       "      <td>-73.997044</td>\n",
       "      <td>305</td>\n",
       "      <td>E 58 St &amp; 3 Ave</td>\n",
       "      <td>40.760958</td>\n",
       "      <td>-73.967245</td>\n",
       "      <td>17432</td>\n",
       "      <td>Subscriber</td>\n",
       "      <td>1966.0</td>\n",
       "      <td>1</td>\n",
       "      <td>-51.0</td>\n",
       "      <td>51.0</td>\n",
       "    </tr>\n",
       "    <tr>\n",
       "      <th>2</th>\n",
       "      <td>212</td>\n",
       "      <td>2017-02-01 00:00:34</td>\n",
       "      <td>2017-02-01 00:04:06</td>\n",
       "      <td>336</td>\n",
       "      <td>Sullivan St &amp; Washington Sq</td>\n",
       "      <td>40.730477</td>\n",
       "      <td>-73.999061</td>\n",
       "      <td>439</td>\n",
       "      <td>E 4 St &amp; 2 Ave</td>\n",
       "      <td>40.726281</td>\n",
       "      <td>-73.989780</td>\n",
       "      <td>16826</td>\n",
       "      <td>Subscriber</td>\n",
       "      <td>1984.0</td>\n",
       "      <td>1</td>\n",
       "      <td>-33.0</td>\n",
       "      <td>33.0</td>\n",
       "    </tr>\n",
       "    <tr>\n",
       "      <th>3</th>\n",
       "      <td>1140</td>\n",
       "      <td>2017-02-01 00:00:44</td>\n",
       "      <td>2017-02-01 00:19:44</td>\n",
       "      <td>484</td>\n",
       "      <td>W 44 St &amp; 5 Ave</td>\n",
       "      <td>40.755003</td>\n",
       "      <td>-73.980144</td>\n",
       "      <td>3295</td>\n",
       "      <td>Central Park W &amp; W 96 St</td>\n",
       "      <td>40.791270</td>\n",
       "      <td>-73.964839</td>\n",
       "      <td>27052</td>\n",
       "      <td>Subscriber</td>\n",
       "      <td>1980.0</td>\n",
       "      <td>1</td>\n",
       "      <td>-37.0</td>\n",
       "      <td>37.0</td>\n",
       "    </tr>\n",
       "    <tr>\n",
       "      <th>4</th>\n",
       "      <td>320</td>\n",
       "      <td>2017-02-01 00:00:42</td>\n",
       "      <td>2017-02-01 00:06:02</td>\n",
       "      <td>490</td>\n",
       "      <td>8 Ave &amp; W 33 St</td>\n",
       "      <td>40.751551</td>\n",
       "      <td>-73.993934</td>\n",
       "      <td>3431</td>\n",
       "      <td>E 35 St &amp; 3 Ave</td>\n",
       "      <td>40.746524</td>\n",
       "      <td>-73.977885</td>\n",
       "      <td>25238</td>\n",
       "      <td>Subscriber</td>\n",
       "      <td>1987.0</td>\n",
       "      <td>1</td>\n",
       "      <td>-30.0</td>\n",
       "      <td>30.0</td>\n",
       "    </tr>\n",
       "    <tr>\n",
       "      <th>5</th>\n",
       "      <td>277</td>\n",
       "      <td>2017-02-01 00:00:56</td>\n",
       "      <td>2017-02-01 00:05:34</td>\n",
       "      <td>285</td>\n",
       "      <td>Broadway &amp; E 14 St</td>\n",
       "      <td>40.734546</td>\n",
       "      <td>-73.990741</td>\n",
       "      <td>251</td>\n",
       "      <td>Mott St &amp; Prince St</td>\n",
       "      <td>40.723180</td>\n",
       "      <td>-73.994800</td>\n",
       "      <td>20617</td>\n",
       "      <td>Subscriber</td>\n",
       "      <td>1975.0</td>\n",
       "      <td>1</td>\n",
       "      <td>-42.0</td>\n",
       "      <td>42.0</td>\n",
       "    </tr>\n",
       "  </tbody>\n",
       "</table>\n",
       "</div>"
      ],
      "text/plain": [
       "   Trip Duration           Start Time            Stop Time  Start Station ID  \\\n",
       "0           1087  2017-02-01 00:00:13  2017-02-01 00:18:20               345   \n",
       "2            212  2017-02-01 00:00:34  2017-02-01 00:04:06               336   \n",
       "3           1140  2017-02-01 00:00:44  2017-02-01 00:19:44               484   \n",
       "4            320  2017-02-01 00:00:42  2017-02-01 00:06:02               490   \n",
       "5            277  2017-02-01 00:00:56  2017-02-01 00:05:34               285   \n",
       "\n",
       "            Start Station Name  Start Station Latitude  \\\n",
       "0              W 13 St & 6 Ave               40.736494   \n",
       "2  Sullivan St & Washington Sq               40.730477   \n",
       "3              W 44 St & 5 Ave               40.755003   \n",
       "4              8 Ave & W 33 St               40.751551   \n",
       "5           Broadway & E 14 St               40.734546   \n",
       "\n",
       "   Start Station Longitude  End Station ID          End Station Name  \\\n",
       "0               -73.997044             305           E 58 St & 3 Ave   \n",
       "2               -73.999061             439            E 4 St & 2 Ave   \n",
       "3               -73.980144            3295  Central Park W & W 96 St   \n",
       "4               -73.993934            3431           E 35 St & 3 Ave   \n",
       "5               -73.990741             251       Mott St & Prince St   \n",
       "\n",
       "   End Station Latitude  End Station Longitude  Bike ID   User Type  \\\n",
       "0             40.760958             -73.967245    17432  Subscriber   \n",
       "2             40.726281             -73.989780    16826  Subscriber   \n",
       "3             40.791270             -73.964839    27052  Subscriber   \n",
       "4             40.746524             -73.977885    25238  Subscriber   \n",
       "5             40.723180             -73.994800    20617  Subscriber   \n",
       "\n",
       "   Birth Year  Gender  Age_1   Age  \n",
       "0      1966.0       1  -51.0  51.0  \n",
       "2      1984.0       1  -33.0  33.0  \n",
       "3      1980.0       1  -37.0  37.0  \n",
       "4      1987.0       1  -30.0  30.0  \n",
       "5      1975.0       1  -42.0  42.0  "
      ]
     },
     "execution_count": 128,
     "metadata": {},
     "output_type": "execute_result"
    }
   ],
   "source": [
    "citibike_3.head()"
   ]
  },
  {
   "cell_type": "markdown",
   "metadata": {
    "id": "YKGAzSYmonBK"
   },
   "source": [
    "## Who rides citibikes? Show ridership distribution by gender, user type, and age\n",
    "Process the data and plot your answers"
   ]
  },
  {
   "cell_type": "code",
   "execution_count": 129,
   "metadata": {
    "id": "-TG7_rRaonBK"
   },
   "outputs": [],
   "source": [
    "\n",
    "import matplotlib.pyplot as plt\n"
   ]
  },
  {
   "cell_type": "code",
   "execution_count": 130,
   "metadata": {
    "colab": {
     "base_uri": "https://localhost:8080/",
     "height": 423
    },
    "id": "ETs7H1HJ8v-M",
    "outputId": "3bf04e8d-38d6-47dc-8639-fb896057a89b"
   },
   "outputs": [
    {
     "data": {
      "text/html": [
       "<div>\n",
       "<style scoped>\n",
       "    .dataframe tbody tr th:only-of-type {\n",
       "        vertical-align: middle;\n",
       "    }\n",
       "\n",
       "    .dataframe tbody tr th {\n",
       "        vertical-align: top;\n",
       "    }\n",
       "\n",
       "    .dataframe thead th {\n",
       "        text-align: right;\n",
       "    }\n",
       "</style>\n",
       "<table border=\"1\" class=\"dataframe\">\n",
       "  <thead>\n",
       "    <tr style=\"text-align: right;\">\n",
       "      <th></th>\n",
       "      <th>Gender</th>\n",
       "      <th>Age</th>\n",
       "      <th>User Type</th>\n",
       "    </tr>\n",
       "  </thead>\n",
       "  <tbody>\n",
       "    <tr>\n",
       "      <th>0</th>\n",
       "      <td>1</td>\n",
       "      <td>51.0</td>\n",
       "      <td>Subscriber</td>\n",
       "    </tr>\n",
       "    <tr>\n",
       "      <th>2</th>\n",
       "      <td>1</td>\n",
       "      <td>33.0</td>\n",
       "      <td>Subscriber</td>\n",
       "    </tr>\n",
       "    <tr>\n",
       "      <th>3</th>\n",
       "      <td>1</td>\n",
       "      <td>37.0</td>\n",
       "      <td>Subscriber</td>\n",
       "    </tr>\n",
       "    <tr>\n",
       "      <th>4</th>\n",
       "      <td>1</td>\n",
       "      <td>30.0</td>\n",
       "      <td>Subscriber</td>\n",
       "    </tr>\n",
       "    <tr>\n",
       "      <th>5</th>\n",
       "      <td>1</td>\n",
       "      <td>42.0</td>\n",
       "      <td>Subscriber</td>\n",
       "    </tr>\n",
       "    <tr>\n",
       "      <th>...</th>\n",
       "      <td>...</td>\n",
       "      <td>...</td>\n",
       "      <td>...</td>\n",
       "    </tr>\n",
       "    <tr>\n",
       "      <th>791642</th>\n",
       "      <td>1</td>\n",
       "      <td>41.0</td>\n",
       "      <td>Subscriber</td>\n",
       "    </tr>\n",
       "    <tr>\n",
       "      <th>791643</th>\n",
       "      <td>1</td>\n",
       "      <td>28.0</td>\n",
       "      <td>Subscriber</td>\n",
       "    </tr>\n",
       "    <tr>\n",
       "      <th>791644</th>\n",
       "      <td>1</td>\n",
       "      <td>28.0</td>\n",
       "      <td>Subscriber</td>\n",
       "    </tr>\n",
       "    <tr>\n",
       "      <th>791645</th>\n",
       "      <td>1</td>\n",
       "      <td>30.0</td>\n",
       "      <td>Subscriber</td>\n",
       "    </tr>\n",
       "    <tr>\n",
       "      <th>791646</th>\n",
       "      <td>1</td>\n",
       "      <td>58.0</td>\n",
       "      <td>Subscriber</td>\n",
       "    </tr>\n",
       "  </tbody>\n",
       "</table>\n",
       "<p>731649 rows × 3 columns</p>\n",
       "</div>"
      ],
      "text/plain": [
       "        Gender   Age   User Type\n",
       "0            1  51.0  Subscriber\n",
       "2            1  33.0  Subscriber\n",
       "3            1  37.0  Subscriber\n",
       "4            1  30.0  Subscriber\n",
       "5            1  42.0  Subscriber\n",
       "...        ...   ...         ...\n",
       "791642       1  41.0  Subscriber\n",
       "791643       1  28.0  Subscriber\n",
       "791644       1  28.0  Subscriber\n",
       "791645       1  30.0  Subscriber\n",
       "791646       1  58.0  Subscriber\n",
       "\n",
       "[731649 rows x 3 columns]"
      ]
     },
     "execution_count": 130,
     "metadata": {},
     "output_type": "execute_result"
    }
   ],
   "source": [
    "citibike_4 = citibike_3[[\"Gender\", \"Age\",\"User Type\"]]\n",
    "citibike_4"
   ]
  },
  {
   "cell_type": "code",
   "execution_count": 131,
   "metadata": {},
   "outputs": [
    {
     "data": {
      "text/plain": [
       "Text(0.5, 0, 'Jenis Kelamin (1:Male ; 2 :Female)')"
      ]
     },
     "execution_count": 131,
     "metadata": {},
     "output_type": "execute_result"
    },
    {
     "data": {
      "image/png": "[encoded data removed]",
      "text/plain": [
       "<Figure size 360x288 with 1 Axes>"
      ]
     },
     "metadata": {},
     "output_type": "display_data"
    }
   ],
   "source": [
    "citibike_3['Gender'].value_counts().plot(kind='bar');\n",
    "plt.title(\"Distribusi rides citibikes berdasarkan umur\")\n",
    "plt.ylabel(\"Jumlah Pengendara(satuan)\")\n",
    "plt.xlabel(\"Jenis Kelamin (1:Male ; 2 :Female)\") "
   ]
  },
  {
   "cell_type": "code",
   "execution_count": 132,
   "metadata": {
    "colab": {
     "base_uri": "https://localhost:8080/",
     "height": 319
    },
    "id": "Z1GYAXvpIKNJ",
    "outputId": "ff1635cd-c438-4a87-d905-f56baca304d4"
   },
   "outputs": [
    {
     "data": {
      "text/plain": [
       "Text(0.5, 0, 'Umur')"
      ]
     },
     "execution_count": 132,
     "metadata": {},
     "output_type": "execute_result"
    },
    {
     "data": {
      "image/png": "[encoded data removed]",
      "text/plain": [
       "<Figure size 360x288 with 1 Axes>"
      ]
     },
     "metadata": {},
     "output_type": "display_data"
    }
   ],
   "source": [
    "citibike_4.hist(\"Age\")\n",
    "plt.title(\"Distribusi rides citibikes berdasarkan umur\")\n",
    "plt.ylabel(\"Jumlah Pengendara(satuan)\")\n",
    "plt.xlabel(\"Umur\") "
   ]
  },
  {
   "cell_type": "code",
   "execution_count": 133,
   "metadata": {
    "colab": {
     "base_uri": "https://localhost:8080/"
    },
    "id": "QhhgB58MV5br",
    "outputId": "fbcdde5a-8039-4f3e-ba52-94d449bcc3a5"
   },
   "outputs": [
    {
     "data": {
      "text/plain": [
       "Subscriber    731251\n",
       "Customer         398\n",
       "Name: User Type, dtype: int64"
      ]
     },
     "execution_count": 133,
     "metadata": {},
     "output_type": "execute_result"
    }
   ],
   "source": [
    "citibike_3['User Type'].value_counts()"
   ]
  },
  {
   "cell_type": "code",
   "execution_count": 134,
   "metadata": {},
   "outputs": [
    {
     "data": {
      "text/plain": [
       "Text(0.5, 0, 'Jenis User Type')"
      ]
     },
     "execution_count": 134,
     "metadata": {},
     "output_type": "execute_result"
    },
    {
     "data": {
      "image/png": "[encoded data removed]",
      "text/plain": [
       "<Figure size 360x288 with 1 Axes>"
      ]
     },
     "metadata": {},
     "output_type": "display_data"
    }
   ],
   "source": [
    "citibike_3['User Type'].value_counts().plot(kind='bar');\n",
    "plt.title(\"Distribusi rides citibikes berdasarkan User Type\")\n",
    "plt.ylabel(\"Jumlah User Type (satuan)\")\n",
    "plt.xlabel(\"Jenis User Type\") "
   ]
  },
  {
   "cell_type": "raw",
   "metadata": {},
   "source": [
    "Berdasarkan tiga diagram diatas menunjukan bahwa yang mengendarai sepeda di NYC pada bulan Februari didominasi oleh jenis kelamin lakai-laki, rentang usia 3-35 tahun dengan , dan jenis akun type didominasi oleh jenis Subscriber"
   ]
  },
  {
   "cell_type": "markdown",
   "metadata": {
    "id": "m2J8S2yaonBK"
   },
   "source": [
    "## What is the average number of trips per day?"
   ]
  },
  {
   "cell_type": "code",
   "execution_count": 135,
   "metadata": {},
   "outputs": [
    {
     "data": {
      "text/html": [
       "<div>\n",
       "<style scoped>\n",
       "    .dataframe tbody tr th:only-of-type {\n",
       "        vertical-align: middle;\n",
       "    }\n",
       "\n",
       "    .dataframe tbody tr th {\n",
       "        vertical-align: top;\n",
       "    }\n",
       "\n",
       "    .dataframe thead th {\n",
       "        text-align: right;\n",
       "    }\n",
       "</style>\n",
       "<table border=\"1\" class=\"dataframe\">\n",
       "  <thead>\n",
       "    <tr style=\"text-align: right;\">\n",
       "      <th></th>\n",
       "      <th>Trip Duration</th>\n",
       "      <th>Start Time</th>\n",
       "    </tr>\n",
       "  </thead>\n",
       "  <tbody>\n",
       "    <tr>\n",
       "      <th>0</th>\n",
       "      <td>1087</td>\n",
       "      <td>2017-02-01 00:00:13</td>\n",
       "    </tr>\n",
       "    <tr>\n",
       "      <th>2</th>\n",
       "      <td>212</td>\n",
       "      <td>2017-02-01 00:00:34</td>\n",
       "    </tr>\n",
       "    <tr>\n",
       "      <th>3</th>\n",
       "      <td>1140</td>\n",
       "      <td>2017-02-01 00:00:44</td>\n",
       "    </tr>\n",
       "    <tr>\n",
       "      <th>4</th>\n",
       "      <td>320</td>\n",
       "      <td>2017-02-01 00:00:42</td>\n",
       "    </tr>\n",
       "    <tr>\n",
       "      <th>5</th>\n",
       "      <td>277</td>\n",
       "      <td>2017-02-01 00:00:56</td>\n",
       "    </tr>\n",
       "    <tr>\n",
       "      <th>...</th>\n",
       "      <td>...</td>\n",
       "      <td>...</td>\n",
       "    </tr>\n",
       "    <tr>\n",
       "      <th>791642</th>\n",
       "      <td>267</td>\n",
       "      <td>2017-02-28 23:59:20</td>\n",
       "    </tr>\n",
       "    <tr>\n",
       "      <th>791643</th>\n",
       "      <td>621</td>\n",
       "      <td>2017-02-28 23:59:25</td>\n",
       "    </tr>\n",
       "    <tr>\n",
       "      <th>791644</th>\n",
       "      <td>612</td>\n",
       "      <td>2017-02-28 23:59:44</td>\n",
       "    </tr>\n",
       "    <tr>\n",
       "      <th>791645</th>\n",
       "      <td>654</td>\n",
       "      <td>2017-02-28 23:59:47</td>\n",
       "    </tr>\n",
       "    <tr>\n",
       "      <th>791646</th>\n",
       "      <td>1554</td>\n",
       "      <td>2017-02-28 23:59:59</td>\n",
       "    </tr>\n",
       "  </tbody>\n",
       "</table>\n",
       "<p>731649 rows × 2 columns</p>\n",
       "</div>"
      ],
      "text/plain": [
       "        Trip Duration           Start Time\n",
       "0                1087  2017-02-01 00:00:13\n",
       "2                 212  2017-02-01 00:00:34\n",
       "3                1140  2017-02-01 00:00:44\n",
       "4                 320  2017-02-01 00:00:42\n",
       "5                 277  2017-02-01 00:00:56\n",
       "...               ...                  ...\n",
       "791642            267  2017-02-28 23:59:20\n",
       "791643            621  2017-02-28 23:59:25\n",
       "791644            612  2017-02-28 23:59:44\n",
       "791645            654  2017-02-28 23:59:47\n",
       "791646           1554  2017-02-28 23:59:59\n",
       "\n",
       "[731649 rows x 2 columns]"
      ]
     },
     "execution_count": 135,
     "metadata": {},
     "output_type": "execute_result"
    }
   ],
   "source": [
    "df = pd.DataFrame(citibike_3, columns= ['Trip Duration', 'Start Time'])\n",
    "df"
   ]
  },
  {
   "cell_type": "code",
   "execution_count": 136,
   "metadata": {},
   "outputs": [
    {
     "name": "stdout",
     "output_type": "stream",
     "text": [
      "<class 'pandas.core.frame.DataFrame'>\n",
      "Int64Index: 731649 entries, 0 to 791646\n",
      "Data columns (total 2 columns):\n",
      " #   Column         Non-Null Count   Dtype         \n",
      "---  ------         --------------   -----         \n",
      " 0   Trip Duration  731649 non-null  int64         \n",
      " 1   Start Time     731649 non-null  datetime64[ns]\n",
      "dtypes: datetime64[ns](1), int64(1)\n",
      "memory usage: 16.7 MB\n"
     ]
    }
   ],
   "source": [
    "df[\"Start Time\"] = pd.to_datetime(df[\"Start Time\"]) #mengubah dari object menjadi date time\n",
    "df.info()"
   ]
  },
  {
   "cell_type": "code",
   "execution_count": 137,
   "metadata": {},
   "outputs": [
    {
     "data": {
      "text/plain": [
       "'Wednesday'"
      ]
     },
     "execution_count": 137,
     "metadata": {},
     "output_type": "execute_result"
    }
   ],
   "source": [
    "df.loc[0, 'Start Time'].day_name()\n"
   ]
  },
  {
   "cell_type": "code",
   "execution_count": 138,
   "metadata": {},
   "outputs": [
    {
     "data": {
      "text/plain": [
       "0         Wednesday\n",
       "2         Wednesday\n",
       "3         Wednesday\n",
       "4         Wednesday\n",
       "5         Wednesday\n",
       "            ...    \n",
       "791642      Tuesday\n",
       "791643      Tuesday\n",
       "791644      Tuesday\n",
       "791645      Tuesday\n",
       "791646      Tuesday\n",
       "Name: Start Time, Length: 731649, dtype: object"
      ]
     },
     "execution_count": 138,
     "metadata": {},
     "output_type": "execute_result"
    }
   ],
   "source": [
    "df['Start Time'].dt.day_name()"
   ]
  },
  {
   "cell_type": "code",
   "execution_count": 139,
   "metadata": {},
   "outputs": [
    {
     "data": {
      "text/html": [
       "<div>\n",
       "<style scoped>\n",
       "    .dataframe tbody tr th:only-of-type {\n",
       "        vertical-align: middle;\n",
       "    }\n",
       "\n",
       "    .dataframe tbody tr th {\n",
       "        vertical-align: top;\n",
       "    }\n",
       "\n",
       "    .dataframe thead th {\n",
       "        text-align: right;\n",
       "    }\n",
       "</style>\n",
       "<table border=\"1\" class=\"dataframe\">\n",
       "  <thead>\n",
       "    <tr style=\"text-align: right;\">\n",
       "      <th></th>\n",
       "      <th>Trip Duration</th>\n",
       "      <th>Start Time</th>\n",
       "      <th>DayOfWeek</th>\n",
       "    </tr>\n",
       "  </thead>\n",
       "  <tbody>\n",
       "    <tr>\n",
       "      <th>0</th>\n",
       "      <td>1087</td>\n",
       "      <td>2017-02-01 00:00:13</td>\n",
       "      <td>Wednesday</td>\n",
       "    </tr>\n",
       "    <tr>\n",
       "      <th>2</th>\n",
       "      <td>212</td>\n",
       "      <td>2017-02-01 00:00:34</td>\n",
       "      <td>Wednesday</td>\n",
       "    </tr>\n",
       "    <tr>\n",
       "      <th>3</th>\n",
       "      <td>1140</td>\n",
       "      <td>2017-02-01 00:00:44</td>\n",
       "      <td>Wednesday</td>\n",
       "    </tr>\n",
       "    <tr>\n",
       "      <th>4</th>\n",
       "      <td>320</td>\n",
       "      <td>2017-02-01 00:00:42</td>\n",
       "      <td>Wednesday</td>\n",
       "    </tr>\n",
       "    <tr>\n",
       "      <th>5</th>\n",
       "      <td>277</td>\n",
       "      <td>2017-02-01 00:00:56</td>\n",
       "      <td>Wednesday</td>\n",
       "    </tr>\n",
       "    <tr>\n",
       "      <th>...</th>\n",
       "      <td>...</td>\n",
       "      <td>...</td>\n",
       "      <td>...</td>\n",
       "    </tr>\n",
       "    <tr>\n",
       "      <th>791642</th>\n",
       "      <td>267</td>\n",
       "      <td>2017-02-28 23:59:20</td>\n",
       "      <td>Tuesday</td>\n",
       "    </tr>\n",
       "    <tr>\n",
       "      <th>791643</th>\n",
       "      <td>621</td>\n",
       "      <td>2017-02-28 23:59:25</td>\n",
       "      <td>Tuesday</td>\n",
       "    </tr>\n",
       "    <tr>\n",
       "      <th>791644</th>\n",
       "      <td>612</td>\n",
       "      <td>2017-02-28 23:59:44</td>\n",
       "      <td>Tuesday</td>\n",
       "    </tr>\n",
       "    <tr>\n",
       "      <th>791645</th>\n",
       "      <td>654</td>\n",
       "      <td>2017-02-28 23:59:47</td>\n",
       "      <td>Tuesday</td>\n",
       "    </tr>\n",
       "    <tr>\n",
       "      <th>791646</th>\n",
       "      <td>1554</td>\n",
       "      <td>2017-02-28 23:59:59</td>\n",
       "      <td>Tuesday</td>\n",
       "    </tr>\n",
       "  </tbody>\n",
       "</table>\n",
       "<p>731649 rows × 3 columns</p>\n",
       "</div>"
      ],
      "text/plain": [
       "        Trip Duration          Start Time  DayOfWeek\n",
       "0                1087 2017-02-01 00:00:13  Wednesday\n",
       "2                 212 2017-02-01 00:00:34  Wednesday\n",
       "3                1140 2017-02-01 00:00:44  Wednesday\n",
       "4                 320 2017-02-01 00:00:42  Wednesday\n",
       "5                 277 2017-02-01 00:00:56  Wednesday\n",
       "...               ...                 ...        ...\n",
       "791642            267 2017-02-28 23:59:20    Tuesday\n",
       "791643            621 2017-02-28 23:59:25    Tuesday\n",
       "791644            612 2017-02-28 23:59:44    Tuesday\n",
       "791645            654 2017-02-28 23:59:47    Tuesday\n",
       "791646           1554 2017-02-28 23:59:59    Tuesday\n",
       "\n",
       "[731649 rows x 3 columns]"
      ]
     },
     "execution_count": 139,
     "metadata": {},
     "output_type": "execute_result"
    }
   ],
   "source": [
    "df['DayOfWeek'] = df['Start Time'].dt.day_name()\n",
    "df"
   ]
  },
  {
   "cell_type": "code",
   "execution_count": 144,
   "metadata": {},
   "outputs": [],
   "source": [
    "trip =df['DayOfWeek'].value_counts()"
   ]
  },
  {
   "cell_type": "code",
   "execution_count": 147,
   "metadata": {},
   "outputs": [],
   "source": [
    "Trip=round(trip.mean())"
   ]
  },
  {
   "cell_type": "code",
   "execution_count": 148,
   "metadata": {},
   "outputs": [
    {
     "name": "stdout",
     "output_type": "stream",
     "text": [
      "Rata-rata jumlah trips ridebike per hari : 104521 Trips\n"
     ]
    }
   ],
   "source": [
    "print(\"Rata-rata jumlah trips ridebike per hari :\", Trip, \"Trips\")"
   ]
  },
  {
   "cell_type": "markdown",
   "metadata": {
    "id": "jDXuL_fgonBK"
   },
   "source": [
    "## What is the average trip duration?"
   ]
  },
  {
   "cell_type": "code",
   "execution_count": 143,
   "metadata": {},
   "outputs": [
    {
     "data": {
      "text/html": [
       "<div>\n",
       "<style scoped>\n",
       "    .dataframe tbody tr th:only-of-type {\n",
       "        vertical-align: middle;\n",
       "    }\n",
       "\n",
       "    .dataframe tbody tr th {\n",
       "        vertical-align: top;\n",
       "    }\n",
       "\n",
       "    .dataframe thead th {\n",
       "        text-align: right;\n",
       "    }\n",
       "</style>\n",
       "<table border=\"1\" class=\"dataframe\">\n",
       "  <thead>\n",
       "    <tr style=\"text-align: right;\">\n",
       "      <th></th>\n",
       "      <th>Trip Duration</th>\n",
       "    </tr>\n",
       "  </thead>\n",
       "  <tbody>\n",
       "    <tr>\n",
       "      <th>count</th>\n",
       "      <td>7.316490e+05</td>\n",
       "    </tr>\n",
       "    <tr>\n",
       "      <th>mean</th>\n",
       "      <td>7.431337e+02</td>\n",
       "    </tr>\n",
       "    <tr>\n",
       "      <th>std</th>\n",
       "      <td>6.170210e+03</td>\n",
       "    </tr>\n",
       "    <tr>\n",
       "      <th>min</th>\n",
       "      <td>6.100000e+01</td>\n",
       "    </tr>\n",
       "    <tr>\n",
       "      <th>25%</th>\n",
       "      <td>3.340000e+02</td>\n",
       "    </tr>\n",
       "    <tr>\n",
       "      <th>50%</th>\n",
       "      <td>5.310000e+02</td>\n",
       "    </tr>\n",
       "    <tr>\n",
       "      <th>75%</th>\n",
       "      <td>8.670000e+02</td>\n",
       "    </tr>\n",
       "    <tr>\n",
       "      <th>max</th>\n",
       "      <td>2.836964e+06</td>\n",
       "    </tr>\n",
       "  </tbody>\n",
       "</table>\n",
       "</div>"
      ],
      "text/plain": [
       "       Trip Duration\n",
       "count   7.316490e+05\n",
       "mean    7.431337e+02\n",
       "std     6.170210e+03\n",
       "min     6.100000e+01\n",
       "25%     3.340000e+02\n",
       "50%     5.310000e+02\n",
       "75%     8.670000e+02\n",
       "max     2.836964e+06"
      ]
     },
     "execution_count": 143,
     "metadata": {},
     "output_type": "execute_result"
    }
   ],
   "source": [
    "df.describe()"
   ]
  },
  {
   "cell_type": "markdown",
   "metadata": {},
   "source": [
    "Nilai rata-rata dari trip duration ialah 743 sekon atau 12.38 menit"
   ]
  },
  {
   "cell_type": "markdown",
   "metadata": {
    "id": "J2Cr5ClOonBL"
   },
   "source": [
    "## What days of the week are most rides taken on?\n",
    "Process the data and plot your answer"
   ]
  },
  {
   "cell_type": "raw",
   "metadata": {},
   "source": [
    "Prosess data nya sama seperti diatas yaitu mengubah Start Date object menjadi datetime, lalu membuat DayofWeek berdasarkan hari nya lalu menghitung harinya"
   ]
  },
  {
   "cell_type": "code",
   "execution_count": 149,
   "metadata": {},
   "outputs": [],
   "source": [
    "hari=df['DayOfWeek'].value_counts()/4  #Asumsi sebulan ada empat hari"
   ]
  },
  {
   "cell_type": "code",
   "execution_count": 150,
   "metadata": {},
   "outputs": [
    {
     "data": {
      "text/plain": [
       "Wednesday    35021.00\n",
       "Tuesday      30519.25\n",
       "Monday       29182.00\n",
       "Thursday     25256.50\n",
       "Friday       25073.75\n",
       "Name: DayOfWeek, dtype: float64"
      ]
     },
     "execution_count": 150,
     "metadata": {},
     "output_type": "execute_result"
    }
   ],
   "source": [
    "hari.head()"
   ]
  },
  {
   "cell_type": "code",
   "execution_count": 152,
   "metadata": {},
   "outputs": [
    {
     "data": {
      "image/png": "[encoded data removed]",
      "text/plain": [
       "<Figure size 360x288 with 1 Axes>"
      ]
     },
     "metadata": {},
     "output_type": "display_data"
    }
   ],
   "source": [
    "df['DayOfWeek'].value_counts().plot(kind='bar');"
   ]
  },
  {
   "cell_type": "markdown",
   "metadata": {},
   "source": [
    "Berdasarkan data diatas menunjuan bahwa hari paling banyak melakukan rides hari rabu"
   ]
  },
  {
   "cell_type": "markdown",
   "metadata": {
    "id": "74vVrXBaonBL"
   },
   "source": [
    "## What hour of the day are most rides taken on?\n",
    "Process the data and plot your answer"
   ]
  },
  {
   "cell_type": "code",
   "execution_count": 65,
   "metadata": {
    "id": "7IU9hgc6onBL"
   },
   "outputs": [
    {
     "data": {
      "text/plain": [
       "0         00:00:13\n",
       "2         00:00:34\n",
       "3         00:00:44\n",
       "4         00:00:42\n",
       "5         00:00:56\n",
       "            ...   \n",
       "791642    23:59:20\n",
       "791643    23:59:25\n",
       "791644    23:59:44\n",
       "791645    23:59:47\n",
       "791646    23:59:59\n",
       "Name: Start Time, Length: 731649, dtype: object"
      ]
     },
     "execution_count": 65,
     "metadata": {},
     "output_type": "execute_result"
    }
   ],
   "source": [
    "df[\"Start Time\"].dt.time"
   ]
  },
  {
   "cell_type": "code",
   "execution_count": 66,
   "metadata": {},
   "outputs": [
    {
     "data": {
      "text/html": [
       "<div>\n",
       "<style scoped>\n",
       "    .dataframe tbody tr th:only-of-type {\n",
       "        vertical-align: middle;\n",
       "    }\n",
       "\n",
       "    .dataframe tbody tr th {\n",
       "        vertical-align: top;\n",
       "    }\n",
       "\n",
       "    .dataframe thead th {\n",
       "        text-align: right;\n",
       "    }\n",
       "</style>\n",
       "<table border=\"1\" class=\"dataframe\">\n",
       "  <thead>\n",
       "    <tr style=\"text-align: right;\">\n",
       "      <th></th>\n",
       "      <th>Trip Duration</th>\n",
       "      <th>Start Time</th>\n",
       "      <th>DayOfWeek</th>\n",
       "      <th>TIME</th>\n",
       "    </tr>\n",
       "  </thead>\n",
       "  <tbody>\n",
       "    <tr>\n",
       "      <th>0</th>\n",
       "      <td>1087</td>\n",
       "      <td>2017-02-01 00:00:13</td>\n",
       "      <td>Wednesday</td>\n",
       "      <td>00:00:13</td>\n",
       "    </tr>\n",
       "    <tr>\n",
       "      <th>2</th>\n",
       "      <td>212</td>\n",
       "      <td>2017-02-01 00:00:34</td>\n",
       "      <td>Wednesday</td>\n",
       "      <td>00:00:34</td>\n",
       "    </tr>\n",
       "    <tr>\n",
       "      <th>3</th>\n",
       "      <td>1140</td>\n",
       "      <td>2017-02-01 00:00:44</td>\n",
       "      <td>Wednesday</td>\n",
       "      <td>00:00:44</td>\n",
       "    </tr>\n",
       "    <tr>\n",
       "      <th>4</th>\n",
       "      <td>320</td>\n",
       "      <td>2017-02-01 00:00:42</td>\n",
       "      <td>Wednesday</td>\n",
       "      <td>00:00:42</td>\n",
       "    </tr>\n",
       "    <tr>\n",
       "      <th>5</th>\n",
       "      <td>277</td>\n",
       "      <td>2017-02-01 00:00:56</td>\n",
       "      <td>Wednesday</td>\n",
       "      <td>00:00:56</td>\n",
       "    </tr>\n",
       "    <tr>\n",
       "      <th>...</th>\n",
       "      <td>...</td>\n",
       "      <td>...</td>\n",
       "      <td>...</td>\n",
       "      <td>...</td>\n",
       "    </tr>\n",
       "    <tr>\n",
       "      <th>791642</th>\n",
       "      <td>267</td>\n",
       "      <td>2017-02-28 23:59:20</td>\n",
       "      <td>Tuesday</td>\n",
       "      <td>23:59:20</td>\n",
       "    </tr>\n",
       "    <tr>\n",
       "      <th>791643</th>\n",
       "      <td>621</td>\n",
       "      <td>2017-02-28 23:59:25</td>\n",
       "      <td>Tuesday</td>\n",
       "      <td>23:59:25</td>\n",
       "    </tr>\n",
       "    <tr>\n",
       "      <th>791644</th>\n",
       "      <td>612</td>\n",
       "      <td>2017-02-28 23:59:44</td>\n",
       "      <td>Tuesday</td>\n",
       "      <td>23:59:44</td>\n",
       "    </tr>\n",
       "    <tr>\n",
       "      <th>791645</th>\n",
       "      <td>654</td>\n",
       "      <td>2017-02-28 23:59:47</td>\n",
       "      <td>Tuesday</td>\n",
       "      <td>23:59:47</td>\n",
       "    </tr>\n",
       "    <tr>\n",
       "      <th>791646</th>\n",
       "      <td>1554</td>\n",
       "      <td>2017-02-28 23:59:59</td>\n",
       "      <td>Tuesday</td>\n",
       "      <td>23:59:59</td>\n",
       "    </tr>\n",
       "  </tbody>\n",
       "</table>\n",
       "<p>731649 rows × 4 columns</p>\n",
       "</div>"
      ],
      "text/plain": [
       "        Trip Duration          Start Time  DayOfWeek      TIME\n",
       "0                1087 2017-02-01 00:00:13  Wednesday  00:00:13\n",
       "2                 212 2017-02-01 00:00:34  Wednesday  00:00:34\n",
       "3                1140 2017-02-01 00:00:44  Wednesday  00:00:44\n",
       "4                 320 2017-02-01 00:00:42  Wednesday  00:00:42\n",
       "5                 277 2017-02-01 00:00:56  Wednesday  00:00:56\n",
       "...               ...                 ...        ...       ...\n",
       "791642            267 2017-02-28 23:59:20    Tuesday  23:59:20\n",
       "791643            621 2017-02-28 23:59:25    Tuesday  23:59:25\n",
       "791644            612 2017-02-28 23:59:44    Tuesday  23:59:44\n",
       "791645            654 2017-02-28 23:59:47    Tuesday  23:59:47\n",
       "791646           1554 2017-02-28 23:59:59    Tuesday  23:59:59\n",
       "\n",
       "[731649 rows x 4 columns]"
      ]
     },
     "execution_count": 66,
     "metadata": {},
     "output_type": "execute_result"
    }
   ],
   "source": [
    "df[\"TIME\"] = df[\"Start Time\"].dt.time\n",
    "df"
   ]
  },
  {
   "cell_type": "code",
   "execution_count": 67,
   "metadata": {},
   "outputs": [
    {
     "data": {
      "text/plain": [
       "17:50:55    39\n",
       "17:36:37    39\n",
       "18:15:04    38\n",
       "17:51:35    37\n",
       "17:34:30    37\n",
       "            ..\n",
       "05:50:42     1\n",
       "22:19:19     1\n",
       "05:55:46     1\n",
       "04:07:20     1\n",
       "04:53:51     1\n",
       "Name: TIME, Length: 74699, dtype: int64"
      ]
     },
     "execution_count": 67,
     "metadata": {},
     "output_type": "execute_result"
    }
   ],
   "source": [
    "df['TIME'].value_counts()"
   ]
  },
  {
   "cell_type": "code",
   "execution_count": 68,
   "metadata": {},
   "outputs": [
    {
     "data": {
      "text/plain": [
       "0         00\n",
       "2         00\n",
       "3         00\n",
       "4         00\n",
       "5         00\n",
       "          ..\n",
       "791642    23\n",
       "791643    23\n",
       "791644    23\n",
       "791645    23\n",
       "791646    23\n",
       "Name: Start Time, Length: 731649, dtype: object"
      ]
     },
     "execution_count": 68,
     "metadata": {},
     "output_type": "execute_result"
    }
   ],
   "source": [
    "df[\"Start Time\"].dt.strftime(\"%H\")"
   ]
  },
  {
   "cell_type": "code",
   "execution_count": 69,
   "metadata": {},
   "outputs": [
    {
     "data": {
      "text/html": [
       "<div>\n",
       "<style scoped>\n",
       "    .dataframe tbody tr th:only-of-type {\n",
       "        vertical-align: middle;\n",
       "    }\n",
       "\n",
       "    .dataframe tbody tr th {\n",
       "        vertical-align: top;\n",
       "    }\n",
       "\n",
       "    .dataframe thead th {\n",
       "        text-align: right;\n",
       "    }\n",
       "</style>\n",
       "<table border=\"1\" class=\"dataframe\">\n",
       "  <thead>\n",
       "    <tr style=\"text-align: right;\">\n",
       "      <th></th>\n",
       "      <th>Trip Duration</th>\n",
       "      <th>Start Time</th>\n",
       "      <th>DayOfWeek</th>\n",
       "      <th>TIME</th>\n",
       "      <th>HOUR</th>\n",
       "    </tr>\n",
       "  </thead>\n",
       "  <tbody>\n",
       "    <tr>\n",
       "      <th>0</th>\n",
       "      <td>1087</td>\n",
       "      <td>2017-02-01 00:00:13</td>\n",
       "      <td>Wednesday</td>\n",
       "      <td>00:00:13</td>\n",
       "      <td>00</td>\n",
       "    </tr>\n",
       "    <tr>\n",
       "      <th>2</th>\n",
       "      <td>212</td>\n",
       "      <td>2017-02-01 00:00:34</td>\n",
       "      <td>Wednesday</td>\n",
       "      <td>00:00:34</td>\n",
       "      <td>00</td>\n",
       "    </tr>\n",
       "    <tr>\n",
       "      <th>3</th>\n",
       "      <td>1140</td>\n",
       "      <td>2017-02-01 00:00:44</td>\n",
       "      <td>Wednesday</td>\n",
       "      <td>00:00:44</td>\n",
       "      <td>00</td>\n",
       "    </tr>\n",
       "    <tr>\n",
       "      <th>4</th>\n",
       "      <td>320</td>\n",
       "      <td>2017-02-01 00:00:42</td>\n",
       "      <td>Wednesday</td>\n",
       "      <td>00:00:42</td>\n",
       "      <td>00</td>\n",
       "    </tr>\n",
       "    <tr>\n",
       "      <th>5</th>\n",
       "      <td>277</td>\n",
       "      <td>2017-02-01 00:00:56</td>\n",
       "      <td>Wednesday</td>\n",
       "      <td>00:00:56</td>\n",
       "      <td>00</td>\n",
       "    </tr>\n",
       "    <tr>\n",
       "      <th>...</th>\n",
       "      <td>...</td>\n",
       "      <td>...</td>\n",
       "      <td>...</td>\n",
       "      <td>...</td>\n",
       "      <td>...</td>\n",
       "    </tr>\n",
       "    <tr>\n",
       "      <th>791642</th>\n",
       "      <td>267</td>\n",
       "      <td>2017-02-28 23:59:20</td>\n",
       "      <td>Tuesday</td>\n",
       "      <td>23:59:20</td>\n",
       "      <td>23</td>\n",
       "    </tr>\n",
       "    <tr>\n",
       "      <th>791643</th>\n",
       "      <td>621</td>\n",
       "      <td>2017-02-28 23:59:25</td>\n",
       "      <td>Tuesday</td>\n",
       "      <td>23:59:25</td>\n",
       "      <td>23</td>\n",
       "    </tr>\n",
       "    <tr>\n",
       "      <th>791644</th>\n",
       "      <td>612</td>\n",
       "      <td>2017-02-28 23:59:44</td>\n",
       "      <td>Tuesday</td>\n",
       "      <td>23:59:44</td>\n",
       "      <td>23</td>\n",
       "    </tr>\n",
       "    <tr>\n",
       "      <th>791645</th>\n",
       "      <td>654</td>\n",
       "      <td>2017-02-28 23:59:47</td>\n",
       "      <td>Tuesday</td>\n",
       "      <td>23:59:47</td>\n",
       "      <td>23</td>\n",
       "    </tr>\n",
       "    <tr>\n",
       "      <th>791646</th>\n",
       "      <td>1554</td>\n",
       "      <td>2017-02-28 23:59:59</td>\n",
       "      <td>Tuesday</td>\n",
       "      <td>23:59:59</td>\n",
       "      <td>23</td>\n",
       "    </tr>\n",
       "  </tbody>\n",
       "</table>\n",
       "<p>731649 rows × 5 columns</p>\n",
       "</div>"
      ],
      "text/plain": [
       "        Trip Duration          Start Time  DayOfWeek      TIME HOUR\n",
       "0                1087 2017-02-01 00:00:13  Wednesday  00:00:13   00\n",
       "2                 212 2017-02-01 00:00:34  Wednesday  00:00:34   00\n",
       "3                1140 2017-02-01 00:00:44  Wednesday  00:00:44   00\n",
       "4                 320 2017-02-01 00:00:42  Wednesday  00:00:42   00\n",
       "5                 277 2017-02-01 00:00:56  Wednesday  00:00:56   00\n",
       "...               ...                 ...        ...       ...  ...\n",
       "791642            267 2017-02-28 23:59:20    Tuesday  23:59:20   23\n",
       "791643            621 2017-02-28 23:59:25    Tuesday  23:59:25   23\n",
       "791644            612 2017-02-28 23:59:44    Tuesday  23:59:44   23\n",
       "791645            654 2017-02-28 23:59:47    Tuesday  23:59:47   23\n",
       "791646           1554 2017-02-28 23:59:59    Tuesday  23:59:59   23\n",
       "\n",
       "[731649 rows x 5 columns]"
      ]
     },
     "execution_count": 69,
     "metadata": {},
     "output_type": "execute_result"
    }
   ],
   "source": [
    "df[\"HOUR\"] = df[\"Start Time\"].dt.strftime(\"%H\")\n",
    "df\n"
   ]
  },
  {
   "cell_type": "code",
   "execution_count": 70,
   "metadata": {},
   "outputs": [
    {
     "data": {
      "text/plain": [
       "17    73776\n",
       "08    68212\n",
       "18    66566\n",
       "16    51818\n",
       "09    51162\n",
       "Name: HOUR, dtype: int64"
      ]
     },
     "execution_count": 70,
     "metadata": {},
     "output_type": "execute_result"
    }
   ],
   "source": [
    "jam=df['HOUR'].value_counts()\n",
    "jam.head()"
   ]
  },
  {
   "cell_type": "code",
   "execution_count": 71,
   "metadata": {},
   "outputs": [
    {
     "data": {
      "image/png": "[encoded data removed]",
      "text/plain": [
       "<Figure size 432x288 with 1 Axes>"
      ]
     },
     "metadata": {
      "needs_background": "light"
     },
     "output_type": "display_data"
    }
   ],
   "source": [
    "df['HOUR'].value_counts().plot(kind='bar');"
   ]
  },
  {
   "cell_type": "markdown",
   "metadata": {},
   "source": [
    "Berdasarkan data diatas menunjukan bahwa penguna citibikes umumnya jam 5 sore."
   ]
  },
  {
   "cell_type": "markdown",
   "metadata": {
    "id": "24vnVl9yonBL"
   },
   "source": [
    "## Is there correlation between age and trip duration?"
   ]
  },
  {
   "cell_type": "code",
   "execution_count": 72,
   "metadata": {
    "id": "BoffjbndonBL"
   },
   "outputs": [],
   "source": [
    "import numpy as np\n",
    "import pandas as pd\n",
    "\n",
    "import matplotlib.pyplot as plt\n",
    "from pylab import rcParams\n",
    "import seaborn as sb\n",
    "import scipy\n",
    "from scipy.stats.stats import pearsonr"
   ]
  },
  {
   "cell_type": "code",
   "execution_count": 73,
   "metadata": {},
   "outputs": [],
   "source": [
    "%matplotlib inline\n",
    "rcParams[\"figure.figsize\"] =5,4\n",
    "sb.set_style (\"whitegrid\")"
   ]
  },
  {
   "cell_type": "code",
   "execution_count": 74,
   "metadata": {},
   "outputs": [
    {
     "name": "stderr",
     "output_type": "stream",
     "text": [
      "<ipython-input-74-29eaf93f21ca>:1: SettingWithCopyWarning: \n",
      "A value is trying to be set on a copy of a slice from a DataFrame.\n",
      "Try using .loc[row_indexer,col_indexer] = value instead\n",
      "\n",
      "See the caveats in the documentation: https://pandas.pydata.org/pandas-docs/stable/user_guide/indexing.html#returning-a-view-versus-a-copy\n",
      "  citibike_3 [\"Durasi Menit\"] = citibike_3 [\"Trip Duration\"] /60 #mengubah detik menjadi menit\n"
     ]
    }
   ],
   "source": [
    "citibike_3 [\"Durasi Menit\"] = citibike_3 [\"Trip Duration\"] /60 #mengubah detik menjadi menit"
   ]
  },
  {
   "cell_type": "code",
   "execution_count": 75,
   "metadata": {},
   "outputs": [
    {
     "data": {
      "text/html": [
       "<div>\n",
       "<style scoped>\n",
       "    .dataframe tbody tr th:only-of-type {\n",
       "        vertical-align: middle;\n",
       "    }\n",
       "\n",
       "    .dataframe tbody tr th {\n",
       "        vertical-align: top;\n",
       "    }\n",
       "\n",
       "    .dataframe thead th {\n",
       "        text-align: right;\n",
       "    }\n",
       "</style>\n",
       "<table border=\"1\" class=\"dataframe\">\n",
       "  <thead>\n",
       "    <tr style=\"text-align: right;\">\n",
       "      <th></th>\n",
       "      <th>Trip Duration</th>\n",
       "      <th>Start Time</th>\n",
       "      <th>Stop Time</th>\n",
       "      <th>Start Station ID</th>\n",
       "      <th>Start Station Name</th>\n",
       "      <th>Start Station Latitude</th>\n",
       "      <th>Start Station Longitude</th>\n",
       "      <th>End Station ID</th>\n",
       "      <th>End Station Name</th>\n",
       "      <th>End Station Latitude</th>\n",
       "      <th>End Station Longitude</th>\n",
       "      <th>Bike ID</th>\n",
       "      <th>User Type</th>\n",
       "      <th>Birth Year</th>\n",
       "      <th>Gender</th>\n",
       "    </tr>\n",
       "  </thead>\n",
       "  <tbody>\n",
       "    <tr>\n",
       "      <th>0</th>\n",
       "      <td>1087</td>\n",
       "      <td>2017-02-01 00:00:13</td>\n",
       "      <td>2017-02-01 00:18:20</td>\n",
       "      <td>345</td>\n",
       "      <td>W 13 St &amp; 6 Ave</td>\n",
       "      <td>40.736494</td>\n",
       "      <td>-73.997044</td>\n",
       "      <td>305</td>\n",
       "      <td>E 58 St &amp; 3 Ave</td>\n",
       "      <td>40.760958</td>\n",
       "      <td>-73.967245</td>\n",
       "      <td>17432</td>\n",
       "      <td>Subscriber</td>\n",
       "      <td>1966.0</td>\n",
       "      <td>1</td>\n",
       "    </tr>\n",
       "    <tr>\n",
       "      <th>2</th>\n",
       "      <td>212</td>\n",
       "      <td>2017-02-01 00:00:34</td>\n",
       "      <td>2017-02-01 00:04:06</td>\n",
       "      <td>336</td>\n",
       "      <td>Sullivan St &amp; Washington Sq</td>\n",
       "      <td>40.730477</td>\n",
       "      <td>-73.999061</td>\n",
       "      <td>439</td>\n",
       "      <td>E 4 St &amp; 2 Ave</td>\n",
       "      <td>40.726281</td>\n",
       "      <td>-73.989780</td>\n",
       "      <td>16826</td>\n",
       "      <td>Subscriber</td>\n",
       "      <td>1984.0</td>\n",
       "      <td>1</td>\n",
       "    </tr>\n",
       "    <tr>\n",
       "      <th>3</th>\n",
       "      <td>1140</td>\n",
       "      <td>2017-02-01 00:00:44</td>\n",
       "      <td>2017-02-01 00:19:44</td>\n",
       "      <td>484</td>\n",
       "      <td>W 44 St &amp; 5 Ave</td>\n",
       "      <td>40.755003</td>\n",
       "      <td>-73.980144</td>\n",
       "      <td>3295</td>\n",
       "      <td>Central Park W &amp; W 96 St</td>\n",
       "      <td>40.791270</td>\n",
       "      <td>-73.964839</td>\n",
       "      <td>27052</td>\n",
       "      <td>Subscriber</td>\n",
       "      <td>1980.0</td>\n",
       "      <td>1</td>\n",
       "    </tr>\n",
       "    <tr>\n",
       "      <th>4</th>\n",
       "      <td>320</td>\n",
       "      <td>2017-02-01 00:00:42</td>\n",
       "      <td>2017-02-01 00:06:02</td>\n",
       "      <td>490</td>\n",
       "      <td>8 Ave &amp; W 33 St</td>\n",
       "      <td>40.751551</td>\n",
       "      <td>-73.993934</td>\n",
       "      <td>3431</td>\n",
       "      <td>E 35 St &amp; 3 Ave</td>\n",
       "      <td>40.746524</td>\n",
       "      <td>-73.977885</td>\n",
       "      <td>25238</td>\n",
       "      <td>Subscriber</td>\n",
       "      <td>1987.0</td>\n",
       "      <td>1</td>\n",
       "    </tr>\n",
       "    <tr>\n",
       "      <th>5</th>\n",
       "      <td>277</td>\n",
       "      <td>2017-02-01 00:00:56</td>\n",
       "      <td>2017-02-01 00:05:34</td>\n",
       "      <td>285</td>\n",
       "      <td>Broadway &amp; E 14 St</td>\n",
       "      <td>40.734546</td>\n",
       "      <td>-73.990741</td>\n",
       "      <td>251</td>\n",
       "      <td>Mott St &amp; Prince St</td>\n",
       "      <td>40.723180</td>\n",
       "      <td>-73.994800</td>\n",
       "      <td>20617</td>\n",
       "      <td>Subscriber</td>\n",
       "      <td>1975.0</td>\n",
       "      <td>1</td>\n",
       "    </tr>\n",
       "  </tbody>\n",
       "</table>\n",
       "</div>"
      ],
      "text/plain": [
       "   Trip Duration           Start Time            Stop Time  Start Station ID  \\\n",
       "0           1087  2017-02-01 00:00:13  2017-02-01 00:18:20               345   \n",
       "2            212  2017-02-01 00:00:34  2017-02-01 00:04:06               336   \n",
       "3           1140  2017-02-01 00:00:44  2017-02-01 00:19:44               484   \n",
       "4            320  2017-02-01 00:00:42  2017-02-01 00:06:02               490   \n",
       "5            277  2017-02-01 00:00:56  2017-02-01 00:05:34               285   \n",
       "\n",
       "            Start Station Name  Start Station Latitude  \\\n",
       "0              W 13 St & 6 Ave               40.736494   \n",
       "2  Sullivan St & Washington Sq               40.730477   \n",
       "3              W 44 St & 5 Ave               40.755003   \n",
       "4              8 Ave & W 33 St               40.751551   \n",
       "5           Broadway & E 14 St               40.734546   \n",
       "\n",
       "   Start Station Longitude  End Station ID          End Station Name  \\\n",
       "0               -73.997044             305           E 58 St & 3 Ave   \n",
       "2               -73.999061             439            E 4 St & 2 Ave   \n",
       "3               -73.980144            3295  Central Park W & W 96 St   \n",
       "4               -73.993934            3431           E 35 St & 3 Ave   \n",
       "5               -73.990741             251       Mott St & Prince St   \n",
       "\n",
       "   End Station Latitude  End Station Longitude  Bike ID   User Type  \\\n",
       "0             40.760958             -73.967245    17432  Subscriber   \n",
       "2             40.726281             -73.989780    16826  Subscriber   \n",
       "3             40.791270             -73.964839    27052  Subscriber   \n",
       "4             40.746524             -73.977885    25238  Subscriber   \n",
       "5             40.723180             -73.994800    20617  Subscriber   \n",
       "\n",
       "   Birth Year  Gender  \n",
       "0      1966.0       1  \n",
       "2      1984.0       1  \n",
       "3      1980.0       1  \n",
       "4      1987.0       1  \n",
       "5      1975.0       1  "
      ]
     },
     "execution_count": 75,
     "metadata": {},
     "output_type": "execute_result"
    }
   ],
   "source": [
    "citibike.head()"
   ]
  },
  {
   "cell_type": "code",
   "execution_count": 76,
   "metadata": {},
   "outputs": [
    {
     "name": "stdout",
     "output_type": "stream",
     "text": [
      "<class 'pandas.core.frame.DataFrame'>\n",
      "Int64Index: 731649 entries, 0 to 791646\n",
      "Data columns (total 2 columns):\n",
      " #   Column        Non-Null Count   Dtype  \n",
      "---  ------        --------------   -----  \n",
      " 0   Durasi Menit  731649 non-null  float64\n",
      " 1   Age           731649 non-null  float64\n",
      "dtypes: float64(2)\n",
      "memory usage: 32.9 MB\n"
     ]
    }
   ],
   "source": [
    "df1 = pd.DataFrame(citibike_3, columns= ['Durasi Menit', 'Age'])\n",
    "df1.info()\n"
   ]
  },
  {
   "cell_type": "code",
   "execution_count": 77,
   "metadata": {},
   "outputs": [],
   "source": [
    "from numpy import mean\n",
    "from numpy import std"
   ]
  },
  {
   "cell_type": "code",
   "execution_count": 78,
   "metadata": {},
   "outputs": [
    {
     "name": "stdout",
     "output_type": "stream",
     "text": [
      "Nilai rata-rata usia :  39.29909013748396\n",
      "Nilai std usia : 11.876944141032038\n",
      "Nilai rata-rata Trip Duration :  12.385561519252692 Menit\n",
      "Nilai std Trip_Duration : 102.83683138513562\n"
     ]
    }
   ],
   "source": [
    "age = df1 [\"Age\"]\n",
    "Trip_Duration = df1[\"Durasi Menit\"]\n",
    "print(\"Nilai rata-rata usia : \",age.mean())\n",
    "print(\"Nilai std usia :\", age.std())\n",
    "print(\"Nilai rata-rata Trip Duration : \",Trip_Duration.mean(),\"Menit\")\n",
    "print(\"Nilai std Trip_Duration :\", Trip_Duration.std())\n"
   ]
  },
  {
   "cell_type": "code",
   "execution_count": 79,
   "metadata": {},
   "outputs": [
    {
     "name": "stdout",
     "output_type": "stream",
     "text": [
      "[[1.41061802e+02 3.37401630e+00]\n",
      " [3.37401630e+00 1.05754139e+04]]\n"
     ]
    }
   ],
   "source": [
    "from numpy import cov\n",
    "covariance = cov(age, Trip_Duration)\n",
    "print(covariance)"
   ]
  },
  {
   "cell_type": "code",
   "execution_count": 80,
   "metadata": {},
   "outputs": [
    {
     "name": "stdout",
     "output_type": "stream",
     "text": [
      "Pearsons correlation: 0.003\n"
     ]
    }
   ],
   "source": [
    "from scipy.stats import pearsonr\n",
    "corr, _ = pearsonr(age, Trip_Duration)\n",
    "print('Pearsons correlation: %.3f' % corr)"
   ]
  },
  {
   "cell_type": "code",
   "execution_count": 81,
   "metadata": {},
   "outputs": [
    {
     "name": "stdout",
     "output_type": "stream",
     "text": [
      "Spearmans correlation: 0.044\n"
     ]
    }
   ],
   "source": [
    "from scipy.stats import spearmanr\n",
    "corr1, _ = spearmanr(age, Trip_Duration)\n",
    "print('Spearmans correlation: %.3f' % corr1)"
   ]
  },
  {
   "cell_type": "markdown",
   "metadata": {},
   "source": [
    "Berdasarkan persamaan Pearsons dan Spearmans bahwa korelasi antara Age dan Trip Duration ialah tidak ada korelasi. Sehingga usia tidak ada berhubungan dengan trip durasi"
   ]
  },
  {
   "cell_type": "markdown",
   "metadata": {
    "id": "nUJpVphQonBL"
   },
   "source": [
    "## What are the top 10 pair of stations that our riders use as a start & stopping point?"
   ]
  },
  {
   "cell_type": "code",
   "execution_count": 82,
   "metadata": {
    "id": "KLFy37qEonBL"
   },
   "outputs": [
    {
     "data": {
      "text/html": [
       "<div>\n",
       "<style scoped>\n",
       "    .dataframe tbody tr th:only-of-type {\n",
       "        vertical-align: middle;\n",
       "    }\n",
       "\n",
       "    .dataframe tbody tr th {\n",
       "        vertical-align: top;\n",
       "    }\n",
       "\n",
       "    .dataframe thead th {\n",
       "        text-align: right;\n",
       "    }\n",
       "</style>\n",
       "<table border=\"1\" class=\"dataframe\">\n",
       "  <thead>\n",
       "    <tr style=\"text-align: right;\">\n",
       "      <th></th>\n",
       "      <th>Trip Duration</th>\n",
       "      <th>Start Time</th>\n",
       "      <th>Stop Time</th>\n",
       "      <th>Start Station ID</th>\n",
       "      <th>Start Station Name</th>\n",
       "      <th>Start Station Latitude</th>\n",
       "      <th>Start Station Longitude</th>\n",
       "      <th>End Station ID</th>\n",
       "      <th>End Station Name</th>\n",
       "      <th>End Station Latitude</th>\n",
       "      <th>End Station Longitude</th>\n",
       "      <th>Bike ID</th>\n",
       "      <th>User Type</th>\n",
       "      <th>Birth Year</th>\n",
       "      <th>Gender</th>\n",
       "      <th>Age_1</th>\n",
       "      <th>Age</th>\n",
       "      <th>Durasi Menit</th>\n",
       "    </tr>\n",
       "  </thead>\n",
       "  <tbody>\n",
       "    <tr>\n",
       "      <th>0</th>\n",
       "      <td>1087</td>\n",
       "      <td>2017-02-01 00:00:13</td>\n",
       "      <td>2017-02-01 00:18:20</td>\n",
       "      <td>345</td>\n",
       "      <td>W 13 St &amp; 6 Ave</td>\n",
       "      <td>40.736494</td>\n",
       "      <td>-73.997044</td>\n",
       "      <td>305</td>\n",
       "      <td>E 58 St &amp; 3 Ave</td>\n",
       "      <td>40.760958</td>\n",
       "      <td>-73.967245</td>\n",
       "      <td>17432</td>\n",
       "      <td>Subscriber</td>\n",
       "      <td>1966.0</td>\n",
       "      <td>1</td>\n",
       "      <td>-51.0</td>\n",
       "      <td>51.0</td>\n",
       "      <td>18.116667</td>\n",
       "    </tr>\n",
       "    <tr>\n",
       "      <th>2</th>\n",
       "      <td>212</td>\n",
       "      <td>2017-02-01 00:00:34</td>\n",
       "      <td>2017-02-01 00:04:06</td>\n",
       "      <td>336</td>\n",
       "      <td>Sullivan St &amp; Washington Sq</td>\n",
       "      <td>40.730477</td>\n",
       "      <td>-73.999061</td>\n",
       "      <td>439</td>\n",
       "      <td>E 4 St &amp; 2 Ave</td>\n",
       "      <td>40.726281</td>\n",
       "      <td>-73.989780</td>\n",
       "      <td>16826</td>\n",
       "      <td>Subscriber</td>\n",
       "      <td>1984.0</td>\n",
       "      <td>1</td>\n",
       "      <td>-33.0</td>\n",
       "      <td>33.0</td>\n",
       "      <td>3.533333</td>\n",
       "    </tr>\n",
       "    <tr>\n",
       "      <th>3</th>\n",
       "      <td>1140</td>\n",
       "      <td>2017-02-01 00:00:44</td>\n",
       "      <td>2017-02-01 00:19:44</td>\n",
       "      <td>484</td>\n",
       "      <td>W 44 St &amp; 5 Ave</td>\n",
       "      <td>40.755003</td>\n",
       "      <td>-73.980144</td>\n",
       "      <td>3295</td>\n",
       "      <td>Central Park W &amp; W 96 St</td>\n",
       "      <td>40.791270</td>\n",
       "      <td>-73.964839</td>\n",
       "      <td>27052</td>\n",
       "      <td>Subscriber</td>\n",
       "      <td>1980.0</td>\n",
       "      <td>1</td>\n",
       "      <td>-37.0</td>\n",
       "      <td>37.0</td>\n",
       "      <td>19.000000</td>\n",
       "    </tr>\n",
       "    <tr>\n",
       "      <th>4</th>\n",
       "      <td>320</td>\n",
       "      <td>2017-02-01 00:00:42</td>\n",
       "      <td>2017-02-01 00:06:02</td>\n",
       "      <td>490</td>\n",
       "      <td>8 Ave &amp; W 33 St</td>\n",
       "      <td>40.751551</td>\n",
       "      <td>-73.993934</td>\n",
       "      <td>3431</td>\n",
       "      <td>E 35 St &amp; 3 Ave</td>\n",
       "      <td>40.746524</td>\n",
       "      <td>-73.977885</td>\n",
       "      <td>25238</td>\n",
       "      <td>Subscriber</td>\n",
       "      <td>1987.0</td>\n",
       "      <td>1</td>\n",
       "      <td>-30.0</td>\n",
       "      <td>30.0</td>\n",
       "      <td>5.333333</td>\n",
       "    </tr>\n",
       "    <tr>\n",
       "      <th>5</th>\n",
       "      <td>277</td>\n",
       "      <td>2017-02-01 00:00:56</td>\n",
       "      <td>2017-02-01 00:05:34</td>\n",
       "      <td>285</td>\n",
       "      <td>Broadway &amp; E 14 St</td>\n",
       "      <td>40.734546</td>\n",
       "      <td>-73.990741</td>\n",
       "      <td>251</td>\n",
       "      <td>Mott St &amp; Prince St</td>\n",
       "      <td>40.723180</td>\n",
       "      <td>-73.994800</td>\n",
       "      <td>20617</td>\n",
       "      <td>Subscriber</td>\n",
       "      <td>1975.0</td>\n",
       "      <td>1</td>\n",
       "      <td>-42.0</td>\n",
       "      <td>42.0</td>\n",
       "      <td>4.616667</td>\n",
       "    </tr>\n",
       "  </tbody>\n",
       "</table>\n",
       "</div>"
      ],
      "text/plain": [
       "   Trip Duration           Start Time            Stop Time  Start Station ID  \\\n",
       "0           1087  2017-02-01 00:00:13  2017-02-01 00:18:20               345   \n",
       "2            212  2017-02-01 00:00:34  2017-02-01 00:04:06               336   \n",
       "3           1140  2017-02-01 00:00:44  2017-02-01 00:19:44               484   \n",
       "4            320  2017-02-01 00:00:42  2017-02-01 00:06:02               490   \n",
       "5            277  2017-02-01 00:00:56  2017-02-01 00:05:34               285   \n",
       "\n",
       "            Start Station Name  Start Station Latitude  \\\n",
       "0              W 13 St & 6 Ave               40.736494   \n",
       "2  Sullivan St & Washington Sq               40.730477   \n",
       "3              W 44 St & 5 Ave               40.755003   \n",
       "4              8 Ave & W 33 St               40.751551   \n",
       "5           Broadway & E 14 St               40.734546   \n",
       "\n",
       "   Start Station Longitude  End Station ID          End Station Name  \\\n",
       "0               -73.997044             305           E 58 St & 3 Ave   \n",
       "2               -73.999061             439            E 4 St & 2 Ave   \n",
       "3               -73.980144            3295  Central Park W & W 96 St   \n",
       "4               -73.993934            3431           E 35 St & 3 Ave   \n",
       "5               -73.990741             251       Mott St & Prince St   \n",
       "\n",
       "   End Station Latitude  End Station Longitude  Bike ID   User Type  \\\n",
       "0             40.760958             -73.967245    17432  Subscriber   \n",
       "2             40.726281             -73.989780    16826  Subscriber   \n",
       "3             40.791270             -73.964839    27052  Subscriber   \n",
       "4             40.746524             -73.977885    25238  Subscriber   \n",
       "5             40.723180             -73.994800    20617  Subscriber   \n",
       "\n",
       "   Birth Year  Gender  Age_1   Age  Durasi Menit  \n",
       "0      1966.0       1  -51.0  51.0     18.116667  \n",
       "2      1984.0       1  -33.0  33.0      3.533333  \n",
       "3      1980.0       1  -37.0  37.0     19.000000  \n",
       "4      1987.0       1  -30.0  30.0      5.333333  \n",
       "5      1975.0       1  -42.0  42.0      4.616667  "
      ]
     },
     "execution_count": 82,
     "metadata": {},
     "output_type": "execute_result"
    }
   ],
   "source": [
    "citibike_3.head()"
   ]
  },
  {
   "cell_type": "code",
   "execution_count": 83,
   "metadata": {},
   "outputs": [
    {
     "data": {
      "text/html": [
       "<div>\n",
       "<style scoped>\n",
       "    .dataframe tbody tr th:only-of-type {\n",
       "        vertical-align: middle;\n",
       "    }\n",
       "\n",
       "    .dataframe tbody tr th {\n",
       "        vertical-align: top;\n",
       "    }\n",
       "\n",
       "    .dataframe thead th {\n",
       "        text-align: right;\n",
       "    }\n",
       "</style>\n",
       "<table border=\"1\" class=\"dataframe\">\n",
       "  <thead>\n",
       "    <tr style=\"text-align: right;\">\n",
       "      <th></th>\n",
       "      <th>Start Station Name</th>\n",
       "      <th>End Station Name</th>\n",
       "    </tr>\n",
       "  </thead>\n",
       "  <tbody>\n",
       "    <tr>\n",
       "      <th>0</th>\n",
       "      <td>W 13 St &amp; 6 Ave</td>\n",
       "      <td>E 58 St &amp; 3 Ave</td>\n",
       "    </tr>\n",
       "    <tr>\n",
       "      <th>2</th>\n",
       "      <td>Sullivan St &amp; Washington Sq</td>\n",
       "      <td>E 4 St &amp; 2 Ave</td>\n",
       "    </tr>\n",
       "    <tr>\n",
       "      <th>3</th>\n",
       "      <td>W 44 St &amp; 5 Ave</td>\n",
       "      <td>Central Park W &amp; W 96 St</td>\n",
       "    </tr>\n",
       "    <tr>\n",
       "      <th>4</th>\n",
       "      <td>8 Ave &amp; W 33 St</td>\n",
       "      <td>E 35 St &amp; 3 Ave</td>\n",
       "    </tr>\n",
       "    <tr>\n",
       "      <th>5</th>\n",
       "      <td>Broadway &amp; E 14 St</td>\n",
       "      <td>Mott St &amp; Prince St</td>\n",
       "    </tr>\n",
       "    <tr>\n",
       "      <th>...</th>\n",
       "      <td>...</td>\n",
       "      <td>...</td>\n",
       "    </tr>\n",
       "    <tr>\n",
       "      <th>791642</th>\n",
       "      <td>E 55 St &amp; 3 Ave</td>\n",
       "      <td>E 65 St &amp; 2 Ave</td>\n",
       "    </tr>\n",
       "    <tr>\n",
       "      <th>791643</th>\n",
       "      <td>E 20 St &amp; 2 Ave</td>\n",
       "      <td>W 20 St &amp; 7 Ave</td>\n",
       "    </tr>\n",
       "    <tr>\n",
       "      <th>791644</th>\n",
       "      <td>Washington Pl &amp; 6 Ave</td>\n",
       "      <td>E 2 St &amp; Avenue B</td>\n",
       "    </tr>\n",
       "    <tr>\n",
       "      <th>791645</th>\n",
       "      <td>Henry St &amp; Degraw St</td>\n",
       "      <td>Clinton St &amp; Union St</td>\n",
       "    </tr>\n",
       "    <tr>\n",
       "      <th>791646</th>\n",
       "      <td>W 20 St &amp; 7 Ave</td>\n",
       "      <td>1 Ave &amp; E 62 St</td>\n",
       "    </tr>\n",
       "  </tbody>\n",
       "</table>\n",
       "<p>731649 rows × 2 columns</p>\n",
       "</div>"
      ],
      "text/plain": [
       "                 Start Station Name          End Station Name\n",
       "0                   W 13 St & 6 Ave           E 58 St & 3 Ave\n",
       "2       Sullivan St & Washington Sq            E 4 St & 2 Ave\n",
       "3                   W 44 St & 5 Ave  Central Park W & W 96 St\n",
       "4                   8 Ave & W 33 St           E 35 St & 3 Ave\n",
       "5                Broadway & E 14 St       Mott St & Prince St\n",
       "...                             ...                       ...\n",
       "791642              E 55 St & 3 Ave           E 65 St & 2 Ave\n",
       "791643              E 20 St & 2 Ave           W 20 St & 7 Ave\n",
       "791644        Washington Pl & 6 Ave         E 2 St & Avenue B\n",
       "791645         Henry St & Degraw St     Clinton St & Union St\n",
       "791646              W 20 St & 7 Ave           1 Ave & E 62 St\n",
       "\n",
       "[731649 rows x 2 columns]"
      ]
     },
     "execution_count": 83,
     "metadata": {},
     "output_type": "execute_result"
    }
   ],
   "source": [
    "df2 = pd.DataFrame(citibike_3, columns= ['Start Station Name', 'End Station Name'])\n",
    "df2"
   ]
  },
  {
   "cell_type": "code",
   "execution_count": 84,
   "metadata": {},
   "outputs": [
    {
     "data": {
      "text/html": [
       "<div>\n",
       "<style scoped>\n",
       "    .dataframe tbody tr th:only-of-type {\n",
       "        vertical-align: middle;\n",
       "    }\n",
       "\n",
       "    .dataframe tbody tr th {\n",
       "        vertical-align: top;\n",
       "    }\n",
       "\n",
       "    .dataframe thead th {\n",
       "        text-align: right;\n",
       "    }\n",
       "</style>\n",
       "<table border=\"1\" class=\"dataframe\">\n",
       "  <thead>\n",
       "    <tr style=\"text-align: right;\">\n",
       "      <th></th>\n",
       "      <th>Start Station Name</th>\n",
       "      <th>End Station Name</th>\n",
       "      <th>count</th>\n",
       "    </tr>\n",
       "  </thead>\n",
       "  <tbody>\n",
       "    <tr>\n",
       "      <th>0</th>\n",
       "      <td>1 Ave &amp; E 16 St</td>\n",
       "      <td>1 Ave &amp; E 16 St</td>\n",
       "      <td>27</td>\n",
       "    </tr>\n",
       "    <tr>\n",
       "      <th>1</th>\n",
       "      <td>1 Ave &amp; E 16 St</td>\n",
       "      <td>1 Ave &amp; E 18 St</td>\n",
       "      <td>54</td>\n",
       "    </tr>\n",
       "    <tr>\n",
       "      <th>2</th>\n",
       "      <td>1 Ave &amp; E 16 St</td>\n",
       "      <td>1 Ave &amp; E 30 St</td>\n",
       "      <td>102</td>\n",
       "    </tr>\n",
       "    <tr>\n",
       "      <th>3</th>\n",
       "      <td>1 Ave &amp; E 16 St</td>\n",
       "      <td>1 Ave &amp; E 44 St</td>\n",
       "      <td>49</td>\n",
       "    </tr>\n",
       "    <tr>\n",
       "      <th>4</th>\n",
       "      <td>1 Ave &amp; E 16 St</td>\n",
       "      <td>1 Ave &amp; E 62 St</td>\n",
       "      <td>6</td>\n",
       "    </tr>\n",
       "    <tr>\n",
       "      <th>...</th>\n",
       "      <td>...</td>\n",
       "      <td>...</td>\n",
       "      <td>...</td>\n",
       "    </tr>\n",
       "    <tr>\n",
       "      <th>104024</th>\n",
       "      <td>York St &amp; Jay St</td>\n",
       "      <td>Willoughby Ave &amp; Tompkins Ave</td>\n",
       "      <td>1</td>\n",
       "    </tr>\n",
       "    <tr>\n",
       "      <th>104025</th>\n",
       "      <td>York St &amp; Jay St</td>\n",
       "      <td>Willoughby St &amp; Fleet St</td>\n",
       "      <td>4</td>\n",
       "    </tr>\n",
       "    <tr>\n",
       "      <th>104026</th>\n",
       "      <td>York St &amp; Jay St</td>\n",
       "      <td>Wyckoff St &amp; 3 Ave</td>\n",
       "      <td>1</td>\n",
       "    </tr>\n",
       "    <tr>\n",
       "      <th>104027</th>\n",
       "      <td>York St &amp; Jay St</td>\n",
       "      <td>Wythe Ave &amp; Metropolitan Ave</td>\n",
       "      <td>9</td>\n",
       "    </tr>\n",
       "    <tr>\n",
       "      <th>104028</th>\n",
       "      <td>York St &amp; Jay St</td>\n",
       "      <td>York St &amp; Jay St</td>\n",
       "      <td>14</td>\n",
       "    </tr>\n",
       "  </tbody>\n",
       "</table>\n",
       "<p>104029 rows × 3 columns</p>\n",
       "</div>"
      ],
      "text/plain": [
       "       Start Station Name               End Station Name  count\n",
       "0         1 Ave & E 16 St                1 Ave & E 16 St     27\n",
       "1         1 Ave & E 16 St                1 Ave & E 18 St     54\n",
       "2         1 Ave & E 16 St                1 Ave & E 30 St    102\n",
       "3         1 Ave & E 16 St                1 Ave & E 44 St     49\n",
       "4         1 Ave & E 16 St                1 Ave & E 62 St      6\n",
       "...                   ...                            ...    ...\n",
       "104024   York St & Jay St  Willoughby Ave & Tompkins Ave      1\n",
       "104025   York St & Jay St       Willoughby St & Fleet St      4\n",
       "104026   York St & Jay St             Wyckoff St & 3 Ave      1\n",
       "104027   York St & Jay St   Wythe Ave & Metropolitan Ave      9\n",
       "104028   York St & Jay St               York St & Jay St     14\n",
       "\n",
       "[104029 rows x 3 columns]"
      ]
     },
     "execution_count": 84,
     "metadata": {},
     "output_type": "execute_result"
    }
   ],
   "source": [
    "pair = df2.groupby(['Start Station Name','End Station Name']).size().reset_index().rename(columns={0:'count'})\n",
    "pair"
   ]
  },
  {
   "cell_type": "code",
   "execution_count": 85,
   "metadata": {},
   "outputs": [
    {
     "data": {
      "text/html": [
       "<div>\n",
       "<style scoped>\n",
       "    .dataframe tbody tr th:only-of-type {\n",
       "        vertical-align: middle;\n",
       "    }\n",
       "\n",
       "    .dataframe tbody tr th {\n",
       "        vertical-align: top;\n",
       "    }\n",
       "\n",
       "    .dataframe thead th {\n",
       "        text-align: right;\n",
       "    }\n",
       "</style>\n",
       "<table border=\"1\" class=\"dataframe\">\n",
       "  <thead>\n",
       "    <tr style=\"text-align: right;\">\n",
       "      <th></th>\n",
       "      <th>Start Station Name</th>\n",
       "      <th>End Station Name</th>\n",
       "      <th>count</th>\n",
       "    </tr>\n",
       "  </thead>\n",
       "  <tbody>\n",
       "    <tr>\n",
       "      <th>48296</th>\n",
       "      <td>E 7 St &amp; Avenue A</td>\n",
       "      <td>Cooper Square &amp; E 7 St</td>\n",
       "      <td>496</td>\n",
       "    </tr>\n",
       "    <tr>\n",
       "      <th>58422</th>\n",
       "      <td>Greenwich Ave &amp; Charles St</td>\n",
       "      <td>Greenwich Ave &amp; Charles St</td>\n",
       "      <td>339</td>\n",
       "    </tr>\n",
       "    <tr>\n",
       "      <th>88056</th>\n",
       "      <td>W 21 St &amp; 6 Ave</td>\n",
       "      <td>9 Ave &amp; W 22 St</td>\n",
       "      <td>314</td>\n",
       "    </tr>\n",
       "    <tr>\n",
       "      <th>89723</th>\n",
       "      <td>W 26 St &amp; 8 Ave</td>\n",
       "      <td>W 27 St &amp; 10 Ave</td>\n",
       "      <td>300</td>\n",
       "    </tr>\n",
       "    <tr>\n",
       "      <th>74372</th>\n",
       "      <td>Pershing Square North</td>\n",
       "      <td>W 33 St &amp; 7 Ave</td>\n",
       "      <td>291</td>\n",
       "    </tr>\n",
       "    <tr>\n",
       "      <th>74095</th>\n",
       "      <td>Pershing Square North</td>\n",
       "      <td>Broadway &amp; W 32 St</td>\n",
       "      <td>265</td>\n",
       "    </tr>\n",
       "    <tr>\n",
       "      <th>71586</th>\n",
       "      <td>N 6 St &amp; Bedford Ave</td>\n",
       "      <td>Wythe Ave &amp; Metropolitan Ave</td>\n",
       "      <td>255</td>\n",
       "    </tr>\n",
       "    <tr>\n",
       "      <th>40518</th>\n",
       "      <td>E 33 St &amp; 2 Ave</td>\n",
       "      <td>W 33 St &amp; 7 Ave</td>\n",
       "      <td>251</td>\n",
       "    </tr>\n",
       "    <tr>\n",
       "      <th>76690</th>\n",
       "      <td>Richardson St &amp; N Henry St</td>\n",
       "      <td>Graham Ave &amp; Conselyea St</td>\n",
       "      <td>251</td>\n",
       "    </tr>\n",
       "    <tr>\n",
       "      <th>74167</th>\n",
       "      <td>Pershing Square North</td>\n",
       "      <td>E 24 St &amp; Park Ave S</td>\n",
       "      <td>242</td>\n",
       "    </tr>\n",
       "  </tbody>\n",
       "</table>\n",
       "</div>"
      ],
      "text/plain": [
       "               Start Station Name              End Station Name  count\n",
       "48296           E 7 St & Avenue A        Cooper Square & E 7 St    496\n",
       "58422  Greenwich Ave & Charles St    Greenwich Ave & Charles St    339\n",
       "88056             W 21 St & 6 Ave               9 Ave & W 22 St    314\n",
       "89723             W 26 St & 8 Ave              W 27 St & 10 Ave    300\n",
       "74372       Pershing Square North               W 33 St & 7 Ave    291\n",
       "74095       Pershing Square North            Broadway & W 32 St    265\n",
       "71586        N 6 St & Bedford Ave  Wythe Ave & Metropolitan Ave    255\n",
       "40518             E 33 St & 2 Ave               W 33 St & 7 Ave    251\n",
       "76690  Richardson St & N Henry St     Graham Ave & Conselyea St    251\n",
       "74167       Pershing Square North          E 24 St & Park Ave S    242"
      ]
     },
     "execution_count": 85,
     "metadata": {},
     "output_type": "execute_result"
    }
   ],
   "source": [
    "d= pair.sort_values(by='count', ascending=False)\n",
    "d.head(10)"
   ]
  },
  {
   "cell_type": "markdown",
   "metadata": {},
   "source": [
    "Diatas adalah top 10 pairs berdasarkan Start Station Name \tdan End Station Name"
   ]
  },
  {
   "cell_type": "markdown",
   "metadata": {
    "id": "PoQ8prLmonBL"
   },
   "source": [
    "## Come up with your own question on the Citibike data usage and formulate a hypothesis"
   ]
  },
  {
   "cell_type": "markdown",
   "metadata": {
    "id": "vysAgNzUonBL"
   },
   "source": [
    "### Example:\n",
    "### \"Women are less likely than men to choose biking for commuting.\"\n",
    ">\n",
    ">Null Hypothesis: \n",
    "\n",
    ">The proportion of men biking on weekends is the same or higher than the proportion of women biking on weekends\n",
    "\n"
   ]
  },
  {
   "cell_type": "markdown",
   "metadata": {},
   "source": [
    "# Men have trip duration longer than women"
   ]
  },
  {
   "cell_type": "markdown",
   "metadata": {},
   "source": [
    "null hypothethis :\n",
    "    The proportion of Men have trip duration longer than proportion of women"
   ]
  },
  {
   "cell_type": "code",
   "execution_count": 86,
   "metadata": {
    "id": "k5yQSwVAonBM"
   },
   "outputs": [
    {
     "data": {
      "text/html": [
       "<div>\n",
       "<style scoped>\n",
       "    .dataframe tbody tr th:only-of-type {\n",
       "        vertical-align: middle;\n",
       "    }\n",
       "\n",
       "    .dataframe tbody tr th {\n",
       "        vertical-align: top;\n",
       "    }\n",
       "\n",
       "    .dataframe thead th {\n",
       "        text-align: right;\n",
       "    }\n",
       "</style>\n",
       "<table border=\"1\" class=\"dataframe\">\n",
       "  <thead>\n",
       "    <tr style=\"text-align: right;\">\n",
       "      <th></th>\n",
       "      <th>Trip Duration</th>\n",
       "      <th>Start Time</th>\n",
       "      <th>Stop Time</th>\n",
       "      <th>Start Station ID</th>\n",
       "      <th>Start Station Name</th>\n",
       "      <th>Start Station Latitude</th>\n",
       "      <th>Start Station Longitude</th>\n",
       "      <th>End Station ID</th>\n",
       "      <th>End Station Name</th>\n",
       "      <th>End Station Latitude</th>\n",
       "      <th>End Station Longitude</th>\n",
       "      <th>Bike ID</th>\n",
       "      <th>User Type</th>\n",
       "      <th>Birth Year</th>\n",
       "      <th>Gender</th>\n",
       "      <th>Age_1</th>\n",
       "      <th>Age</th>\n",
       "      <th>Durasi Menit</th>\n",
       "    </tr>\n",
       "  </thead>\n",
       "  <tbody>\n",
       "    <tr>\n",
       "      <th>0</th>\n",
       "      <td>1087</td>\n",
       "      <td>2017-02-01 00:00:13</td>\n",
       "      <td>2017-02-01 00:18:20</td>\n",
       "      <td>345</td>\n",
       "      <td>W 13 St &amp; 6 Ave</td>\n",
       "      <td>40.736494</td>\n",
       "      <td>-73.997044</td>\n",
       "      <td>305</td>\n",
       "      <td>E 58 St &amp; 3 Ave</td>\n",
       "      <td>40.760958</td>\n",
       "      <td>-73.967245</td>\n",
       "      <td>17432</td>\n",
       "      <td>Subscriber</td>\n",
       "      <td>1966.0</td>\n",
       "      <td>1</td>\n",
       "      <td>-51.0</td>\n",
       "      <td>51.0</td>\n",
       "      <td>18.116667</td>\n",
       "    </tr>\n",
       "    <tr>\n",
       "      <th>2</th>\n",
       "      <td>212</td>\n",
       "      <td>2017-02-01 00:00:34</td>\n",
       "      <td>2017-02-01 00:04:06</td>\n",
       "      <td>336</td>\n",
       "      <td>Sullivan St &amp; Washington Sq</td>\n",
       "      <td>40.730477</td>\n",
       "      <td>-73.999061</td>\n",
       "      <td>439</td>\n",
       "      <td>E 4 St &amp; 2 Ave</td>\n",
       "      <td>40.726281</td>\n",
       "      <td>-73.989780</td>\n",
       "      <td>16826</td>\n",
       "      <td>Subscriber</td>\n",
       "      <td>1984.0</td>\n",
       "      <td>1</td>\n",
       "      <td>-33.0</td>\n",
       "      <td>33.0</td>\n",
       "      <td>3.533333</td>\n",
       "    </tr>\n",
       "    <tr>\n",
       "      <th>3</th>\n",
       "      <td>1140</td>\n",
       "      <td>2017-02-01 00:00:44</td>\n",
       "      <td>2017-02-01 00:19:44</td>\n",
       "      <td>484</td>\n",
       "      <td>W 44 St &amp; 5 Ave</td>\n",
       "      <td>40.755003</td>\n",
       "      <td>-73.980144</td>\n",
       "      <td>3295</td>\n",
       "      <td>Central Park W &amp; W 96 St</td>\n",
       "      <td>40.791270</td>\n",
       "      <td>-73.964839</td>\n",
       "      <td>27052</td>\n",
       "      <td>Subscriber</td>\n",
       "      <td>1980.0</td>\n",
       "      <td>1</td>\n",
       "      <td>-37.0</td>\n",
       "      <td>37.0</td>\n",
       "      <td>19.000000</td>\n",
       "    </tr>\n",
       "    <tr>\n",
       "      <th>4</th>\n",
       "      <td>320</td>\n",
       "      <td>2017-02-01 00:00:42</td>\n",
       "      <td>2017-02-01 00:06:02</td>\n",
       "      <td>490</td>\n",
       "      <td>8 Ave &amp; W 33 St</td>\n",
       "      <td>40.751551</td>\n",
       "      <td>-73.993934</td>\n",
       "      <td>3431</td>\n",
       "      <td>E 35 St &amp; 3 Ave</td>\n",
       "      <td>40.746524</td>\n",
       "      <td>-73.977885</td>\n",
       "      <td>25238</td>\n",
       "      <td>Subscriber</td>\n",
       "      <td>1987.0</td>\n",
       "      <td>1</td>\n",
       "      <td>-30.0</td>\n",
       "      <td>30.0</td>\n",
       "      <td>5.333333</td>\n",
       "    </tr>\n",
       "    <tr>\n",
       "      <th>5</th>\n",
       "      <td>277</td>\n",
       "      <td>2017-02-01 00:00:56</td>\n",
       "      <td>2017-02-01 00:05:34</td>\n",
       "      <td>285</td>\n",
       "      <td>Broadway &amp; E 14 St</td>\n",
       "      <td>40.734546</td>\n",
       "      <td>-73.990741</td>\n",
       "      <td>251</td>\n",
       "      <td>Mott St &amp; Prince St</td>\n",
       "      <td>40.723180</td>\n",
       "      <td>-73.994800</td>\n",
       "      <td>20617</td>\n",
       "      <td>Subscriber</td>\n",
       "      <td>1975.0</td>\n",
       "      <td>1</td>\n",
       "      <td>-42.0</td>\n",
       "      <td>42.0</td>\n",
       "      <td>4.616667</td>\n",
       "    </tr>\n",
       "  </tbody>\n",
       "</table>\n",
       "</div>"
      ],
      "text/plain": [
       "   Trip Duration           Start Time            Stop Time  Start Station ID  \\\n",
       "0           1087  2017-02-01 00:00:13  2017-02-01 00:18:20               345   \n",
       "2            212  2017-02-01 00:00:34  2017-02-01 00:04:06               336   \n",
       "3           1140  2017-02-01 00:00:44  2017-02-01 00:19:44               484   \n",
       "4            320  2017-02-01 00:00:42  2017-02-01 00:06:02               490   \n",
       "5            277  2017-02-01 00:00:56  2017-02-01 00:05:34               285   \n",
       "\n",
       "            Start Station Name  Start Station Latitude  \\\n",
       "0              W 13 St & 6 Ave               40.736494   \n",
       "2  Sullivan St & Washington Sq               40.730477   \n",
       "3              W 44 St & 5 Ave               40.755003   \n",
       "4              8 Ave & W 33 St               40.751551   \n",
       "5           Broadway & E 14 St               40.734546   \n",
       "\n",
       "   Start Station Longitude  End Station ID          End Station Name  \\\n",
       "0               -73.997044             305           E 58 St & 3 Ave   \n",
       "2               -73.999061             439            E 4 St & 2 Ave   \n",
       "3               -73.980144            3295  Central Park W & W 96 St   \n",
       "4               -73.993934            3431           E 35 St & 3 Ave   \n",
       "5               -73.990741             251       Mott St & Prince St   \n",
       "\n",
       "   End Station Latitude  End Station Longitude  Bike ID   User Type  \\\n",
       "0             40.760958             -73.967245    17432  Subscriber   \n",
       "2             40.726281             -73.989780    16826  Subscriber   \n",
       "3             40.791270             -73.964839    27052  Subscriber   \n",
       "4             40.746524             -73.977885    25238  Subscriber   \n",
       "5             40.723180             -73.994800    20617  Subscriber   \n",
       "\n",
       "   Birth Year  Gender  Age_1   Age  Durasi Menit  \n",
       "0      1966.0       1  -51.0  51.0     18.116667  \n",
       "2      1984.0       1  -33.0  33.0      3.533333  \n",
       "3      1980.0       1  -37.0  37.0     19.000000  \n",
       "4      1987.0       1  -30.0  30.0      5.333333  \n",
       "5      1975.0       1  -42.0  42.0      4.616667  "
      ]
     },
     "execution_count": 86,
     "metadata": {},
     "output_type": "execute_result"
    }
   ],
   "source": [
    "citibike_3.head()"
   ]
  },
  {
   "cell_type": "markdown",
   "metadata": {
    "id": "Ps6HHtB5onBM"
   },
   "source": [
    "## Work with your dataset and show your findings to help answer your question"
   ]
  },
  {
   "cell_type": "code",
   "execution_count": 87,
   "metadata": {},
   "outputs": [
    {
     "data": {
      "text/html": [
       "<div>\n",
       "<style scoped>\n",
       "    .dataframe tbody tr th:only-of-type {\n",
       "        vertical-align: middle;\n",
       "    }\n",
       "\n",
       "    .dataframe tbody tr th {\n",
       "        vertical-align: top;\n",
       "    }\n",
       "\n",
       "    .dataframe thead th {\n",
       "        text-align: right;\n",
       "    }\n",
       "</style>\n",
       "<table border=\"1\" class=\"dataframe\">\n",
       "  <thead>\n",
       "    <tr style=\"text-align: right;\">\n",
       "      <th></th>\n",
       "      <th>Gender</th>\n",
       "      <th>Trip Duration</th>\n",
       "    </tr>\n",
       "  </thead>\n",
       "  <tbody>\n",
       "    <tr>\n",
       "      <th>0</th>\n",
       "      <td>1</td>\n",
       "      <td>1087</td>\n",
       "    </tr>\n",
       "    <tr>\n",
       "      <th>2</th>\n",
       "      <td>1</td>\n",
       "      <td>212</td>\n",
       "    </tr>\n",
       "    <tr>\n",
       "      <th>3</th>\n",
       "      <td>1</td>\n",
       "      <td>1140</td>\n",
       "    </tr>\n",
       "    <tr>\n",
       "      <th>4</th>\n",
       "      <td>1</td>\n",
       "      <td>320</td>\n",
       "    </tr>\n",
       "    <tr>\n",
       "      <th>5</th>\n",
       "      <td>1</td>\n",
       "      <td>277</td>\n",
       "    </tr>\n",
       "    <tr>\n",
       "      <th>...</th>\n",
       "      <td>...</td>\n",
       "      <td>...</td>\n",
       "    </tr>\n",
       "    <tr>\n",
       "      <th>791642</th>\n",
       "      <td>1</td>\n",
       "      <td>267</td>\n",
       "    </tr>\n",
       "    <tr>\n",
       "      <th>791643</th>\n",
       "      <td>1</td>\n",
       "      <td>621</td>\n",
       "    </tr>\n",
       "    <tr>\n",
       "      <th>791644</th>\n",
       "      <td>1</td>\n",
       "      <td>612</td>\n",
       "    </tr>\n",
       "    <tr>\n",
       "      <th>791645</th>\n",
       "      <td>1</td>\n",
       "      <td>654</td>\n",
       "    </tr>\n",
       "    <tr>\n",
       "      <th>791646</th>\n",
       "      <td>1</td>\n",
       "      <td>1554</td>\n",
       "    </tr>\n",
       "  </tbody>\n",
       "</table>\n",
       "<p>731649 rows × 2 columns</p>\n",
       "</div>"
      ],
      "text/plain": [
       "        Gender  Trip Duration\n",
       "0            1           1087\n",
       "2            1            212\n",
       "3            1           1140\n",
       "4            1            320\n",
       "5            1            277\n",
       "...        ...            ...\n",
       "791642       1            267\n",
       "791643       1            621\n",
       "791644       1            612\n",
       "791645       1            654\n",
       "791646       1           1554\n",
       "\n",
       "[731649 rows x 2 columns]"
      ]
     },
     "execution_count": 87,
     "metadata": {},
     "output_type": "execute_result"
    }
   ],
   "source": [
    "question = pd.DataFrame(citibike_3, columns= ['Gender', 'Trip Duration'])\n",
    "question"
   ]
  },
  {
   "cell_type": "code",
   "execution_count": 88,
   "metadata": {},
   "outputs": [
    {
     "data": {
      "text/html": [
       "<div>\n",
       "<style scoped>\n",
       "    .dataframe tbody tr th:only-of-type {\n",
       "        vertical-align: middle;\n",
       "    }\n",
       "\n",
       "    .dataframe tbody tr th {\n",
       "        vertical-align: top;\n",
       "    }\n",
       "\n",
       "    .dataframe thead th {\n",
       "        text-align: right;\n",
       "    }\n",
       "</style>\n",
       "<table border=\"1\" class=\"dataframe\">\n",
       "  <thead>\n",
       "    <tr style=\"text-align: right;\">\n",
       "      <th></th>\n",
       "      <th>Gender</th>\n",
       "      <th>Trip Duration</th>\n",
       "    </tr>\n",
       "  </thead>\n",
       "  <tbody>\n",
       "    <tr>\n",
       "      <th>0</th>\n",
       "      <td>1</td>\n",
       "      <td>402478900</td>\n",
       "    </tr>\n",
       "    <tr>\n",
       "      <th>1</th>\n",
       "      <td>2</td>\n",
       "      <td>141234122</td>\n",
       "    </tr>\n",
       "  </tbody>\n",
       "</table>\n",
       "</div>"
      ],
      "text/plain": [
       "   Gender  Trip Duration\n",
       "0       1      402478900\n",
       "1       2      141234122"
      ]
     },
     "execution_count": 88,
     "metadata": {},
     "output_type": "execute_result"
    }
   ],
   "source": [
    "question.groupby(['Gender'],as_index= False )['Trip Duration'].sum()"
   ]
  },
  {
   "cell_type": "code",
   "execution_count": 89,
   "metadata": {},
   "outputs": [
    {
     "data": {
      "text/html": [
       "<div>\n",
       "<style scoped>\n",
       "    .dataframe tbody tr th:only-of-type {\n",
       "        vertical-align: middle;\n",
       "    }\n",
       "\n",
       "    .dataframe tbody tr th {\n",
       "        vertical-align: top;\n",
       "    }\n",
       "\n",
       "    .dataframe thead th {\n",
       "        text-align: right;\n",
       "    }\n",
       "</style>\n",
       "<table border=\"1\" class=\"dataframe\">\n",
       "  <thead>\n",
       "    <tr style=\"text-align: right;\">\n",
       "      <th></th>\n",
       "      <th>Gender</th>\n",
       "      <th>Trip Duration</th>\n",
       "    </tr>\n",
       "  </thead>\n",
       "  <tbody>\n",
       "    <tr>\n",
       "      <th>0</th>\n",
       "      <td>1</td>\n",
       "      <td>715.602008</td>\n",
       "    </tr>\n",
       "    <tr>\n",
       "      <th>1</th>\n",
       "      <td>2</td>\n",
       "      <td>834.643040</td>\n",
       "    </tr>\n",
       "  </tbody>\n",
       "</table>\n",
       "</div>"
      ],
      "text/plain": [
       "   Gender  Trip Duration\n",
       "0       1     715.602008\n",
       "1       2     834.643040"
      ]
     },
     "execution_count": 89,
     "metadata": {},
     "output_type": "execute_result"
    }
   ],
   "source": [
    "question.groupby(['Gender'],as_index= False )['Trip Duration'].mean()"
   ]
  },
  {
   "cell_type": "code",
   "execution_count": 90,
   "metadata": {},
   "outputs": [
    {
     "data": {
      "text/html": [
       "<div>\n",
       "<style scoped>\n",
       "    .dataframe tbody tr th:only-of-type {\n",
       "        vertical-align: middle;\n",
       "    }\n",
       "\n",
       "    .dataframe tbody tr th {\n",
       "        vertical-align: top;\n",
       "    }\n",
       "\n",
       "    .dataframe thead th {\n",
       "        text-align: right;\n",
       "    }\n",
       "</style>\n",
       "<table border=\"1\" class=\"dataframe\">\n",
       "  <thead>\n",
       "    <tr style=\"text-align: right;\">\n",
       "      <th></th>\n",
       "      <th>Gender</th>\n",
       "      <th>Trip Duration</th>\n",
       "    </tr>\n",
       "  </thead>\n",
       "  <tbody>\n",
       "    <tr>\n",
       "      <th>0</th>\n",
       "      <td>1</td>\n",
       "      <td>2836964</td>\n",
       "    </tr>\n",
       "    <tr>\n",
       "      <th>1</th>\n",
       "      <td>2</td>\n",
       "      <td>2112060</td>\n",
       "    </tr>\n",
       "  </tbody>\n",
       "</table>\n",
       "</div>"
      ],
      "text/plain": [
       "   Gender  Trip Duration\n",
       "0       1        2836964\n",
       "1       2        2112060"
      ]
     },
     "execution_count": 90,
     "metadata": {},
     "output_type": "execute_result"
    }
   ],
   "source": [
    "question.groupby(['Gender'],as_index= False )['Trip Duration'].max()"
   ]
  },
  {
   "cell_type": "code",
   "execution_count": 91,
   "metadata": {},
   "outputs": [
    {
     "data": {
      "text/html": [
       "<div>\n",
       "<style scoped>\n",
       "    .dataframe tbody tr th:only-of-type {\n",
       "        vertical-align: middle;\n",
       "    }\n",
       "\n",
       "    .dataframe tbody tr th {\n",
       "        vertical-align: top;\n",
       "    }\n",
       "\n",
       "    .dataframe thead th {\n",
       "        text-align: right;\n",
       "    }\n",
       "</style>\n",
       "<table border=\"1\" class=\"dataframe\">\n",
       "  <thead>\n",
       "    <tr style=\"text-align: right;\">\n",
       "      <th></th>\n",
       "      <th>Gender</th>\n",
       "      <th>Trip Duration</th>\n",
       "    </tr>\n",
       "  </thead>\n",
       "  <tbody>\n",
       "    <tr>\n",
       "      <th>0</th>\n",
       "      <td>1</td>\n",
       "      <td>61</td>\n",
       "    </tr>\n",
       "    <tr>\n",
       "      <th>1</th>\n",
       "      <td>2</td>\n",
       "      <td>61</td>\n",
       "    </tr>\n",
       "  </tbody>\n",
       "</table>\n",
       "</div>"
      ],
      "text/plain": [
       "   Gender  Trip Duration\n",
       "0       1             61\n",
       "1       2             61"
      ]
     },
     "execution_count": 91,
     "metadata": {},
     "output_type": "execute_result"
    }
   ],
   "source": [
    "question.groupby(['Gender'],as_index= False )['Trip Duration'].min()"
   ]
  },
  {
   "cell_type": "raw",
   "metadata": {},
   "source": [
    "Berdasarkan data diatas menunjukan bahwa trip durasi cowok lebih banyak dibanding cewek hal ini dikarenakan julmah penguna cowok lebih banyak tetapi rata-rata trip durasi cewek lebih lama dibanding yang cowok"
   ]
  },
  {
   "cell_type": "markdown",
   "metadata": {
    "id": "mdHWnLnZonBM"
   },
   "source": [
    "# Submit Instructions\n",
    "Rename this notebook to `mod2_<first_name>_<last_name>.ipynb` and push this to your branch in module-2 repository\n",
    "\n",
    "```\n",
    "git checkout -b tanyani\n",
    "git add mod2_tanya_nabila.ipynb\n",
    "git commit -m 'submit mod2 assignment for Tanya Nabila'\n",
    "git push\n",
    "```"
   ]
  },
  {
   "cell_type": "code",
   "execution_count": null,
   "metadata": {
    "id": "uI9NlU81onBM"
   },
   "outputs": [],
   "source": []
  },
  {
   "cell_type": "code",
   "execution_count": null,
   "metadata": {},
   "outputs": [],
   "source": []
  }
 ],
 "metadata": {
  "colab": {
   "collapsed_sections": [],
   "name": "Klasa.ipynb",
   "provenance": []
  },
  "interpreter": {
   "hash": "52b78d8e2db875985b812709016d1a544e51f9f88c2ad8d2c099fce058451922"
  },
  "kernelspec": {
   "display_name": "Python 3",
   "language": "python",
   "name": "python3"
  },
  "language_info": {
   "codemirror_mode": {
    "name": "ipython",
    "version": 3
   },
   "file_extension": ".py",
   "mimetype": "text/x-python",
   "name": "python",
   "nbconvert_exporter": "python",
   "pygments_lexer": "ipython3",
   "version": "3.8.8"
  }
 },
 "nbformat": 4,
 "nbformat_minor": 1
}
